{
 "cells": [
  {
   "cell_type": "code",
   "execution_count": 1,
   "id": "55b8c61e",
   "metadata": {
    "_cell_guid": "b1076dfc-b9ad-4769-8c92-a6c4dae69d19",
    "_uuid": "8f2839f25d086af736a60e9eeb907d3b93b6e0e5",
    "execution": {
     "iopub.execute_input": "2023-02-27T14:51:21.289886Z",
     "iopub.status.busy": "2023-02-27T14:51:21.289141Z",
     "iopub.status.idle": "2023-02-27T14:51:21.306173Z",
     "shell.execute_reply": "2023-02-27T14:51:21.304407Z"
    },
    "papermill": {
     "duration": 0.029925,
     "end_time": "2023-02-27T14:51:21.309000",
     "exception": false,
     "start_time": "2023-02-27T14:51:21.279075",
     "status": "completed"
    },
    "tags": []
   },
   "outputs": [
    {
     "name": "stdout",
     "output_type": "stream",
     "text": [
      "/kaggle/input/enigma-ps1/4FGL_DR3_Dataset_Enigma.csv\n"
     ]
    }
   ],
   "source": [
    "# This Python 3 environment comes with many helpful analytics libraries installed\n",
    "# It is defined by the kaggle/python Docker image: https://github.com/kaggle/docker-python\n",
    "# For example, here's several helpful packages to load\n",
    "\n",
    "import numpy as np # linear algebra\n",
    "import pandas as pd # data processing, CSV file I/O (e.g. pd.read_csv)\n",
    "\n",
    "# Input data files are available in the read-only \"../input/\" directory\n",
    "# For example, running this (by clicking run or pressing Shift+Enter) will list all files under the input directory\n",
    "\n",
    "import os\n",
    "for dirname, _, filenames in os.walk('/kaggle/input'):\n",
    "    for filename in filenames:\n",
    "        print(os.path.join(dirname, filename))\n",
    "\n",
    "# You can write up to 20GB to the current directory (/kaggle/working/) that gets preserved as output when you create a version using \"Save & Run All\" \n",
    "# You can also write temporary files to /kaggle/temp/, but they won't be saved outside of the current session"
   ]
  },
  {
   "cell_type": "code",
   "execution_count": 2,
   "id": "814349b0",
   "metadata": {
    "execution": {
     "iopub.execute_input": "2023-02-27T14:51:21.324538Z",
     "iopub.status.busy": "2023-02-27T14:51:21.324107Z",
     "iopub.status.idle": "2023-02-27T14:51:21.447262Z",
     "shell.execute_reply": "2023-02-27T14:51:21.446231Z"
    },
    "papermill": {
     "duration": 0.133859,
     "end_time": "2023-02-27T14:51:21.449858",
     "exception": false,
     "start_time": "2023-02-27T14:51:21.315999",
     "status": "completed"
    },
    "tags": []
   },
   "outputs": [
    {
     "data": {
      "text/html": [
       "<div>\n",
       "<style scoped>\n",
       "    .dataframe tbody tr th:only-of-type {\n",
       "        vertical-align: middle;\n",
       "    }\n",
       "\n",
       "    .dataframe tbody tr th {\n",
       "        vertical-align: top;\n",
       "    }\n",
       "\n",
       "    .dataframe thead th {\n",
       "        text-align: right;\n",
       "    }\n",
       "</style>\n",
       "<table border=\"1\" class=\"dataframe\">\n",
       "  <thead>\n",
       "    <tr style=\"text-align: right;\">\n",
       "      <th></th>\n",
       "      <th>Unnamed: 0</th>\n",
       "      <th>Name</th>\n",
       "      <th>RA (deg)</th>\n",
       "      <th>DEC (deg)</th>\n",
       "      <th>Signif_Avg</th>\n",
       "      <th>Pivot_Energy</th>\n",
       "      <th>Flux1000</th>\n",
       "      <th>Energy_Flux100</th>\n",
       "      <th>PL_Flux_Density</th>\n",
       "      <th>PL_Index</th>\n",
       "      <th>...</th>\n",
       "      <th>PLEC_Flux_Density</th>\n",
       "      <th>PLEC_IndexS</th>\n",
       "      <th>PLEC_ExpfactorS</th>\n",
       "      <th>PLEC_Exp_Index</th>\n",
       "      <th>PLEC_SigCurv</th>\n",
       "      <th>Npred</th>\n",
       "      <th>Variability_Index</th>\n",
       "      <th>Frac_Variability</th>\n",
       "      <th>CLASS1</th>\n",
       "      <th>CLASS2</th>\n",
       "    </tr>\n",
       "  </thead>\n",
       "  <tbody>\n",
       "    <tr>\n",
       "      <th>0</th>\n",
       "      <td>0</td>\n",
       "      <td>4FGL J0000.3-7355</td>\n",
       "      <td>0.0983</td>\n",
       "      <td>0.0983</td>\n",
       "      <td>7.459561</td>\n",
       "      <td>2329.5903</td>\n",
       "      <td>1.392216e-10</td>\n",
       "      <td>1.581099e-12</td>\n",
       "      <td>2.610434e-14</td>\n",
       "      <td>2.179690</td>\n",
       "      <td>...</td>\n",
       "      <td>2.918480e-14</td>\n",
       "      <td>1.993013</td>\n",
       "      <td>0.150609</td>\n",
       "      <td>0.666667</td>\n",
       "      <td>1.292339</td>\n",
       "      <td>305.21463</td>\n",
       "      <td>14.602470</td>\n",
       "      <td>0.215777</td>\n",
       "      <td></td>\n",
       "      <td></td>\n",
       "    </tr>\n",
       "    <tr>\n",
       "      <th>1</th>\n",
       "      <td>1</td>\n",
       "      <td>4FGL J0000.5+0743</td>\n",
       "      <td>0.1375</td>\n",
       "      <td>0.1375</td>\n",
       "      <td>5.271726</td>\n",
       "      <td>1304.1947</td>\n",
       "      <td>1.951913e-10</td>\n",
       "      <td>1.121896e-12</td>\n",
       "      <td>1.039931e-13</td>\n",
       "      <td>2.349694</td>\n",
       "      <td>...</td>\n",
       "      <td>1.475405e-13</td>\n",
       "      <td>1.998095</td>\n",
       "      <td>0.586220</td>\n",
       "      <td>0.666667</td>\n",
       "      <td>2.532814</td>\n",
       "      <td>197.24410</td>\n",
       "      <td>25.399525</td>\n",
       "      <td>0.687574</td>\n",
       "      <td></td>\n",
       "      <td></td>\n",
       "    </tr>\n",
       "    <tr>\n",
       "      <th>2</th>\n",
       "      <td>2</td>\n",
       "      <td>4FGL J0000.7+2530</td>\n",
       "      <td>0.1878</td>\n",
       "      <td>0.1878</td>\n",
       "      <td>4.177483</td>\n",
       "      <td>6318.9400</td>\n",
       "      <td>7.202151e-11</td>\n",
       "      <td>8.571274e-13</td>\n",
       "      <td>2.058057e-15</td>\n",
       "      <td>1.852803</td>\n",
       "      <td>...</td>\n",
       "      <td>3.079466e-15</td>\n",
       "      <td>1.507830</td>\n",
       "      <td>0.720244</td>\n",
       "      <td>0.666667</td>\n",
       "      <td>1.562938</td>\n",
       "      <td>87.70652</td>\n",
       "      <td>13.650518</td>\n",
       "      <td>0.000000</td>\n",
       "      <td></td>\n",
       "      <td></td>\n",
       "    </tr>\n",
       "    <tr>\n",
       "      <th>3</th>\n",
       "      <td>3</td>\n",
       "      <td>4FGL J0001.2+4741</td>\n",
       "      <td>0.3126</td>\n",
       "      <td>0.3126</td>\n",
       "      <td>4.692600</td>\n",
       "      <td>2420.5752</td>\n",
       "      <td>1.259796e-10</td>\n",
       "      <td>1.499454e-12</td>\n",
       "      <td>2.156031e-14</td>\n",
       "      <td>2.271696</td>\n",
       "      <td>...</td>\n",
       "      <td>2.228697e-14</td>\n",
       "      <td>2.219642</td>\n",
       "      <td>0.029462</td>\n",
       "      <td>0.666667</td>\n",
       "      <td>0.337723</td>\n",
       "      <td>293.14978</td>\n",
       "      <td>25.313953</td>\n",
       "      <td>0.675882</td>\n",
       "      <td>bcu</td>\n",
       "      <td></td>\n",
       "    </tr>\n",
       "    <tr>\n",
       "      <th>4</th>\n",
       "      <td>4</td>\n",
       "      <td>4FGL J0001.2-0747</td>\n",
       "      <td>0.3151</td>\n",
       "      <td>0.3151</td>\n",
       "      <td>23.782486</td>\n",
       "      <td>1721.6039</td>\n",
       "      <td>7.471219e-10</td>\n",
       "      <td>8.339171e-12</td>\n",
       "      <td>2.656894e-13</td>\n",
       "      <td>2.116692</td>\n",
       "      <td>...</td>\n",
       "      <td>2.813444e-13</td>\n",
       "      <td>2.046604</td>\n",
       "      <td>0.063212</td>\n",
       "      <td>0.666667</td>\n",
       "      <td>1.892928</td>\n",
       "      <td>1192.35190</td>\n",
       "      <td>46.780693</td>\n",
       "      <td>0.406565</td>\n",
       "      <td>bll</td>\n",
       "      <td></td>\n",
       "    </tr>\n",
       "  </tbody>\n",
       "</table>\n",
       "<p>5 rows × 24 columns</p>\n",
       "</div>"
      ],
      "text/plain": [
       "   Unnamed: 0                Name  RA (deg)  DEC (deg)  Signif_Avg  \\\n",
       "0           0  4FGL J0000.3-7355     0.0983     0.0983    7.459561   \n",
       "1           1  4FGL J0000.5+0743     0.1375     0.1375    5.271726   \n",
       "2           2  4FGL J0000.7+2530     0.1878     0.1878    4.177483   \n",
       "3           3  4FGL J0001.2+4741     0.3126     0.3126    4.692600   \n",
       "4           4  4FGL J0001.2-0747     0.3151     0.3151   23.782486   \n",
       "\n",
       "   Pivot_Energy      Flux1000  Energy_Flux100  PL_Flux_Density  PL_Index  ...  \\\n",
       "0     2329.5903  1.392216e-10    1.581099e-12     2.610434e-14  2.179690  ...   \n",
       "1     1304.1947  1.951913e-10    1.121896e-12     1.039931e-13  2.349694  ...   \n",
       "2     6318.9400  7.202151e-11    8.571274e-13     2.058057e-15  1.852803  ...   \n",
       "3     2420.5752  1.259796e-10    1.499454e-12     2.156031e-14  2.271696  ...   \n",
       "4     1721.6039  7.471219e-10    8.339171e-12     2.656894e-13  2.116692  ...   \n",
       "\n",
       "   PLEC_Flux_Density  PLEC_IndexS  PLEC_ExpfactorS  PLEC_Exp_Index  \\\n",
       "0       2.918480e-14     1.993013         0.150609        0.666667   \n",
       "1       1.475405e-13     1.998095         0.586220        0.666667   \n",
       "2       3.079466e-15     1.507830         0.720244        0.666667   \n",
       "3       2.228697e-14     2.219642         0.029462        0.666667   \n",
       "4       2.813444e-13     2.046604         0.063212        0.666667   \n",
       "\n",
       "   PLEC_SigCurv       Npred  Variability_Index  Frac_Variability  CLASS1  \\\n",
       "0      1.292339   305.21463          14.602470          0.215777           \n",
       "1      2.532814   197.24410          25.399525          0.687574           \n",
       "2      1.562938    87.70652          13.650518          0.000000           \n",
       "3      0.337723   293.14978          25.313953          0.675882   bcu     \n",
       "4      1.892928  1192.35190          46.780693          0.406565   bll     \n",
       "\n",
       "       CLASS2  \n",
       "0              \n",
       "1              \n",
       "2              \n",
       "3              \n",
       "4              \n",
       "\n",
       "[5 rows x 24 columns]"
      ]
     },
     "execution_count": 2,
     "metadata": {},
     "output_type": "execute_result"
    }
   ],
   "source": [
    "train_data=pd.read_csv('/kaggle/input/enigma-ps1/4FGL_DR3_Dataset_Enigma.csv')\n",
    "train_data.head()"
   ]
  },
  {
   "cell_type": "markdown",
   "id": "e17858bc",
   "metadata": {
    "papermill": {
     "duration": 0.006741,
     "end_time": "2023-02-27T14:51:21.464029",
     "exception": false,
     "start_time": "2023-02-27T14:51:21.457288",
     "status": "completed"
    },
    "tags": []
   },
   "source": [
    "finding out the shape etc of the dataset to make it easier"
   ]
  },
  {
   "cell_type": "code",
   "execution_count": 3,
   "id": "7fd5d9b6",
   "metadata": {
    "execution": {
     "iopub.execute_input": "2023-02-27T14:51:21.481002Z",
     "iopub.status.busy": "2023-02-27T14:51:21.480542Z",
     "iopub.status.idle": "2023-02-27T14:51:21.487590Z",
     "shell.execute_reply": "2023-02-27T14:51:21.486387Z"
    },
    "papermill": {
     "duration": 0.018602,
     "end_time": "2023-02-27T14:51:21.490190",
     "exception": false,
     "start_time": "2023-02-27T14:51:21.471588",
     "status": "completed"
    },
    "tags": []
   },
   "outputs": [
    {
     "data": {
      "text/plain": [
       "(6659, 24)"
      ]
     },
     "execution_count": 3,
     "metadata": {},
     "output_type": "execute_result"
    }
   ],
   "source": [
    "train_data.shape"
   ]
  },
  {
   "cell_type": "code",
   "execution_count": 4,
   "id": "72d78f71",
   "metadata": {
    "execution": {
     "iopub.execute_input": "2023-02-27T14:51:21.507006Z",
     "iopub.status.busy": "2023-02-27T14:51:21.505909Z",
     "iopub.status.idle": "2023-02-27T14:51:21.517403Z",
     "shell.execute_reply": "2023-02-27T14:51:21.516170Z"
    },
    "papermill": {
     "duration": 0.022493,
     "end_time": "2023-02-27T14:51:21.519915",
     "exception": false,
     "start_time": "2023-02-27T14:51:21.497422",
     "status": "completed"
    },
    "tags": []
   },
   "outputs": [
    {
     "data": {
      "text/plain": [
       "0         \n",
       "1         \n",
       "2         \n",
       "3    bcu  \n",
       "4    bll  \n",
       "Name: CLASS1, dtype: object"
      ]
     },
     "execution_count": 4,
     "metadata": {},
     "output_type": "execute_result"
    }
   ],
   "source": [
    "train_data['CLASS1'].head()"
   ]
  },
  {
   "cell_type": "markdown",
   "id": "546c34ea",
   "metadata": {
    "papermill": {
     "duration": 0.007076,
     "end_time": "2023-02-27T14:51:21.534388",
     "exception": false,
     "start_time": "2023-02-27T14:51:21.527312",
     "status": "completed"
    },
    "tags": []
   },
   "source": [
    "check the null values"
   ]
  },
  {
   "cell_type": "code",
   "execution_count": 5,
   "id": "dee2271d",
   "metadata": {
    "execution": {
     "iopub.execute_input": "2023-02-27T14:51:21.551238Z",
     "iopub.status.busy": "2023-02-27T14:51:21.550762Z",
     "iopub.status.idle": "2023-02-27T14:51:21.559881Z",
     "shell.execute_reply": "2023-02-27T14:51:21.558916Z"
    },
    "papermill": {
     "duration": 0.020604,
     "end_time": "2023-02-27T14:51:21.562176",
     "exception": false,
     "start_time": "2023-02-27T14:51:21.541572",
     "status": "completed"
    },
    "tags": []
   },
   "outputs": [
    {
     "data": {
      "text/plain": [
       "0       False\n",
       "1       False\n",
       "2       False\n",
       "3       False\n",
       "4       False\n",
       "        ...  \n",
       "6654    False\n",
       "6655    False\n",
       "6656    False\n",
       "6657    False\n",
       "6658    False\n",
       "Name: CLASS1, Length: 6659, dtype: bool"
      ]
     },
     "execution_count": 5,
     "metadata": {},
     "output_type": "execute_result"
    }
   ],
   "source": [
    "train_data['CLASS1'].isnull()"
   ]
  },
  {
   "cell_type": "code",
   "execution_count": 6,
   "id": "c3dd4bd1",
   "metadata": {
    "execution": {
     "iopub.execute_input": "2023-02-27T14:51:21.580147Z",
     "iopub.status.busy": "2023-02-27T14:51:21.579704Z",
     "iopub.status.idle": "2023-02-27T14:51:21.589441Z",
     "shell.execute_reply": "2023-02-27T14:51:21.587968Z"
    },
    "papermill": {
     "duration": 0.022128,
     "end_time": "2023-02-27T14:51:21.591833",
     "exception": false,
     "start_time": "2023-02-27T14:51:21.569705",
     "status": "completed"
    },
    "tags": []
   },
   "outputs": [
    {
     "data": {
      "text/plain": [
       "'     '"
      ]
     },
     "execution_count": 6,
     "metadata": {},
     "output_type": "execute_result"
    }
   ],
   "source": [
    "train_data.loc[2,'CLASS1']"
   ]
  },
  {
   "cell_type": "markdown",
   "id": "a31a80e0",
   "metadata": {
    "papermill": {
     "duration": 0.007322,
     "end_time": "2023-02-27T14:51:21.606988",
     "exception": false,
     "start_time": "2023-02-27T14:51:21.599666",
     "status": "completed"
    },
    "tags": []
   },
   "source": [
    "finding the unique values for the classes"
   ]
  },
  {
   "cell_type": "code",
   "execution_count": 7,
   "id": "a2fb1856",
   "metadata": {
    "execution": {
     "iopub.execute_input": "2023-02-27T14:51:21.623889Z",
     "iopub.status.busy": "2023-02-27T14:51:21.623447Z",
     "iopub.status.idle": "2023-02-27T14:51:21.636581Z",
     "shell.execute_reply": "2023-02-27T14:51:21.635360Z"
    },
    "papermill": {
     "duration": 0.024341,
     "end_time": "2023-02-27T14:51:21.638913",
     "exception": false,
     "start_time": "2023-02-27T14:51:21.614572",
     "status": "completed"
    },
    "tags": []
   },
   "outputs": [
    {
     "data": {
      "text/plain": [
       "array(['     ', 'bcu  ', 'bll  ', 'fsrq ', 'unk  ', 'spp  ', 'PSR  ',\n",
       "       'rdg  ', 'agn  ', 'FSRQ ', 'MSP  ', 'glc  ', 'snr  ', 'gal  ',\n",
       "       'sbg  ', 'BLL  ', 'GAL  ', 'sfr  ', 'bin  ', 'SNR  ', 'HMB  ',\n",
       "       'RDG  ', 'nlsy1', 'msp  ', 'lmb  ', 'NOV  ', 'LMB  ', 'css  ',\n",
       "       'AGN  ', 'PWN  ', 'pwn  ', 'BCU  ', 'hmb  ', 'ssrq ', 'NLSY1',\n",
       "       'psr  ', 'SFR  ', 'BIN  ', 'sey  ', 'GC   '], dtype=object)"
      ]
     },
     "execution_count": 7,
     "metadata": {},
     "output_type": "execute_result"
    }
   ],
   "source": [
    "df=train_data.copy()\n",
    "uni=train_data['CLASS1'].unique()\n",
    "uni"
   ]
  },
  {
   "cell_type": "code",
   "execution_count": 8,
   "id": "cb90d87e",
   "metadata": {
    "execution": {
     "iopub.execute_input": "2023-02-27T14:51:21.656051Z",
     "iopub.status.busy": "2023-02-27T14:51:21.655623Z",
     "iopub.status.idle": "2023-02-27T14:51:21.661110Z",
     "shell.execute_reply": "2023-02-27T14:51:21.660035Z"
    },
    "papermill": {
     "duration": 0.017145,
     "end_time": "2023-02-27T14:51:21.663664",
     "exception": false,
     "start_time": "2023-02-27T14:51:21.646519",
     "status": "completed"
    },
    "tags": []
   },
   "outputs": [],
   "source": [
    "uni_doc = ['agn', 'bcu', 'bin', 'bll', 'css', 'fsrq', 'gal', 'glc', 'hmb', 'mc', 'nlsy1', 'nov', 'PSR', 'psr', 'pwn', 'rdg', 'sbg', 'sey', 'sfr', 'snr', 'spp', 'ssrq', 'unk']"
   ]
  },
  {
   "cell_type": "markdown",
   "id": "10f1e953",
   "metadata": {
    "papermill": {
     "duration": 0.00732,
     "end_time": "2023-02-27T14:51:21.678869",
     "exception": false,
     "start_time": "2023-02-27T14:51:21.671549",
     "status": "completed"
    },
    "tags": []
   },
   "source": [
    "find the unique values in the list"
   ]
  },
  {
   "cell_type": "code",
   "execution_count": 9,
   "id": "2e469186",
   "metadata": {
    "execution": {
     "iopub.execute_input": "2023-02-27T14:51:21.695411Z",
     "iopub.status.busy": "2023-02-27T14:51:21.694993Z",
     "iopub.status.idle": "2023-02-27T14:51:21.701193Z",
     "shell.execute_reply": "2023-02-27T14:51:21.699934Z"
    },
    "papermill": {
     "duration": 0.017213,
     "end_time": "2023-02-27T14:51:21.703501",
     "exception": false,
     "start_time": "2023-02-27T14:51:21.686288",
     "status": "completed"
    },
    "tags": []
   },
   "outputs": [
    {
     "name": "stdout",
     "output_type": "stream",
     "text": [
      "{'BIN  ', 'NOV  ', 'agn  ', 'PWN  ', 'PSR  ', 'gal  ', 'bin  ', 'GC   ', 'hmb  ', 'unk  ', 'css  ', 'SNR  ', 'sfr  ', 'BLL  ', 'MSP  ', 'AGN  ', 'spp  ', 'fsrq ', '     ', 'NLSY1', 'sbg  ', 'psr  ', 'ssrq ', 'sey  ', 'pwn  ', 'BCU  ', 'SFR  ', 'glc  ', 'RDG  ', 'rdg  ', 'LMB  ', 'lmb  ', 'bll  ', 'snr  ', 'bcu  ', 'FSRQ ', 'GAL  ', 'HMB  ', 'msp  '}\n"
     ]
    }
   ],
   "source": [
    "# find the elements in list1 that are not in list2\n",
    "diff1 = set(uni).difference(set(uni_doc))\n",
    "print(diff1)"
   ]
  },
  {
   "cell_type": "markdown",
   "id": "35f461ec",
   "metadata": {
    "papermill": {
     "duration": 0.007573,
     "end_time": "2023-02-27T14:51:21.718911",
     "exception": false,
     "start_time": "2023-02-27T14:51:21.711338",
     "status": "completed"
    },
    "tags": []
   },
   "source": [
    "finding the count of all the rows of each category in a column"
   ]
  },
  {
   "cell_type": "code",
   "execution_count": 10,
   "id": "d1cfc677",
   "metadata": {
    "execution": {
     "iopub.execute_input": "2023-02-27T14:51:21.736281Z",
     "iopub.status.busy": "2023-02-27T14:51:21.735603Z",
     "iopub.status.idle": "2023-02-27T14:51:21.743513Z",
     "shell.execute_reply": "2023-02-27T14:51:21.742387Z"
    },
    "papermill": {
     "duration": 0.019609,
     "end_time": "2023-02-27T14:51:21.746045",
     "exception": false,
     "start_time": "2023-02-27T14:51:21.726436",
     "status": "completed"
    },
    "tags": []
   },
   "outputs": [
    {
     "data": {
      "text/plain": [
       "array(['     ', 'bcu  ', 'bll  ', 'fsrq ', 'unk  ', 'spp  ', 'PSR  ',\n",
       "       'rdg  ', 'agn  ', 'FSRQ ', 'MSP  ', 'glc  ', 'snr  ', 'gal  ',\n",
       "       'sbg  ', 'BLL  ', 'GAL  ', 'sfr  ', 'bin  ', 'SNR  ', 'HMB  ',\n",
       "       'RDG  ', 'nlsy1', 'msp  ', 'lmb  ', 'NOV  ', 'LMB  ', 'css  ',\n",
       "       'AGN  ', 'PWN  ', 'pwn  ', 'BCU  ', 'hmb  ', 'ssrq ', 'NLSY1',\n",
       "       'psr  ', 'SFR  ', 'BIN  ', 'sey  ', 'GC   '], dtype=object)"
      ]
     },
     "execution_count": 10,
     "metadata": {},
     "output_type": "execute_result"
    }
   ],
   "source": [
    "df['CLASS1'].unique()"
   ]
  },
  {
   "cell_type": "code",
   "execution_count": 11,
   "id": "e6c4c589",
   "metadata": {
    "execution": {
     "iopub.execute_input": "2023-02-27T14:51:21.763497Z",
     "iopub.status.busy": "2023-02-27T14:51:21.763111Z",
     "iopub.status.idle": "2023-02-27T14:51:21.772983Z",
     "shell.execute_reply": "2023-02-27T14:51:21.771727Z"
    },
    "papermill": {
     "duration": 0.021636,
     "end_time": "2023-02-27T14:51:21.775503",
     "exception": false,
     "start_time": "2023-02-27T14:51:21.753867",
     "status": "completed"
    },
    "tags": []
   },
   "outputs": [
    {
     "data": {
      "text/plain": [
       "         2157\n",
       "bcu      1492\n",
       "bll      1434\n",
       "fsrq      750\n",
       "PSR       135\n",
       "unk       134\n",
       "MSP       120\n",
       "spp       114\n",
       "FSRQ       44\n",
       "rdg        39\n",
       "glc        35\n",
       "msp        35\n",
       "SNR        24\n",
       "BLL        22\n",
       "snr        19\n",
       "PWN        12\n",
       "pwn         8\n",
       "HMB         8\n",
       "agn         8\n",
       "sbg         8\n",
       "bin         6\n",
       "RDG         6\n",
       "lmb         6\n",
       "css         5\n",
       "NLSY1       4\n",
       "gal         4\n",
       "NOV         4\n",
       "nlsy1       4\n",
       "hmb         3\n",
       "SFR         3\n",
       "LMB         2\n",
       "sfr         2\n",
       "ssrq        2\n",
       "GAL         2\n",
       "psr         2\n",
       "sey         2\n",
       "AGN         1\n",
       "BCU         1\n",
       "BIN         1\n",
       "GC          1\n",
       "Name: CLASS1, dtype: int64"
      ]
     },
     "execution_count": 11,
     "metadata": {},
     "output_type": "execute_result"
    }
   ],
   "source": [
    "df['CLASS1'].value_counts()"
   ]
  },
  {
   "cell_type": "code",
   "execution_count": 12,
   "id": "15a57d56",
   "metadata": {
    "execution": {
     "iopub.execute_input": "2023-02-27T14:51:21.793403Z",
     "iopub.status.busy": "2023-02-27T14:51:21.792987Z",
     "iopub.status.idle": "2023-02-27T14:51:21.801506Z",
     "shell.execute_reply": "2023-02-27T14:51:21.800370Z"
    },
    "papermill": {
     "duration": 0.020177,
     "end_time": "2023-02-27T14:51:21.803711",
     "exception": false,
     "start_time": "2023-02-27T14:51:21.783534",
     "status": "completed"
    },
    "tags": []
   },
   "outputs": [
    {
     "data": {
      "text/plain": [
       "2157"
      ]
     },
     "execution_count": 12,
     "metadata": {},
     "output_type": "execute_result"
    }
   ],
   "source": [
    "df['CLASS1'].value_counts()['     ']"
   ]
  },
  {
   "cell_type": "code",
   "execution_count": 13,
   "id": "5a0dba48",
   "metadata": {
    "execution": {
     "iopub.execute_input": "2023-02-27T14:51:21.821666Z",
     "iopub.status.busy": "2023-02-27T14:51:21.821200Z",
     "iopub.status.idle": "2023-02-27T14:51:21.827826Z",
     "shell.execute_reply": "2023-02-27T14:51:21.826827Z"
    },
    "papermill": {
     "duration": 0.018287,
     "end_time": "2023-02-27T14:51:21.830044",
     "exception": false,
     "start_time": "2023-02-27T14:51:21.811757",
     "status": "completed"
    },
    "tags": []
   },
   "outputs": [
    {
     "data": {
      "text/plain": [
       "(6659, 24)"
      ]
     },
     "execution_count": 13,
     "metadata": {},
     "output_type": "execute_result"
    }
   ],
   "source": [
    "df.shape"
   ]
  },
  {
   "cell_type": "code",
   "execution_count": 14,
   "id": "76cabab5",
   "metadata": {
    "execution": {
     "iopub.execute_input": "2023-02-27T14:51:21.848188Z",
     "iopub.status.busy": "2023-02-27T14:51:21.847750Z",
     "iopub.status.idle": "2023-02-27T14:51:21.854824Z",
     "shell.execute_reply": "2023-02-27T14:51:21.853662Z"
    },
    "papermill": {
     "duration": 0.019087,
     "end_time": "2023-02-27T14:51:21.857317",
     "exception": false,
     "start_time": "2023-02-27T14:51:21.838230",
     "status": "completed"
    },
    "tags": []
   },
   "outputs": [
    {
     "data": {
      "text/plain": [
       "32.39225108875207"
      ]
     },
     "execution_count": 14,
     "metadata": {},
     "output_type": "execute_result"
    }
   ],
   "source": [
    "(2157/6659)*100"
   ]
  },
  {
   "cell_type": "code",
   "execution_count": 15,
   "id": "3847f6c4",
   "metadata": {
    "execution": {
     "iopub.execute_input": "2023-02-27T14:51:21.875785Z",
     "iopub.status.busy": "2023-02-27T14:51:21.875382Z",
     "iopub.status.idle": "2023-02-27T14:51:21.883450Z",
     "shell.execute_reply": "2023-02-27T14:51:21.882047Z"
    },
    "papermill": {
     "duration": 0.020213,
     "end_time": "2023-02-27T14:51:21.885843",
     "exception": false,
     "start_time": "2023-02-27T14:51:21.865630",
     "status": "completed"
    },
    "tags": []
   },
   "outputs": [],
   "source": [
    "df1=df.copy()\n",
    "df1['CLASS1'].replace({'     ': np.nan}, inplace=True)"
   ]
  },
  {
   "cell_type": "code",
   "execution_count": 16,
   "id": "a18243a2",
   "metadata": {
    "execution": {
     "iopub.execute_input": "2023-02-27T14:51:21.903902Z",
     "iopub.status.busy": "2023-02-27T14:51:21.903522Z",
     "iopub.status.idle": "2023-02-27T14:51:21.910994Z",
     "shell.execute_reply": "2023-02-27T14:51:21.909973Z"
    },
    "papermill": {
     "duration": 0.019192,
     "end_time": "2023-02-27T14:51:21.913211",
     "exception": false,
     "start_time": "2023-02-27T14:51:21.894019",
     "status": "completed"
    },
    "tags": []
   },
   "outputs": [
    {
     "data": {
      "text/plain": [
       "2157"
      ]
     },
     "execution_count": 16,
     "metadata": {},
     "output_type": "execute_result"
    }
   ],
   "source": [
    "df1['CLASS1'].isnull().sum()"
   ]
  },
  {
   "cell_type": "markdown",
   "id": "1630f2f7",
   "metadata": {
    "papermill": {
     "duration": 0.00796,
     "end_time": "2023-02-27T14:51:21.929537",
     "exception": false,
     "start_time": "2023-02-27T14:51:21.921577",
     "status": "completed"
    },
    "tags": []
   },
   "source": [
    "find the null values for the whole table "
   ]
  },
  {
   "cell_type": "code",
   "execution_count": 17,
   "id": "39f9ec64",
   "metadata": {
    "execution": {
     "iopub.execute_input": "2023-02-27T14:51:21.948231Z",
     "iopub.status.busy": "2023-02-27T14:51:21.947783Z",
     "iopub.status.idle": "2023-02-27T14:51:21.958497Z",
     "shell.execute_reply": "2023-02-27T14:51:21.957387Z"
    },
    "papermill": {
     "duration": 0.023024,
     "end_time": "2023-02-27T14:51:21.960770",
     "exception": false,
     "start_time": "2023-02-27T14:51:21.937746",
     "status": "completed"
    },
    "tags": []
   },
   "outputs": [
    {
     "data": {
      "text/plain": [
       "Unnamed: 0              0\n",
       "Name                    0\n",
       "RA (deg)                0\n",
       "DEC (deg)               0\n",
       "Signif_Avg              1\n",
       "Pivot_Energy            0\n",
       "Flux1000                0\n",
       "Energy_Flux100          0\n",
       "PL_Flux_Density         1\n",
       "PL_Index                1\n",
       "LP_Flux_Density         0\n",
       "LP_Index                0\n",
       "LP_beta                 0\n",
       "LP_SigCurv              0\n",
       "PLEC_Flux_Density       1\n",
       "PLEC_IndexS             1\n",
       "PLEC_ExpfactorS         1\n",
       "PLEC_Exp_Index          1\n",
       "PLEC_SigCurv            0\n",
       "Npred                   0\n",
       "Variability_Index       0\n",
       "Frac_Variability        0\n",
       "CLASS1               2157\n",
       "CLASS2                  0\n",
       "dtype: int64"
      ]
     },
     "execution_count": 17,
     "metadata": {},
     "output_type": "execute_result"
    }
   ],
   "source": [
    "df1.isnull().sum()"
   ]
  },
  {
   "cell_type": "code",
   "execution_count": 18,
   "id": "219311f7",
   "metadata": {
    "execution": {
     "iopub.execute_input": "2023-02-27T14:51:21.979952Z",
     "iopub.status.busy": "2023-02-27T14:51:21.979525Z",
     "iopub.status.idle": "2023-02-27T14:51:21.991163Z",
     "shell.execute_reply": "2023-02-27T14:51:21.990000Z"
    },
    "papermill": {
     "duration": 0.024428,
     "end_time": "2023-02-27T14:51:21.993618",
     "exception": false,
     "start_time": "2023-02-27T14:51:21.969190",
     "status": "completed"
    },
    "tags": []
   },
   "outputs": [
    {
     "data": {
      "text/plain": [
       "Unnamed: 0              0\n",
       "Name                    0\n",
       "RA (deg)                0\n",
       "DEC (deg)               0\n",
       "Signif_Avg              1\n",
       "Pivot_Energy            0\n",
       "Flux1000                0\n",
       "Energy_Flux100          0\n",
       "PL_Flux_Density         1\n",
       "PL_Index                1\n",
       "LP_Flux_Density         0\n",
       "LP_Index                0\n",
       "LP_beta                 0\n",
       "LP_SigCurv              0\n",
       "PLEC_Flux_Density       1\n",
       "PLEC_IndexS             1\n",
       "PLEC_ExpfactorS         1\n",
       "PLEC_Exp_Index          1\n",
       "PLEC_SigCurv            0\n",
       "Npred                   0\n",
       "Variability_Index       0\n",
       "Frac_Variability        0\n",
       "CLASS1               2157\n",
       "CLASS2                  0\n",
       "dtype: int64"
      ]
     },
     "execution_count": 18,
     "metadata": {},
     "output_type": "execute_result"
    }
   ],
   "source": [
    "df1.isna().sum()"
   ]
  },
  {
   "cell_type": "code",
   "execution_count": 19,
   "id": "142dcd06",
   "metadata": {
    "execution": {
     "iopub.execute_input": "2023-02-27T14:51:22.012939Z",
     "iopub.status.busy": "2023-02-27T14:51:22.012471Z",
     "iopub.status.idle": "2023-02-27T14:51:22.018094Z",
     "shell.execute_reply": "2023-02-27T14:51:22.016720Z"
    },
    "papermill": {
     "duration": 0.018525,
     "end_time": "2023-02-27T14:51:22.020894",
     "exception": false,
     "start_time": "2023-02-27T14:51:22.002369",
     "status": "completed"
    },
    "tags": []
   },
   "outputs": [],
   "source": [
    "null_list=['Signif_Avg','PL_Flux_Density','PL_Index','PLEC_Flux_Density','PLEC_IndexS','PLEC_ExpfactorS','PLEC_Exp_Index']"
   ]
  },
  {
   "cell_type": "markdown",
   "id": "acb453d0",
   "metadata": {
    "papermill": {
     "duration": 0.00841,
     "end_time": "2023-02-27T14:51:22.037966",
     "exception": false,
     "start_time": "2023-02-27T14:51:22.029556",
     "status": "completed"
    },
    "tags": []
   },
   "source": [
    "dropping null values in the table"
   ]
  },
  {
   "cell_type": "code",
   "execution_count": 20,
   "id": "8cbac158",
   "metadata": {
    "execution": {
     "iopub.execute_input": "2023-02-27T14:51:22.057351Z",
     "iopub.status.busy": "2023-02-27T14:51:22.056973Z",
     "iopub.status.idle": "2023-02-27T14:51:22.067482Z",
     "shell.execute_reply": "2023-02-27T14:51:22.066181Z"
    },
    "papermill": {
     "duration": 0.023334,
     "end_time": "2023-02-27T14:51:22.070075",
     "exception": false,
     "start_time": "2023-02-27T14:51:22.046741",
     "status": "completed"
    },
    "tags": []
   },
   "outputs": [],
   "source": [
    "df1= df1.dropna(subset=null_list)"
   ]
  },
  {
   "cell_type": "code",
   "execution_count": 21,
   "id": "64b9f6ee",
   "metadata": {
    "execution": {
     "iopub.execute_input": "2023-02-27T14:51:22.089417Z",
     "iopub.status.busy": "2023-02-27T14:51:22.089028Z",
     "iopub.status.idle": "2023-02-27T14:51:22.100263Z",
     "shell.execute_reply": "2023-02-27T14:51:22.099269Z"
    },
    "papermill": {
     "duration": 0.023923,
     "end_time": "2023-02-27T14:51:22.102685",
     "exception": false,
     "start_time": "2023-02-27T14:51:22.078762",
     "status": "completed"
    },
    "tags": []
   },
   "outputs": [
    {
     "data": {
      "text/plain": [
       "Unnamed: 0              0\n",
       "Name                    0\n",
       "RA (deg)                0\n",
       "DEC (deg)               0\n",
       "Signif_Avg              0\n",
       "Pivot_Energy            0\n",
       "Flux1000                0\n",
       "Energy_Flux100          0\n",
       "PL_Flux_Density         0\n",
       "PL_Index                0\n",
       "LP_Flux_Density         0\n",
       "LP_Index                0\n",
       "LP_beta                 0\n",
       "LP_SigCurv              0\n",
       "PLEC_Flux_Density       0\n",
       "PLEC_IndexS             0\n",
       "PLEC_ExpfactorS         0\n",
       "PLEC_Exp_Index          0\n",
       "PLEC_SigCurv            0\n",
       "Npred                   0\n",
       "Variability_Index       0\n",
       "Frac_Variability        0\n",
       "CLASS1               2157\n",
       "CLASS2                  0\n",
       "dtype: int64"
      ]
     },
     "execution_count": 21,
     "metadata": {},
     "output_type": "execute_result"
    }
   ],
   "source": [
    "df1.isnull().sum()"
   ]
  },
  {
   "cell_type": "code",
   "execution_count": null,
   "id": "2054c4d8",
   "metadata": {
    "papermill": {
     "duration": 0.009305,
     "end_time": "2023-02-27T14:51:22.121147",
     "exception": false,
     "start_time": "2023-02-27T14:51:22.111842",
     "status": "completed"
    },
    "tags": []
   },
   "outputs": [],
   "source": []
  }
 ],
 "metadata": {
  "kernelspec": {
   "display_name": "Python 3",
   "language": "python",
   "name": "python3"
  },
  "language_info": {
   "codemirror_mode": {
    "name": "ipython",
    "version": 3
   },
   "file_extension": ".py",
   "mimetype": "text/x-python",
   "name": "python",
   "nbconvert_exporter": "python",
   "pygments_lexer": "ipython3",
   "version": "3.7.12"
  },
  "papermill": {
   "default_parameters": {},
   "duration": 11.728644,
   "end_time": "2023-02-27T14:51:22.751999",
   "environment_variables": {},
   "exception": null,
   "input_path": "__notebook__.ipynb",
   "output_path": "__notebook__.ipynb",
   "parameters": {},
   "start_time": "2023-02-27T14:51:11.023355",
   "version": "2.4.0"
  }
 },
 "nbformat": 4,
 "nbformat_minor": 5
}
