{
 "cells": [
  {
   "cell_type": "code",
   "execution_count": 1,
   "id": "4023e159",
   "metadata": {
    "_cell_guid": "b1076dfc-b9ad-4769-8c92-a6c4dae69d19",
    "_uuid": "8f2839f25d086af736a60e9eeb907d3b93b6e0e5",
    "execution": {
     "iopub.execute_input": "2023-02-28T04:25:56.446215Z",
     "iopub.status.busy": "2023-02-28T04:25:56.445336Z",
     "iopub.status.idle": "2023-02-28T04:25:56.464043Z",
     "shell.execute_reply": "2023-02-28T04:25:56.462333Z"
    },
    "papermill": {
     "duration": 0.037415,
     "end_time": "2023-02-28T04:25:56.466959",
     "exception": false,
     "start_time": "2023-02-28T04:25:56.429544",
     "status": "completed"
    },
    "tags": []
   },
   "outputs": [
    {
     "name": "stdout",
     "output_type": "stream",
     "text": [
      "/kaggle/input/enigma-ps1/4FGL_DR3_Dataset_Enigma.csv\n"
     ]
    }
   ],
   "source": [
    "# This Pfthon 3 environment comes with many helpful analytics libraries installed\n",
    "# It is defined by the kaggle/python Docker image: https://github.com/kaggle/docker-python\n",
    "# For example, here's several helpful packages to load\n",
    "\n",
    "import numpy as np # linear algebra\n",
    "import pandas as pd # data processing, CSV file I/O (e.g. pd.read_csv)\n",
    "\n",
    "# Input data files are available in the read-only \"../input/\" directory\n",
    "# For example, running this (by clicking run or pressing Shift+Enter) will list all files under the input directory\n",
    "\n",
    "import os\n",
    "for dirname, _, filenames in os.walk('/kaggle/input'):\n",
    "    for filename in filenames:\n",
    "        print(os.path.join(dirname, filename))\n",
    "\n",
    "# You can write up to 20GB to the current directory (/kaggle/working/) that gets preserved as output when you create a version using \"Save & Run All\" \n",
    "# You can also write temporary files to /kaggle/temp/, but they won't be saved outside of the current session"
   ]
  },
  {
   "cell_type": "code",
   "execution_count": 2,
   "id": "4b2e09df",
   "metadata": {
    "execution": {
     "iopub.execute_input": "2023-02-28T04:25:56.494316Z",
     "iopub.status.busy": "2023-02-28T04:25:56.493896Z",
     "iopub.status.idle": "2023-02-28T04:25:56.599108Z",
     "shell.execute_reply": "2023-02-28T04:25:56.597777Z"
    },
    "papermill": {
     "duration": 0.122334,
     "end_time": "2023-02-28T04:25:56.602059",
     "exception": false,
     "start_time": "2023-02-28T04:25:56.479725",
     "status": "completed"
    },
    "tags": []
   },
   "outputs": [
    {
     "data": {
      "text/html": [
       "<div>\n",
       "<style scoped>\n",
       "    .dataframe tbody tr th:only-of-type {\n",
       "        vertical-align: middle;\n",
       "    }\n",
       "\n",
       "    .dataframe tbody tr th {\n",
       "        vertical-align: top;\n",
       "    }\n",
       "\n",
       "    .dataframe thead th {\n",
       "        text-align: right;\n",
       "    }\n",
       "</style>\n",
       "<table border=\"1\" class=\"dataframe\">\n",
       "  <thead>\n",
       "    <tr style=\"text-align: right;\">\n",
       "      <th></th>\n",
       "      <th>Unnamed: 0</th>\n",
       "      <th>Name</th>\n",
       "      <th>RA (deg)</th>\n",
       "      <th>DEC (deg)</th>\n",
       "      <th>Signif_Avg</th>\n",
       "      <th>Pivot_Energy</th>\n",
       "      <th>Flux1000</th>\n",
       "      <th>Energy_Flux100</th>\n",
       "      <th>PL_Flux_Density</th>\n",
       "      <th>PL_Index</th>\n",
       "      <th>...</th>\n",
       "      <th>PLEC_Flux_Density</th>\n",
       "      <th>PLEC_IndexS</th>\n",
       "      <th>PLEC_ExpfactorS</th>\n",
       "      <th>PLEC_Exp_Index</th>\n",
       "      <th>PLEC_SigCurv</th>\n",
       "      <th>Npred</th>\n",
       "      <th>Variability_Index</th>\n",
       "      <th>Frac_Variability</th>\n",
       "      <th>CLASS1</th>\n",
       "      <th>CLASS2</th>\n",
       "    </tr>\n",
       "  </thead>\n",
       "  <tbody>\n",
       "    <tr>\n",
       "      <th>0</th>\n",
       "      <td>0</td>\n",
       "      <td>4FGL J0000.3-7355</td>\n",
       "      <td>0.0983</td>\n",
       "      <td>0.0983</td>\n",
       "      <td>7.459561</td>\n",
       "      <td>2329.5903</td>\n",
       "      <td>1.392216e-10</td>\n",
       "      <td>1.581099e-12</td>\n",
       "      <td>2.610434e-14</td>\n",
       "      <td>2.179690</td>\n",
       "      <td>...</td>\n",
       "      <td>2.918480e-14</td>\n",
       "      <td>1.993013</td>\n",
       "      <td>0.150609</td>\n",
       "      <td>0.666667</td>\n",
       "      <td>1.292339</td>\n",
       "      <td>305.21463</td>\n",
       "      <td>14.602470</td>\n",
       "      <td>0.215777</td>\n",
       "      <td></td>\n",
       "      <td></td>\n",
       "    </tr>\n",
       "    <tr>\n",
       "      <th>1</th>\n",
       "      <td>1</td>\n",
       "      <td>4FGL J0000.5+0743</td>\n",
       "      <td>0.1375</td>\n",
       "      <td>0.1375</td>\n",
       "      <td>5.271726</td>\n",
       "      <td>1304.1947</td>\n",
       "      <td>1.951913e-10</td>\n",
       "      <td>1.121896e-12</td>\n",
       "      <td>1.039931e-13</td>\n",
       "      <td>2.349694</td>\n",
       "      <td>...</td>\n",
       "      <td>1.475405e-13</td>\n",
       "      <td>1.998095</td>\n",
       "      <td>0.586220</td>\n",
       "      <td>0.666667</td>\n",
       "      <td>2.532814</td>\n",
       "      <td>197.24410</td>\n",
       "      <td>25.399525</td>\n",
       "      <td>0.687574</td>\n",
       "      <td></td>\n",
       "      <td></td>\n",
       "    </tr>\n",
       "    <tr>\n",
       "      <th>2</th>\n",
       "      <td>2</td>\n",
       "      <td>4FGL J0000.7+2530</td>\n",
       "      <td>0.1878</td>\n",
       "      <td>0.1878</td>\n",
       "      <td>4.177483</td>\n",
       "      <td>6318.9400</td>\n",
       "      <td>7.202151e-11</td>\n",
       "      <td>8.571274e-13</td>\n",
       "      <td>2.058057e-15</td>\n",
       "      <td>1.852803</td>\n",
       "      <td>...</td>\n",
       "      <td>3.079466e-15</td>\n",
       "      <td>1.507830</td>\n",
       "      <td>0.720244</td>\n",
       "      <td>0.666667</td>\n",
       "      <td>1.562938</td>\n",
       "      <td>87.70652</td>\n",
       "      <td>13.650518</td>\n",
       "      <td>0.000000</td>\n",
       "      <td></td>\n",
       "      <td></td>\n",
       "    </tr>\n",
       "    <tr>\n",
       "      <th>3</th>\n",
       "      <td>3</td>\n",
       "      <td>4FGL J0001.2+4741</td>\n",
       "      <td>0.3126</td>\n",
       "      <td>0.3126</td>\n",
       "      <td>4.692600</td>\n",
       "      <td>2420.5752</td>\n",
       "      <td>1.259796e-10</td>\n",
       "      <td>1.499454e-12</td>\n",
       "      <td>2.156031e-14</td>\n",
       "      <td>2.271696</td>\n",
       "      <td>...</td>\n",
       "      <td>2.228697e-14</td>\n",
       "      <td>2.219642</td>\n",
       "      <td>0.029462</td>\n",
       "      <td>0.666667</td>\n",
       "      <td>0.337723</td>\n",
       "      <td>293.14978</td>\n",
       "      <td>25.313953</td>\n",
       "      <td>0.675882</td>\n",
       "      <td>bcu</td>\n",
       "      <td></td>\n",
       "    </tr>\n",
       "    <tr>\n",
       "      <th>4</th>\n",
       "      <td>4</td>\n",
       "      <td>4FGL J0001.2-0747</td>\n",
       "      <td>0.3151</td>\n",
       "      <td>0.3151</td>\n",
       "      <td>23.782486</td>\n",
       "      <td>1721.6039</td>\n",
       "      <td>7.471219e-10</td>\n",
       "      <td>8.339171e-12</td>\n",
       "      <td>2.656894e-13</td>\n",
       "      <td>2.116692</td>\n",
       "      <td>...</td>\n",
       "      <td>2.813444e-13</td>\n",
       "      <td>2.046604</td>\n",
       "      <td>0.063212</td>\n",
       "      <td>0.666667</td>\n",
       "      <td>1.892928</td>\n",
       "      <td>1192.35190</td>\n",
       "      <td>46.780693</td>\n",
       "      <td>0.406565</td>\n",
       "      <td>bll</td>\n",
       "      <td></td>\n",
       "    </tr>\n",
       "  </tbody>\n",
       "</table>\n",
       "<p>5 rows × 24 columns</p>\n",
       "</div>"
      ],
      "text/plain": [
       "   Unnamed: 0                Name  RA (deg)  DEC (deg)  Signif_Avg  \\\n",
       "0           0  4FGL J0000.3-7355     0.0983     0.0983    7.459561   \n",
       "1           1  4FGL J0000.5+0743     0.1375     0.1375    5.271726   \n",
       "2           2  4FGL J0000.7+2530     0.1878     0.1878    4.177483   \n",
       "3           3  4FGL J0001.2+4741     0.3126     0.3126    4.692600   \n",
       "4           4  4FGL J0001.2-0747     0.3151     0.3151   23.782486   \n",
       "\n",
       "   Pivot_Energy      Flux1000  Energy_Flux100  PL_Flux_Density  PL_Index  ...  \\\n",
       "0     2329.5903  1.392216e-10    1.581099e-12     2.610434e-14  2.179690  ...   \n",
       "1     1304.1947  1.951913e-10    1.121896e-12     1.039931e-13  2.349694  ...   \n",
       "2     6318.9400  7.202151e-11    8.571274e-13     2.058057e-15  1.852803  ...   \n",
       "3     2420.5752  1.259796e-10    1.499454e-12     2.156031e-14  2.271696  ...   \n",
       "4     1721.6039  7.471219e-10    8.339171e-12     2.656894e-13  2.116692  ...   \n",
       "\n",
       "   PLEC_Flux_Density  PLEC_IndexS  PLEC_ExpfactorS  PLEC_Exp_Index  \\\n",
       "0       2.918480e-14     1.993013         0.150609        0.666667   \n",
       "1       1.475405e-13     1.998095         0.586220        0.666667   \n",
       "2       3.079466e-15     1.507830         0.720244        0.666667   \n",
       "3       2.228697e-14     2.219642         0.029462        0.666667   \n",
       "4       2.813444e-13     2.046604         0.063212        0.666667   \n",
       "\n",
       "   PLEC_SigCurv       Npred  Variability_Index  Frac_Variability  CLASS1  \\\n",
       "0      1.292339   305.21463          14.602470          0.215777           \n",
       "1      2.532814   197.24410          25.399525          0.687574           \n",
       "2      1.562938    87.70652          13.650518          0.000000           \n",
       "3      0.337723   293.14978          25.313953          0.675882   bcu     \n",
       "4      1.892928  1192.35190          46.780693          0.406565   bll     \n",
       "\n",
       "       CLASS2  \n",
       "0              \n",
       "1              \n",
       "2              \n",
       "3              \n",
       "4              \n",
       "\n",
       "[5 rows x 24 columns]"
      ]
     },
     "execution_count": 2,
     "metadata": {},
     "output_type": "execute_result"
    }
   ],
   "source": [
    "train_data=pd.read_csv('/kaggle/input/enigma-ps1/4FGL_DR3_Dataset_Enigma.csv')\n",
    "train_data.head()"
   ]
  },
  {
   "cell_type": "markdown",
   "id": "6c7b0851",
   "metadata": {
    "papermill": {
     "duration": 0.012698,
     "end_time": "2023-02-28T04:25:56.628764",
     "exception": false,
     "start_time": "2023-02-28T04:25:56.616066",
     "status": "completed"
    },
    "tags": []
   },
   "source": [
    "finding out the shape etc of the dataset to make it easier"
   ]
  },
  {
   "cell_type": "code",
   "execution_count": 3,
   "id": "ef2e33b5",
   "metadata": {
    "execution": {
     "iopub.execute_input": "2023-02-28T04:25:56.657916Z",
     "iopub.status.busy": "2023-02-28T04:25:56.657533Z",
     "iopub.status.idle": "2023-02-28T04:25:56.664157Z",
     "shell.execute_reply": "2023-02-28T04:25:56.663023Z"
    },
    "papermill": {
     "duration": 0.023583,
     "end_time": "2023-02-28T04:25:56.666569",
     "exception": false,
     "start_time": "2023-02-28T04:25:56.642986",
     "status": "completed"
    },
    "tags": []
   },
   "outputs": [
    {
     "data": {
      "text/plain": [
       "(6659, 24)"
      ]
     },
     "execution_count": 3,
     "metadata": {},
     "output_type": "execute_result"
    }
   ],
   "source": [
    "train_data.shape"
   ]
  },
  {
   "cell_type": "code",
   "execution_count": 4,
   "id": "db1b6ecb",
   "metadata": {
    "execution": {
     "iopub.execute_input": "2023-02-28T04:25:56.694934Z",
     "iopub.status.busy": "2023-02-28T04:25:56.694547Z",
     "iopub.status.idle": "2023-02-28T04:25:56.704954Z",
     "shell.execute_reply": "2023-02-28T04:25:56.703804Z"
    },
    "papermill": {
     "duration": 0.027567,
     "end_time": "2023-02-28T04:25:56.707430",
     "exception": false,
     "start_time": "2023-02-28T04:25:56.679863",
     "status": "completed"
    },
    "tags": []
   },
   "outputs": [
    {
     "data": {
      "text/plain": [
       "0         \n",
       "1         \n",
       "2         \n",
       "3    bcu  \n",
       "4    bll  \n",
       "Name: CLASS1, dtype: object"
      ]
     },
     "execution_count": 4,
     "metadata": {},
     "output_type": "execute_result"
    }
   ],
   "source": [
    "train_data['CLASS1'].head()"
   ]
  },
  {
   "cell_type": "markdown",
   "id": "03c92e21",
   "metadata": {
    "papermill": {
     "duration": 0.013707,
     "end_time": "2023-02-28T04:25:56.735323",
     "exception": false,
     "start_time": "2023-02-28T04:25:56.721616",
     "status": "completed"
    },
    "tags": []
   },
   "source": [
    "check the null values"
   ]
  },
  {
   "cell_type": "code",
   "execution_count": 5,
   "id": "bc67849e",
   "metadata": {
    "execution": {
     "iopub.execute_input": "2023-02-28T04:25:56.764128Z",
     "iopub.status.busy": "2023-02-28T04:25:56.763710Z",
     "iopub.status.idle": "2023-02-28T04:25:56.773224Z",
     "shell.execute_reply": "2023-02-28T04:25:56.772086Z"
    },
    "papermill": {
     "duration": 0.027022,
     "end_time": "2023-02-28T04:25:56.775623",
     "exception": false,
     "start_time": "2023-02-28T04:25:56.748601",
     "status": "completed"
    },
    "tags": []
   },
   "outputs": [
    {
     "data": {
      "text/plain": [
       "0       False\n",
       "1       False\n",
       "2       False\n",
       "3       False\n",
       "4       False\n",
       "        ...  \n",
       "6654    False\n",
       "6655    False\n",
       "6656    False\n",
       "6657    False\n",
       "6658    False\n",
       "Name: CLASS1, Length: 6659, dtype: bool"
      ]
     },
     "execution_count": 5,
     "metadata": {},
     "output_type": "execute_result"
    }
   ],
   "source": [
    "train_data['CLASS1'].isnull()"
   ]
  },
  {
   "cell_type": "code",
   "execution_count": 6,
   "id": "a5c263e8",
   "metadata": {
    "execution": {
     "iopub.execute_input": "2023-02-28T04:25:56.804654Z",
     "iopub.status.busy": "2023-02-28T04:25:56.804257Z",
     "iopub.status.idle": "2023-02-28T04:25:56.813114Z",
     "shell.execute_reply": "2023-02-28T04:25:56.812166Z"
    },
    "papermill": {
     "duration": 0.026226,
     "end_time": "2023-02-28T04:25:56.815266",
     "exception": false,
     "start_time": "2023-02-28T04:25:56.789040",
     "status": "completed"
    },
    "tags": []
   },
   "outputs": [
    {
     "data": {
      "text/plain": [
       "'     '"
      ]
     },
     "execution_count": 6,
     "metadata": {},
     "output_type": "execute_result"
    }
   ],
   "source": [
    "train_data.loc[2,'CLASS1']"
   ]
  },
  {
   "cell_type": "markdown",
   "id": "0e8d0831",
   "metadata": {
    "papermill": {
     "duration": 0.013251,
     "end_time": "2023-02-28T04:25:56.841946",
     "exception": false,
     "start_time": "2023-02-28T04:25:56.828695",
     "status": "completed"
    },
    "tags": []
   },
   "source": [
    "finding the unique values for the classes"
   ]
  },
  {
   "cell_type": "code",
   "execution_count": 7,
   "id": "4d84f17c",
   "metadata": {
    "execution": {
     "iopub.execute_input": "2023-02-28T04:25:56.872444Z",
     "iopub.status.busy": "2023-02-28T04:25:56.871988Z",
     "iopub.status.idle": "2023-02-28T04:25:56.883385Z",
     "shell.execute_reply": "2023-02-28T04:25:56.882464Z"
    },
    "papermill": {
     "duration": 0.029076,
     "end_time": "2023-02-28T04:25:56.885483",
     "exception": false,
     "start_time": "2023-02-28T04:25:56.856407",
     "status": "completed"
    },
    "tags": []
   },
   "outputs": [
    {
     "data": {
      "text/plain": [
       "array(['     ', 'bcu  ', 'bll  ', 'fsrq ', 'unk  ', 'spp  ', 'PSR  ',\n",
       "       'rdg  ', 'agn  ', 'FSRQ ', 'MSP  ', 'glc  ', 'snr  ', 'gal  ',\n",
       "       'sbg  ', 'BLL  ', 'GAL  ', 'sfr  ', 'bin  ', 'SNR  ', 'HMB  ',\n",
       "       'RDG  ', 'nlsy1', 'msp  ', 'lmb  ', 'NOV  ', 'LMB  ', 'css  ',\n",
       "       'AGN  ', 'PWN  ', 'pwn  ', 'BCU  ', 'hmb  ', 'ssrq ', 'NLSY1',\n",
       "       'psr  ', 'SFR  ', 'BIN  ', 'sey  ', 'GC   '], dtype=object)"
      ]
     },
     "execution_count": 7,
     "metadata": {},
     "output_type": "execute_result"
    }
   ],
   "source": [
    "df=train_data.copy()\n",
    "uni=train_data['CLASS1'].unique()\n",
    "uni"
   ]
  },
  {
   "cell_type": "code",
   "execution_count": 8,
   "id": "b8bf31aa",
   "metadata": {
    "execution": {
     "iopub.execute_input": "2023-02-28T04:25:56.914690Z",
     "iopub.status.busy": "2023-02-28T04:25:56.914191Z",
     "iopub.status.idle": "2023-02-28T04:25:56.919573Z",
     "shell.execute_reply": "2023-02-28T04:25:56.918638Z"
    },
    "papermill": {
     "duration": 0.022679,
     "end_time": "2023-02-28T04:25:56.921879",
     "exception": false,
     "start_time": "2023-02-28T04:25:56.899200",
     "status": "completed"
    },
    "tags": []
   },
   "outputs": [],
   "source": [
    "uni_doc = ['agn', 'bcu', 'bin', 'bll', 'css', 'fsrq', 'gal', 'glc', 'hmb', 'mc', 'nlsy1', 'nov', 'PSR', 'psr', 'pwn', 'rdg', 'sbg', 'sey', 'sfr', 'snr', 'spp', 'ssrq', 'unk']"
   ]
  },
  {
   "cell_type": "markdown",
   "id": "93e321c5",
   "metadata": {
    "papermill": {
     "duration": 0.013185,
     "end_time": "2023-02-28T04:25:56.948671",
     "exception": false,
     "start_time": "2023-02-28T04:25:56.935486",
     "status": "completed"
    },
    "tags": []
   },
   "source": [
    "find the unique values in the list"
   ]
  },
  {
   "cell_type": "code",
   "execution_count": 9,
   "id": "d0259d12",
   "metadata": {
    "execution": {
     "iopub.execute_input": "2023-02-28T04:25:56.978120Z",
     "iopub.status.busy": "2023-02-28T04:25:56.976924Z",
     "iopub.status.idle": "2023-02-28T04:25:56.983724Z",
     "shell.execute_reply": "2023-02-28T04:25:56.982140Z"
    },
    "papermill": {
     "duration": 0.024042,
     "end_time": "2023-02-28T04:25:56.986309",
     "exception": false,
     "start_time": "2023-02-28T04:25:56.962267",
     "status": "completed"
    },
    "tags": []
   },
   "outputs": [
    {
     "name": "stdout",
     "output_type": "stream",
     "text": [
      "{'fsrq ', 'msp  ', 'snr  ', 'BIN  ', 'PSR  ', 'FSRQ ', 'NOV  ', '     ', 'hmb  ', 'HMB  ', 'gal  ', 'css  ', 'SNR  ', 'sey  ', 'sfr  ', 'unk  ', 'RDG  ', 'glc  ', 'bcu  ', 'psr  ', 'bll  ', 'AGN  ', 'ssrq ', 'SFR  ', 'sbg  ', 'PWN  ', 'pwn  ', 'BCU  ', 'rdg  ', 'lmb  ', 'bin  ', 'NLSY1', 'agn  ', 'GAL  ', 'LMB  ', 'BLL  ', 'MSP  ', 'spp  ', 'GC   '}\n"
     ]
    }
   ],
   "source": [
    "# find the elements in list1 that are not in list2\n",
    "diff1 = set(uni).difference(set(uni_doc))\n",
    "print(diff1)"
   ]
  },
  {
   "cell_type": "markdown",
   "id": "5e8e1061",
   "metadata": {
    "papermill": {
     "duration": 0.013162,
     "end_time": "2023-02-28T04:25:57.013423",
     "exception": false,
     "start_time": "2023-02-28T04:25:57.000261",
     "status": "completed"
    },
    "tags": []
   },
   "source": [
    "finding the count of all the rows of each category in a column"
   ]
  },
  {
   "cell_type": "code",
   "execution_count": 10,
   "id": "988219b4",
   "metadata": {
    "execution": {
     "iopub.execute_input": "2023-02-28T04:25:57.042121Z",
     "iopub.status.busy": "2023-02-28T04:25:57.041695Z",
     "iopub.status.idle": "2023-02-28T04:25:57.049741Z",
     "shell.execute_reply": "2023-02-28T04:25:57.048891Z"
    },
    "papermill": {
     "duration": 0.025191,
     "end_time": "2023-02-28T04:25:57.051948",
     "exception": false,
     "start_time": "2023-02-28T04:25:57.026757",
     "status": "completed"
    },
    "tags": []
   },
   "outputs": [
    {
     "data": {
      "text/plain": [
       "array(['     ', 'bcu  ', 'bll  ', 'fsrq ', 'unk  ', 'spp  ', 'PSR  ',\n",
       "       'rdg  ', 'agn  ', 'FSRQ ', 'MSP  ', 'glc  ', 'snr  ', 'gal  ',\n",
       "       'sbg  ', 'BLL  ', 'GAL  ', 'sfr  ', 'bin  ', 'SNR  ', 'HMB  ',\n",
       "       'RDG  ', 'nlsy1', 'msp  ', 'lmb  ', 'NOV  ', 'LMB  ', 'css  ',\n",
       "       'AGN  ', 'PWN  ', 'pwn  ', 'BCU  ', 'hmb  ', 'ssrq ', 'NLSY1',\n",
       "       'psr  ', 'SFR  ', 'BIN  ', 'sey  ', 'GC   '], dtype=object)"
      ]
     },
     "execution_count": 10,
     "metadata": {},
     "output_type": "execute_result"
    }
   ],
   "source": [
    "df['CLASS1'].unique()"
   ]
  },
  {
   "cell_type": "code",
   "execution_count": 11,
   "id": "f9804b7d",
   "metadata": {
    "execution": {
     "iopub.execute_input": "2023-02-28T04:25:57.082034Z",
     "iopub.status.busy": "2023-02-28T04:25:57.081610Z",
     "iopub.status.idle": "2023-02-28T04:25:57.091535Z",
     "shell.execute_reply": "2023-02-28T04:25:57.090294Z"
    },
    "papermill": {
     "duration": 0.028279,
     "end_time": "2023-02-28T04:25:57.094007",
     "exception": false,
     "start_time": "2023-02-28T04:25:57.065728",
     "status": "completed"
    },
    "tags": []
   },
   "outputs": [
    {
     "data": {
      "text/plain": [
       "         2157\n",
       "bcu      1492\n",
       "bll      1434\n",
       "fsrq      750\n",
       "PSR       135\n",
       "unk       134\n",
       "MSP       120\n",
       "spp       114\n",
       "FSRQ       44\n",
       "rdg        39\n",
       "glc        35\n",
       "msp        35\n",
       "SNR        24\n",
       "BLL        22\n",
       "snr        19\n",
       "PWN        12\n",
       "pwn         8\n",
       "HMB         8\n",
       "agn         8\n",
       "sbg         8\n",
       "bin         6\n",
       "RDG         6\n",
       "lmb         6\n",
       "css         5\n",
       "NLSY1       4\n",
       "gal         4\n",
       "NOV         4\n",
       "nlsy1       4\n",
       "hmb         3\n",
       "SFR         3\n",
       "LMB         2\n",
       "sfr         2\n",
       "ssrq        2\n",
       "GAL         2\n",
       "psr         2\n",
       "sey         2\n",
       "AGN         1\n",
       "BCU         1\n",
       "BIN         1\n",
       "GC          1\n",
       "Name: CLASS1, dtype: int64"
      ]
     },
     "execution_count": 11,
     "metadata": {},
     "output_type": "execute_result"
    }
   ],
   "source": [
    "df['CLASS1'].value_counts()"
   ]
  },
  {
   "cell_type": "code",
   "execution_count": 12,
   "id": "b625d371",
   "metadata": {
    "execution": {
     "iopub.execute_input": "2023-02-28T04:25:57.124408Z",
     "iopub.status.busy": "2023-02-28T04:25:57.123975Z",
     "iopub.status.idle": "2023-02-28T04:25:57.131977Z",
     "shell.execute_reply": "2023-02-28T04:25:57.131081Z"
    },
    "papermill": {
     "duration": 0.025625,
     "end_time": "2023-02-28T04:25:57.134212",
     "exception": false,
     "start_time": "2023-02-28T04:25:57.108587",
     "status": "completed"
    },
    "tags": []
   },
   "outputs": [
    {
     "data": {
      "text/plain": [
       "2157"
      ]
     },
     "execution_count": 12,
     "metadata": {},
     "output_type": "execute_result"
    }
   ],
   "source": [
    "df['CLASS1'].value_counts()['     ']"
   ]
  },
  {
   "cell_type": "code",
   "execution_count": 13,
   "id": "943bf0b6",
   "metadata": {
    "execution": {
     "iopub.execute_input": "2023-02-28T04:25:57.165008Z",
     "iopub.status.busy": "2023-02-28T04:25:57.163932Z",
     "iopub.status.idle": "2023-02-28T04:25:57.171029Z",
     "shell.execute_reply": "2023-02-28T04:25:57.169938Z"
    },
    "papermill": {
     "duration": 0.024474,
     "end_time": "2023-02-28T04:25:57.173280",
     "exception": false,
     "start_time": "2023-02-28T04:25:57.148806",
     "status": "completed"
    },
    "tags": []
   },
   "outputs": [
    {
     "data": {
      "text/plain": [
       "(6659, 24)"
      ]
     },
     "execution_count": 13,
     "metadata": {},
     "output_type": "execute_result"
    }
   ],
   "source": [
    "df.shape"
   ]
  },
  {
   "cell_type": "code",
   "execution_count": 14,
   "id": "50ac2764",
   "metadata": {
    "execution": {
     "iopub.execute_input": "2023-02-28T04:25:57.203823Z",
     "iopub.status.busy": "2023-02-28T04:25:57.203440Z",
     "iopub.status.idle": "2023-02-28T04:25:57.210023Z",
     "shell.execute_reply": "2023-02-28T04:25:57.208899Z"
    },
    "papermill": {
     "duration": 0.024575,
     "end_time": "2023-02-28T04:25:57.212214",
     "exception": false,
     "start_time": "2023-02-28T04:25:57.187639",
     "status": "completed"
    },
    "tags": []
   },
   "outputs": [
    {
     "data": {
      "text/plain": [
       "32.39225108875207"
      ]
     },
     "execution_count": 14,
     "metadata": {},
     "output_type": "execute_result"
    }
   ],
   "source": [
    "(2157/6659)*100"
   ]
  },
  {
   "cell_type": "code",
   "execution_count": 15,
   "id": "580f771b",
   "metadata": {
    "execution": {
     "iopub.execute_input": "2023-02-28T04:25:57.243263Z",
     "iopub.status.busy": "2023-02-28T04:25:57.242142Z",
     "iopub.status.idle": "2023-02-28T04:25:57.250539Z",
     "shell.execute_reply": "2023-02-28T04:25:57.249346Z"
    },
    "papermill": {
     "duration": 0.026755,
     "end_time": "2023-02-28T04:25:57.253067",
     "exception": false,
     "start_time": "2023-02-28T04:25:57.226312",
     "status": "completed"
    },
    "tags": []
   },
   "outputs": [],
   "source": [
    "df1=df.copy()\n",
    "df1['CLASS1'].replace({'     ': np.nan}, inplace=True)"
   ]
  },
  {
   "cell_type": "code",
   "execution_count": 16,
   "id": "b17871a7",
   "metadata": {
    "execution": {
     "iopub.execute_input": "2023-02-28T04:25:57.283056Z",
     "iopub.status.busy": "2023-02-28T04:25:57.282624Z",
     "iopub.status.idle": "2023-02-28T04:25:57.290615Z",
     "shell.execute_reply": "2023-02-28T04:25:57.289654Z"
    },
    "papermill": {
     "duration": 0.025624,
     "end_time": "2023-02-28T04:25:57.292999",
     "exception": false,
     "start_time": "2023-02-28T04:25:57.267375",
     "status": "completed"
    },
    "tags": []
   },
   "outputs": [
    {
     "data": {
      "text/plain": [
       "2157"
      ]
     },
     "execution_count": 16,
     "metadata": {},
     "output_type": "execute_result"
    }
   ],
   "source": [
    "df1['CLASS1'].isnull().sum()"
   ]
  },
  {
   "cell_type": "markdown",
   "id": "c4a36577",
   "metadata": {
    "papermill": {
     "duration": 0.014336,
     "end_time": "2023-02-28T04:25:57.321975",
     "exception": false,
     "start_time": "2023-02-28T04:25:57.307639",
     "status": "completed"
    },
    "tags": []
   },
   "source": [
    "find the null values for the whole table "
   ]
  },
  {
   "cell_type": "code",
   "execution_count": 17,
   "id": "4b50d45b",
   "metadata": {
    "execution": {
     "iopub.execute_input": "2023-02-28T04:25:57.353431Z",
     "iopub.status.busy": "2023-02-28T04:25:57.352787Z",
     "iopub.status.idle": "2023-02-28T04:25:57.364250Z",
     "shell.execute_reply": "2023-02-28T04:25:57.363054Z"
    },
    "papermill": {
     "duration": 0.030499,
     "end_time": "2023-02-28T04:25:57.366933",
     "exception": false,
     "start_time": "2023-02-28T04:25:57.336434",
     "status": "completed"
    },
    "tags": []
   },
   "outputs": [
    {
     "data": {
      "text/plain": [
       "Unnamed: 0              0\n",
       "Name                    0\n",
       "RA (deg)                0\n",
       "DEC (deg)               0\n",
       "Signif_Avg              1\n",
       "Pivot_Energy            0\n",
       "Flux1000                0\n",
       "Energy_Flux100          0\n",
       "PL_Flux_Density         1\n",
       "PL_Index                1\n",
       "LP_Flux_Density         0\n",
       "LP_Index                0\n",
       "LP_beta                 0\n",
       "LP_SigCurv              0\n",
       "PLEC_Flux_Density       1\n",
       "PLEC_IndexS             1\n",
       "PLEC_ExpfactorS         1\n",
       "PLEC_Exp_Index          1\n",
       "PLEC_SigCurv            0\n",
       "Npred                   0\n",
       "Variability_Index       0\n",
       "Frac_Variability        0\n",
       "CLASS1               2157\n",
       "CLASS2                  0\n",
       "dtype: int64"
      ]
     },
     "execution_count": 17,
     "metadata": {},
     "output_type": "execute_result"
    }
   ],
   "source": [
    "df1.isnull().sum()"
   ]
  },
  {
   "cell_type": "code",
   "execution_count": 18,
   "id": "48beb977",
   "metadata": {
    "execution": {
     "iopub.execute_input": "2023-02-28T04:25:57.398480Z",
     "iopub.status.busy": "2023-02-28T04:25:57.397630Z",
     "iopub.status.idle": "2023-02-28T04:25:57.408874Z",
     "shell.execute_reply": "2023-02-28T04:25:57.407695Z"
    },
    "papermill": {
     "duration": 0.029481,
     "end_time": "2023-02-28T04:25:57.411139",
     "exception": false,
     "start_time": "2023-02-28T04:25:57.381658",
     "status": "completed"
    },
    "tags": []
   },
   "outputs": [
    {
     "data": {
      "text/plain": [
       "Unnamed: 0              0\n",
       "Name                    0\n",
       "RA (deg)                0\n",
       "DEC (deg)               0\n",
       "Signif_Avg              1\n",
       "Pivot_Energy            0\n",
       "Flux1000                0\n",
       "Energy_Flux100          0\n",
       "PL_Flux_Density         1\n",
       "PL_Index                1\n",
       "LP_Flux_Density         0\n",
       "LP_Index                0\n",
       "LP_beta                 0\n",
       "LP_SigCurv              0\n",
       "PLEC_Flux_Density       1\n",
       "PLEC_IndexS             1\n",
       "PLEC_ExpfactorS         1\n",
       "PLEC_Exp_Index          1\n",
       "PLEC_SigCurv            0\n",
       "Npred                   0\n",
       "Variability_Index       0\n",
       "Frac_Variability        0\n",
       "CLASS1               2157\n",
       "CLASS2                  0\n",
       "dtype: int64"
      ]
     },
     "execution_count": 18,
     "metadata": {},
     "output_type": "execute_result"
    }
   ],
   "source": [
    "df1.isna().sum()"
   ]
  },
  {
   "cell_type": "code",
   "execution_count": 19,
   "id": "d7e322a1",
   "metadata": {
    "execution": {
     "iopub.execute_input": "2023-02-28T04:25:57.442348Z",
     "iopub.status.busy": "2023-02-28T04:25:57.441674Z",
     "iopub.status.idle": "2023-02-28T04:25:57.447035Z",
     "shell.execute_reply": "2023-02-28T04:25:57.445923Z"
    },
    "papermill": {
     "duration": 0.023952,
     "end_time": "2023-02-28T04:25:57.449711",
     "exception": false,
     "start_time": "2023-02-28T04:25:57.425759",
     "status": "completed"
    },
    "tags": []
   },
   "outputs": [],
   "source": [
    "null_list=['Signif_Avg','PL_Flux_Density','PL_Index','PLEC_Flux_Density','PLEC_IndexS','PLEC_ExpfactorS','PLEC_Exp_Index']"
   ]
  },
  {
   "cell_type": "markdown",
   "id": "9a0b05fd",
   "metadata": {
    "papermill": {
     "duration": 0.014181,
     "end_time": "2023-02-28T04:25:57.478661",
     "exception": false,
     "start_time": "2023-02-28T04:25:57.464480",
     "status": "completed"
    },
    "tags": []
   },
   "source": [
    "dropping null values in the table"
   ]
  },
  {
   "cell_type": "code",
   "execution_count": 20,
   "id": "0082e59c",
   "metadata": {
    "execution": {
     "iopub.execute_input": "2023-02-28T04:25:57.510056Z",
     "iopub.status.busy": "2023-02-28T04:25:57.509617Z",
     "iopub.status.idle": "2023-02-28T04:25:57.521478Z",
     "shell.execute_reply": "2023-02-28T04:25:57.520256Z"
    },
    "papermill": {
     "duration": 0.031054,
     "end_time": "2023-02-28T04:25:57.524348",
     "exception": false,
     "start_time": "2023-02-28T04:25:57.493294",
     "status": "completed"
    },
    "tags": []
   },
   "outputs": [],
   "source": [
    "df1= df1.dropna(subset=null_list)"
   ]
  },
  {
   "cell_type": "code",
   "execution_count": 21,
   "id": "8b2817e5",
   "metadata": {
    "execution": {
     "iopub.execute_input": "2023-02-28T04:25:57.556070Z",
     "iopub.status.busy": "2023-02-28T04:25:57.555664Z",
     "iopub.status.idle": "2023-02-28T04:25:57.567216Z",
     "shell.execute_reply": "2023-02-28T04:25:57.566065Z"
    },
    "papermill": {
     "duration": 0.030271,
     "end_time": "2023-02-28T04:25:57.569795",
     "exception": false,
     "start_time": "2023-02-28T04:25:57.539524",
     "status": "completed"
    },
    "tags": []
   },
   "outputs": [
    {
     "data": {
      "text/plain": [
       "Unnamed: 0              0\n",
       "Name                    0\n",
       "RA (deg)                0\n",
       "DEC (deg)               0\n",
       "Signif_Avg              0\n",
       "Pivot_Energy            0\n",
       "Flux1000                0\n",
       "Energy_Flux100          0\n",
       "PL_Flux_Density         0\n",
       "PL_Index                0\n",
       "LP_Flux_Density         0\n",
       "LP_Index                0\n",
       "LP_beta                 0\n",
       "LP_SigCurv              0\n",
       "PLEC_Flux_Density       0\n",
       "PLEC_IndexS             0\n",
       "PLEC_ExpfactorS         0\n",
       "PLEC_Exp_Index          0\n",
       "PLEC_SigCurv            0\n",
       "Npred                   0\n",
       "Variability_Index       0\n",
       "Frac_Variability        0\n",
       "CLASS1               2157\n",
       "CLASS2                  0\n",
       "dtype: int64"
      ]
     },
     "execution_count": 21,
     "metadata": {},
     "output_type": "execute_result"
    }
   ],
   "source": [
    "df1.isnull().sum()"
   ]
  },
  {
   "cell_type": "code",
   "execution_count": 22,
   "id": "c088dfdc",
   "metadata": {
    "execution": {
     "iopub.execute_input": "2023-02-28T04:25:57.603270Z",
     "iopub.status.busy": "2023-02-28T04:25:57.602778Z",
     "iopub.status.idle": "2023-02-28T04:25:57.610045Z",
     "shell.execute_reply": "2023-02-28T04:25:57.608910Z"
    },
    "papermill": {
     "duration": 0.026922,
     "end_time": "2023-02-28T04:25:57.612452",
     "exception": false,
     "start_time": "2023-02-28T04:25:57.585530",
     "status": "completed"
    },
    "tags": []
   },
   "outputs": [
    {
     "data": {
      "text/plain": [
       "Index(['Unnamed: 0', 'Name', 'RA (deg)', 'DEC (deg)', 'Signif_Avg',\n",
       "       'Pivot_Energy', 'Flux1000', 'Energy_Flux100', 'PL_Flux_Density',\n",
       "       'PL_Index', 'LP_Flux_Density', 'LP_Index', 'LP_beta', 'LP_SigCurv',\n",
       "       'PLEC_Flux_Density', 'PLEC_IndexS', 'PLEC_ExpfactorS', 'PLEC_Exp_Index',\n",
       "       'PLEC_SigCurv', 'Npred', 'Variability_Index', 'Frac_Variability',\n",
       "       'CLASS1', 'CLASS2'],\n",
       "      dtype='object')"
      ]
     },
     "execution_count": 22,
     "metadata": {},
     "output_type": "execute_result"
    }
   ],
   "source": [
    "df1.columns"
   ]
  },
  {
   "cell_type": "code",
   "execution_count": 23,
   "id": "73021be5",
   "metadata": {
    "execution": {
     "iopub.execute_input": "2023-02-28T04:25:57.643785Z",
     "iopub.status.busy": "2023-02-28T04:25:57.643320Z",
     "iopub.status.idle": "2023-02-28T04:25:57.652127Z",
     "shell.execute_reply": "2023-02-28T04:25:57.651244Z"
    },
    "papermill": {
     "duration": 0.026921,
     "end_time": "2023-02-28T04:25:57.654359",
     "exception": false,
     "start_time": "2023-02-28T04:25:57.627438",
     "status": "completed"
    },
    "tags": []
   },
   "outputs": [],
   "source": [
    "# select rows with null values in 'my_column'\n",
    "null_df = df1[df1['CLASS1'].isnull()]\n",
    "\n",
    "# select rows without null values in 'my_column'\n",
    "not_null_df = df1[~df1['CLASS1'].isnull()]"
   ]
  },
  {
   "cell_type": "code",
   "execution_count": 24,
   "id": "0fb37bfa",
   "metadata": {
    "execution": {
     "iopub.execute_input": "2023-02-28T04:25:57.685931Z",
     "iopub.status.busy": "2023-02-28T04:25:57.685493Z",
     "iopub.status.idle": "2023-02-28T04:25:57.697722Z",
     "shell.execute_reply": "2023-02-28T04:25:57.696474Z"
    },
    "papermill": {
     "duration": 0.030703,
     "end_time": "2023-02-28T04:25:57.700074",
     "exception": false,
     "start_time": "2023-02-28T04:25:57.669371",
     "status": "completed"
    },
    "tags": []
   },
   "outputs": [
    {
     "data": {
      "text/plain": [
       "Unnamed: 0           0\n",
       "Name                 0\n",
       "RA (deg)             0\n",
       "DEC (deg)            0\n",
       "Signif_Avg           0\n",
       "Pivot_Energy         0\n",
       "Flux1000             0\n",
       "Energy_Flux100       0\n",
       "PL_Flux_Density      0\n",
       "PL_Index             0\n",
       "LP_Flux_Density      0\n",
       "LP_Index             0\n",
       "LP_beta              0\n",
       "LP_SigCurv           0\n",
       "PLEC_Flux_Density    0\n",
       "PLEC_IndexS          0\n",
       "PLEC_ExpfactorS      0\n",
       "PLEC_Exp_Index       0\n",
       "PLEC_SigCurv         0\n",
       "Npred                0\n",
       "Variability_Index    0\n",
       "Frac_Variability     0\n",
       "CLASS1               0\n",
       "CLASS2               0\n",
       "dtype: int64"
      ]
     },
     "execution_count": 24,
     "metadata": {},
     "output_type": "execute_result"
    }
   ],
   "source": [
    "not_null_df.isnull().sum()"
   ]
  },
  {
   "cell_type": "markdown",
   "id": "c9d8366c",
   "metadata": {
    "papermill": {
     "duration": 0.01461,
     "end_time": "2023-02-28T04:25:57.729930",
     "exception": false,
     "start_time": "2023-02-28T04:25:57.715320",
     "status": "completed"
    },
    "tags": []
   },
   "source": [
    "splitting the dataset to perform mutual information for feature selection"
   ]
  },
  {
   "cell_type": "code",
   "execution_count": 25,
   "id": "98d2a5e1",
   "metadata": {
    "execution": {
     "iopub.execute_input": "2023-02-28T04:25:57.761592Z",
     "iopub.status.busy": "2023-02-28T04:25:57.761157Z",
     "iopub.status.idle": "2023-02-28T04:25:57.767496Z",
     "shell.execute_reply": "2023-02-28T04:25:57.766550Z"
    },
    "papermill": {
     "duration": 0.024772,
     "end_time": "2023-02-28T04:25:57.769597",
     "exception": false,
     "start_time": "2023-02-28T04:25:57.744825",
     "status": "completed"
    },
    "tags": []
   },
   "outputs": [],
   "source": [
    "X_df1=not_null_df.iloc[:,2:22]\n",
    "X_df1.columns\n",
    "y_df1=not_null_df['CLASS1']"
   ]
  },
  {
   "cell_type": "markdown",
   "id": "a205af8b",
   "metadata": {
    "papermill": {
     "duration": 0.014265,
     "end_time": "2023-02-28T04:25:57.798694",
     "exception": false,
     "start_time": "2023-02-28T04:25:57.784429",
     "status": "completed"
    },
    "tags": []
   },
   "source": [
    "doing another search of null values just in case"
   ]
  },
  {
   "cell_type": "code",
   "execution_count": 26,
   "id": "2505e991",
   "metadata": {
    "execution": {
     "iopub.execute_input": "2023-02-28T04:25:57.830508Z",
     "iopub.status.busy": "2023-02-28T04:25:57.830115Z",
     "iopub.status.idle": "2023-02-28T04:25:57.838364Z",
     "shell.execute_reply": "2023-02-28T04:25:57.837143Z"
    },
    "papermill": {
     "duration": 0.027137,
     "end_time": "2023-02-28T04:25:57.840767",
     "exception": false,
     "start_time": "2023-02-28T04:25:57.813630",
     "status": "completed"
    },
    "tags": []
   },
   "outputs": [
    {
     "data": {
      "text/plain": [
       "0"
      ]
     },
     "execution_count": 26,
     "metadata": {},
     "output_type": "execute_result"
    }
   ],
   "source": [
    "X_df1.isnull().sum().sum()"
   ]
  },
  {
   "cell_type": "code",
   "execution_count": 27,
   "id": "23e979e4",
   "metadata": {
    "execution": {
     "iopub.execute_input": "2023-02-28T04:25:57.872782Z",
     "iopub.status.busy": "2023-02-28T04:25:57.872381Z",
     "iopub.status.idle": "2023-02-28T04:25:57.880397Z",
     "shell.execute_reply": "2023-02-28T04:25:57.879169Z"
    },
    "papermill": {
     "duration": 0.027015,
     "end_time": "2023-02-28T04:25:57.882879",
     "exception": false,
     "start_time": "2023-02-28T04:25:57.855864",
     "status": "completed"
    },
    "tags": []
   },
   "outputs": [
    {
     "data": {
      "text/plain": [
       "0"
      ]
     },
     "execution_count": 27,
     "metadata": {},
     "output_type": "execute_result"
    }
   ],
   "source": [
    "y_df1.isnull().sum().sum()"
   ]
  },
  {
   "cell_type": "markdown",
   "id": "a50ab322",
   "metadata": {
    "papermill": {
     "duration": 0.014702,
     "end_time": "2023-02-28T04:25:57.912855",
     "exception": false,
     "start_time": "2023-02-28T04:25:57.898153",
     "status": "completed"
    },
    "tags": []
   },
   "source": [
    "trying mutual info classification"
   ]
  },
  {
   "cell_type": "code",
   "execution_count": 28,
   "id": "bb9c3ea6",
   "metadata": {
    "execution": {
     "iopub.execute_input": "2023-02-28T04:25:57.945073Z",
     "iopub.status.busy": "2023-02-28T04:25:57.944635Z",
     "iopub.status.idle": "2023-02-28T04:25:57.952126Z",
     "shell.execute_reply": "2023-02-28T04:25:57.951087Z"
    },
    "papermill": {
     "duration": 0.026496,
     "end_time": "2023-02-28T04:25:57.954429",
     "exception": false,
     "start_time": "2023-02-28T04:25:57.927933",
     "status": "completed"
    },
    "tags": []
   },
   "outputs": [
    {
     "data": {
      "text/plain": [
       "array(['bcu  ', 'bll  ', 'fsrq ', 'unk  ', 'spp  ', 'PSR  ', 'rdg  ',\n",
       "       'agn  ', 'FSRQ ', 'MSP  ', 'glc  ', 'snr  ', 'gal  ', 'sbg  ',\n",
       "       'BLL  ', 'GAL  ', 'sfr  ', 'bin  ', 'SNR  ', 'HMB  ', 'RDG  ',\n",
       "       'nlsy1', 'msp  ', 'lmb  ', 'NOV  ', 'LMB  ', 'css  ', 'AGN  ',\n",
       "       'PWN  ', 'pwn  ', 'BCU  ', 'hmb  ', 'ssrq ', 'NLSY1', 'psr  ',\n",
       "       'SFR  ', 'BIN  ', 'sey  ', 'GC   '], dtype=object)"
      ]
     },
     "execution_count": 28,
     "metadata": {},
     "output_type": "execute_result"
    }
   ],
   "source": [
    "y_df1.unique()"
   ]
  },
  {
   "cell_type": "code",
   "execution_count": 29,
   "id": "d6613894",
   "metadata": {
    "execution": {
     "iopub.execute_input": "2023-02-28T04:25:57.986930Z",
     "iopub.status.busy": "2023-02-28T04:25:57.986532Z",
     "iopub.status.idle": "2023-02-28T04:25:57.993402Z",
     "shell.execute_reply": "2023-02-28T04:25:57.992162Z"
    },
    "papermill": {
     "duration": 0.026014,
     "end_time": "2023-02-28T04:25:57.995701",
     "exception": false,
     "start_time": "2023-02-28T04:25:57.969687",
     "status": "completed"
    },
    "tags": []
   },
   "outputs": [
    {
     "data": {
      "text/plain": [
       "(4501,)"
      ]
     },
     "execution_count": 29,
     "metadata": {},
     "output_type": "execute_result"
    }
   ],
   "source": [
    "y_df1.shape"
   ]
  },
  {
   "cell_type": "code",
   "execution_count": 30,
   "id": "8e343bcf",
   "metadata": {
    "execution": {
     "iopub.execute_input": "2023-02-28T04:25:58.028403Z",
     "iopub.status.busy": "2023-02-28T04:25:58.027844Z",
     "iopub.status.idle": "2023-02-28T04:25:58.036511Z",
     "shell.execute_reply": "2023-02-28T04:25:58.035675Z"
    },
    "papermill": {
     "duration": 0.027239,
     "end_time": "2023-02-28T04:25:58.038510",
     "exception": false,
     "start_time": "2023-02-28T04:25:58.011271",
     "status": "completed"
    },
    "tags": []
   },
   "outputs": [
    {
     "data": {
      "text/plain": [
       "bcu      1492\n",
       "bll      1434\n",
       "fsrq      750\n",
       "PSR       135\n",
       "unk       134\n",
       "MSP       120\n",
       "spp       114\n",
       "FSRQ       44\n",
       "rdg        39\n",
       "glc        35\n",
       "msp        35\n",
       "SNR        24\n",
       "BLL        22\n",
       "snr        19\n",
       "PWN        11\n",
       "pwn         8\n",
       "HMB         8\n",
       "agn         8\n",
       "sbg         8\n",
       "bin         6\n",
       "RDG         6\n",
       "lmb         6\n",
       "css         5\n",
       "NLSY1       4\n",
       "gal         4\n",
       "NOV         4\n",
       "nlsy1       4\n",
       "hmb         3\n",
       "SFR         3\n",
       "LMB         2\n",
       "sfr         2\n",
       "ssrq        2\n",
       "GAL         2\n",
       "psr         2\n",
       "sey         2\n",
       "AGN         1\n",
       "BCU         1\n",
       "BIN         1\n",
       "GC          1\n",
       "Name: CLASS1, dtype: int64"
      ]
     },
     "execution_count": 30,
     "metadata": {},
     "output_type": "execute_result"
    }
   ],
   "source": [
    "y_df1.value_counts()"
   ]
  },
  {
   "cell_type": "code",
   "execution_count": 31,
   "id": "2ad05496",
   "metadata": {
    "execution": {
     "iopub.execute_input": "2023-02-28T04:25:58.071578Z",
     "iopub.status.busy": "2023-02-28T04:25:58.071190Z",
     "iopub.status.idle": "2023-02-28T04:26:00.326528Z",
     "shell.execute_reply": "2023-02-28T04:26:00.324583Z"
    },
    "papermill": {
     "duration": 2.275602,
     "end_time": "2023-02-28T04:26:00.329795",
     "exception": false,
     "start_time": "2023-02-28T04:25:58.054193",
     "status": "completed"
    },
    "tags": []
   },
   "outputs": [
    {
     "name": "stdout",
     "output_type": "stream",
     "text": [
      "Index(['Signif_Avg', 'Pivot_Energy', 'Flux1000', 'PL_Index', 'LP_Index',\n",
      "       'LP_beta', 'LP_SigCurv', 'PLEC_IndexS', 'PLEC_ExpfactorS',\n",
      "       'PLEC_SigCurv', 'Npred', 'Variability_Index', 'Frac_Variability'],\n",
      "      dtype='object')\n"
     ]
    }
   ],
   "source": [
    "from sklearn.feature_selection import mutual_info_classif\n",
    "\n",
    "\n",
    "# X is your dataset, and y is your target column\n",
    "# assuming X is a pandas DataFrame\n",
    "mi_scores = mutual_info_classif(X_df1, y_df1.values.ravel())\n",
    "\n",
    "# create a boolean mask to select only the features with mutual information > -.15\n",
    "mask = mi_scores > 0.15\n",
    "\n",
    "# get the feature names that satisfy the mask\n",
    "selected_features = X_df1.columns[mask]\n",
    "\n",
    "# print the selected feature names\n",
    "print(selected_features)"
   ]
  },
  {
   "cell_type": "markdown",
   "id": "35f879b6",
   "metadata": {
    "papermill": {
     "duration": 0.015652,
     "end_time": "2023-02-28T04:26:00.361626",
     "exception": false,
     "start_time": "2023-02-28T04:26:00.345974",
     "status": "completed"
    },
    "tags": []
   },
   "source": [
    "print the selected features above a specific value"
   ]
  },
  {
   "cell_type": "markdown",
   "id": "b26d0c63",
   "metadata": {
    "papermill": {
     "duration": 0.015177,
     "end_time": "2023-02-28T04:26:00.392681",
     "exception": false,
     "start_time": "2023-02-28T04:26:00.377504",
     "status": "completed"
    },
    "tags": []
   },
   "source": [
    "get the selected features needed"
   ]
  },
  {
   "cell_type": "code",
   "execution_count": 32,
   "id": "c6a70957",
   "metadata": {
    "execution": {
     "iopub.execute_input": "2023-02-28T04:26:00.425866Z",
     "iopub.status.busy": "2023-02-28T04:26:00.424733Z",
     "iopub.status.idle": "2023-02-28T04:26:00.430173Z",
     "shell.execute_reply": "2023-02-28T04:26:00.429315Z"
    },
    "papermill": {
     "duration": 0.024321,
     "end_time": "2023-02-28T04:26:00.432371",
     "exception": false,
     "start_time": "2023-02-28T04:26:00.408050",
     "status": "completed"
    },
    "tags": []
   },
   "outputs": [],
   "source": [
    "X_final=df1[selected_features]"
   ]
  },
  {
   "cell_type": "markdown",
   "id": "a63b08d9",
   "metadata": {
    "papermill": {
     "duration": 0.015142,
     "end_time": "2023-02-28T04:26:00.462945",
     "exception": false,
     "start_time": "2023-02-28T04:26:00.447803",
     "status": "completed"
    },
    "tags": []
   },
   "source": [
    "checking for null values in the train dataset"
   ]
  },
  {
   "cell_type": "code",
   "execution_count": 33,
   "id": "7c74cf38",
   "metadata": {
    "execution": {
     "iopub.execute_input": "2023-02-28T04:26:00.496267Z",
     "iopub.status.busy": "2023-02-28T04:26:00.495169Z",
     "iopub.status.idle": "2023-02-28T04:26:00.504117Z",
     "shell.execute_reply": "2023-02-28T04:26:00.502976Z"
    },
    "papermill": {
     "duration": 0.028183,
     "end_time": "2023-02-28T04:26:00.506511",
     "exception": false,
     "start_time": "2023-02-28T04:26:00.478328",
     "status": "completed"
    },
    "tags": []
   },
   "outputs": [
    {
     "data": {
      "text/plain": [
       "Signif_Avg           0\n",
       "Pivot_Energy         0\n",
       "Flux1000             0\n",
       "PL_Index             0\n",
       "LP_Index             0\n",
       "LP_beta              0\n",
       "LP_SigCurv           0\n",
       "PLEC_IndexS          0\n",
       "PLEC_ExpfactorS      0\n",
       "PLEC_SigCurv         0\n",
       "Npred                0\n",
       "Variability_Index    0\n",
       "Frac_Variability     0\n",
       "dtype: int64"
      ]
     },
     "execution_count": 33,
     "metadata": {},
     "output_type": "execute_result"
    }
   ],
   "source": [
    "X_final.isnull().sum()"
   ]
  },
  {
   "cell_type": "markdown",
   "id": "cf5eb3e6",
   "metadata": {
    "papermill": {
     "duration": 0.015476,
     "end_time": "2023-02-28T04:26:00.537789",
     "exception": false,
     "start_time": "2023-02-28T04:26:00.522313",
     "status": "completed"
    },
    "tags": []
   },
   "source": [
    "creating a target pandas series"
   ]
  },
  {
   "cell_type": "code",
   "execution_count": 34,
   "id": "cd62e424",
   "metadata": {
    "execution": {
     "iopub.execute_input": "2023-02-28T04:26:00.571418Z",
     "iopub.status.busy": "2023-02-28T04:26:00.570709Z",
     "iopub.status.idle": "2023-02-28T04:26:00.576155Z",
     "shell.execute_reply": "2023-02-28T04:26:00.574674Z"
    },
    "papermill": {
     "duration": 0.02502,
     "end_time": "2023-02-28T04:26:00.578551",
     "exception": false,
     "start_time": "2023-02-28T04:26:00.553531",
     "status": "completed"
    },
    "tags": []
   },
   "outputs": [],
   "source": [
    "y_final=df1['CLASS1']"
   ]
  },
  {
   "cell_type": "code",
   "execution_count": 35,
   "id": "507a458a",
   "metadata": {
    "execution": {
     "iopub.execute_input": "2023-02-28T04:26:00.612190Z",
     "iopub.status.busy": "2023-02-28T04:26:00.611740Z",
     "iopub.status.idle": "2023-02-28T04:26:00.619770Z",
     "shell.execute_reply": "2023-02-28T04:26:00.618423Z"
    },
    "papermill": {
     "duration": 0.027773,
     "end_time": "2023-02-28T04:26:00.622222",
     "exception": false,
     "start_time": "2023-02-28T04:26:00.594449",
     "status": "completed"
    },
    "tags": []
   },
   "outputs": [
    {
     "data": {
      "text/plain": [
       "2157"
      ]
     },
     "execution_count": 35,
     "metadata": {},
     "output_type": "execute_result"
    }
   ],
   "source": [
    "y_final.isnull().sum()"
   ]
  },
  {
   "cell_type": "markdown",
   "id": "7b23e4a2",
   "metadata": {
    "papermill": {
     "duration": 0.015428,
     "end_time": "2023-02-28T04:26:00.653483",
     "exception": false,
     "start_time": "2023-02-28T04:26:00.638055",
     "status": "completed"
    },
    "tags": []
   },
   "source": [
    "value counts of the classes"
   ]
  },
  {
   "cell_type": "code",
   "execution_count": 36,
   "id": "c794a846",
   "metadata": {
    "execution": {
     "iopub.execute_input": "2023-02-28T04:26:00.687476Z",
     "iopub.status.busy": "2023-02-28T04:26:00.687022Z",
     "iopub.status.idle": "2023-02-28T04:26:00.697035Z",
     "shell.execute_reply": "2023-02-28T04:26:00.695684Z"
    },
    "papermill": {
     "duration": 0.029972,
     "end_time": "2023-02-28T04:26:00.699654",
     "exception": false,
     "start_time": "2023-02-28T04:26:00.669682",
     "status": "completed"
    },
    "tags": []
   },
   "outputs": [
    {
     "data": {
      "text/plain": [
       "bcu      1492\n",
       "bll      1434\n",
       "fsrq      750\n",
       "PSR       135\n",
       "unk       134\n",
       "MSP       120\n",
       "spp       114\n",
       "FSRQ       44\n",
       "rdg        39\n",
       "glc        35\n",
       "msp        35\n",
       "SNR        24\n",
       "BLL        22\n",
       "snr        19\n",
       "PWN        11\n",
       "pwn         8\n",
       "HMB         8\n",
       "agn         8\n",
       "sbg         8\n",
       "bin         6\n",
       "RDG         6\n",
       "lmb         6\n",
       "css         5\n",
       "NLSY1       4\n",
       "gal         4\n",
       "NOV         4\n",
       "nlsy1       4\n",
       "hmb         3\n",
       "SFR         3\n",
       "LMB         2\n",
       "sfr         2\n",
       "ssrq        2\n",
       "GAL         2\n",
       "psr         2\n",
       "sey         2\n",
       "AGN         1\n",
       "BCU         1\n",
       "BIN         1\n",
       "GC          1\n",
       "Name: CLASS1, dtype: int64"
      ]
     },
     "execution_count": 36,
     "metadata": {},
     "output_type": "execute_result"
    }
   ],
   "source": [
    "y_final.value_counts()"
   ]
  },
  {
   "cell_type": "code",
   "execution_count": 37,
   "id": "760c7d3a",
   "metadata": {
    "execution": {
     "iopub.execute_input": "2023-02-28T04:26:00.733556Z",
     "iopub.status.busy": "2023-02-28T04:26:00.733146Z",
     "iopub.status.idle": "2023-02-28T04:26:00.741024Z",
     "shell.execute_reply": "2023-02-28T04:26:00.739772Z"
    },
    "papermill": {
     "duration": 0.027651,
     "end_time": "2023-02-28T04:26:00.743328",
     "exception": false,
     "start_time": "2023-02-28T04:26:00.715677",
     "status": "completed"
    },
    "tags": []
   },
   "outputs": [
    {
     "data": {
      "text/plain": [
       "39"
      ]
     },
     "execution_count": 37,
     "metadata": {},
     "output_type": "execute_result"
    }
   ],
   "source": [
    "y_final.nunique()"
   ]
  },
  {
   "cell_type": "code",
   "execution_count": 38,
   "id": "2c0cab69",
   "metadata": {
    "execution": {
     "iopub.execute_input": "2023-02-28T04:26:00.778176Z",
     "iopub.status.busy": "2023-02-28T04:26:00.777474Z",
     "iopub.status.idle": "2023-02-28T04:26:00.784886Z",
     "shell.execute_reply": "2023-02-28T04:26:00.783622Z"
    },
    "papermill": {
     "duration": 0.027719,
     "end_time": "2023-02-28T04:26:00.787245",
     "exception": false,
     "start_time": "2023-02-28T04:26:00.759526",
     "status": "completed"
    },
    "tags": []
   },
   "outputs": [
    {
     "data": {
      "text/plain": [
       "(6658,)"
      ]
     },
     "execution_count": 38,
     "metadata": {},
     "output_type": "execute_result"
    }
   ],
   "source": [
    "y_final.shape"
   ]
  },
  {
   "cell_type": "code",
   "execution_count": 39,
   "id": "303a2e49",
   "metadata": {
    "execution": {
     "iopub.execute_input": "2023-02-28T04:26:00.821740Z",
     "iopub.status.busy": "2023-02-28T04:26:00.821317Z",
     "iopub.status.idle": "2023-02-28T04:26:00.828926Z",
     "shell.execute_reply": "2023-02-28T04:26:00.827544Z"
    },
    "papermill": {
     "duration": 0.028047,
     "end_time": "2023-02-28T04:26:00.831471",
     "exception": false,
     "start_time": "2023-02-28T04:26:00.803424",
     "status": "completed"
    },
    "tags": []
   },
   "outputs": [
    {
     "data": {
      "text/plain": [
       "(6658, 13)"
      ]
     },
     "execution_count": 39,
     "metadata": {},
     "output_type": "execute_result"
    }
   ],
   "source": [
    "X_final.shape"
   ]
  },
  {
   "cell_type": "markdown",
   "id": "44853b69",
   "metadata": {
    "papermill": {
     "duration": 0.015868,
     "end_time": "2023-02-28T04:26:00.863884",
     "exception": false,
     "start_time": "2023-02-28T04:26:00.848016",
     "status": "completed"
    },
    "tags": []
   },
   "source": [
    "finding the percentage of null values in the pandas dataset"
   ]
  },
  {
   "cell_type": "code",
   "execution_count": 40,
   "id": "6f212528",
   "metadata": {
    "execution": {
     "iopub.execute_input": "2023-02-28T04:26:00.898965Z",
     "iopub.status.busy": "2023-02-28T04:26:00.898238Z",
     "iopub.status.idle": "2023-02-28T04:26:00.907485Z",
     "shell.execute_reply": "2023-02-28T04:26:00.906344Z"
    },
    "papermill": {
     "duration": 0.029821,
     "end_time": "2023-02-28T04:26:00.909884",
     "exception": false,
     "start_time": "2023-02-28T04:26:00.880063",
     "status": "completed"
    },
    "tags": []
   },
   "outputs": [
    {
     "data": {
      "text/plain": [
       "32.39711625112646"
      ]
     },
     "execution_count": 40,
     "metadata": {},
     "output_type": "execute_result"
    }
   ],
   "source": [
    "y_final.isnull().mean()*100"
   ]
  },
  {
   "cell_type": "code",
   "execution_count": 41,
   "id": "951fbd1c",
   "metadata": {
    "execution": {
     "iopub.execute_input": "2023-02-28T04:26:00.945370Z",
     "iopub.status.busy": "2023-02-28T04:26:00.944985Z",
     "iopub.status.idle": "2023-02-28T04:26:00.952470Z",
     "shell.execute_reply": "2023-02-28T04:26:00.951335Z"
    },
    "papermill": {
     "duration": 0.028101,
     "end_time": "2023-02-28T04:26:00.954745",
     "exception": false,
     "start_time": "2023-02-28T04:26:00.926644",
     "status": "completed"
    },
    "tags": []
   },
   "outputs": [
    {
     "data": {
      "text/plain": [
       "0      NaN\n",
       "1      NaN\n",
       "2      NaN\n",
       "3    bcu  \n",
       "4    bll  \n",
       "Name: CLASS1, dtype: object"
      ]
     },
     "execution_count": 41,
     "metadata": {},
     "output_type": "execute_result"
    }
   ],
   "source": [
    "y_final.head()"
   ]
  },
  {
   "cell_type": "code",
   "execution_count": 42,
   "id": "dcd183fe",
   "metadata": {
    "execution": {
     "iopub.execute_input": "2023-02-28T04:26:00.990156Z",
     "iopub.status.busy": "2023-02-28T04:26:00.989673Z",
     "iopub.status.idle": "2023-02-28T04:26:01.020155Z",
     "shell.execute_reply": "2023-02-28T04:26:01.019054Z"
    },
    "papermill": {
     "duration": 0.050861,
     "end_time": "2023-02-28T04:26:01.022657",
     "exception": false,
     "start_time": "2023-02-28T04:26:00.971796",
     "status": "completed"
    },
    "tags": []
   },
   "outputs": [
    {
     "name": "stderr",
     "output_type": "stream",
     "text": [
      "/opt/conda/lib/python3.7/site-packages/ipykernel_launcher.py:14: SettingWithCopyWarning: \n",
      "A value is trying to be set on a copy of a slice from a DataFrame.\n",
      "Try using .loc[row_indexer,col_indexer] = value instead\n",
      "\n",
      "See the caveats in the documentation: https://pandas.pydata.org/pandas-docs/stable/user_guide/indexing.html#returning-a-view-versus-a-copy\n",
      "  \n"
     ]
    }
   ],
   "source": [
    "from sklearn.impute import KNNImputer\n",
    "\n",
    "# create the imputer object\n",
    "imputer = KNNImputer(n_neighbors=5)\n",
    "\n",
    "# concatenate the training dataset and the target dataset\n",
    "data = pd.concat([X_final, y_final], axis=1)\n",
    "\n",
    "# split the data into imputed and non-imputed sets based on null values in the target column\n",
    "data_imputed = data[data[y_final.name].isnull()]\n",
    "data_not_imputed = data[~data[y_final.name].isnull()]\n",
    "\n",
    "# impute the missing values in the target column of the imputed set using the training set\n",
    "data_imputed[y_final.name] = imputer.fit_transform(data_imputed[X_final.columns])\n",
    "\n",
    "# concatenate the imputed and non-imputed sets\n",
    "data_imputed = pd.concat([data_imputed, data_not_imputed], axis=0)\n",
    "\n",
    "# extract the imputed target column as a pandas series\n",
    "y_final_imputed = data_imputed[y_final.name]\n",
    "\n",
    "# extract the imputed training dataset without the target column\n",
    "X_final_imputed = data_imputed.drop(columns=[y_final.name])"
   ]
  },
  {
   "cell_type": "code",
   "execution_count": 43,
   "id": "a6f27c57",
   "metadata": {
    "execution": {
     "iopub.execute_input": "2023-02-28T04:26:01.058629Z",
     "iopub.status.busy": "2023-02-28T04:26:01.058201Z",
     "iopub.status.idle": "2023-02-28T04:26:01.067318Z",
     "shell.execute_reply": "2023-02-28T04:26:01.065928Z"
    },
    "papermill": {
     "duration": 0.030076,
     "end_time": "2023-02-28T04:26:01.069929",
     "exception": false,
     "start_time": "2023-02-28T04:26:01.039853",
     "status": "completed"
    },
    "tags": []
   },
   "outputs": [
    {
     "data": {
      "text/plain": [
       "0"
      ]
     },
     "execution_count": 43,
     "metadata": {},
     "output_type": "execute_result"
    }
   ],
   "source": [
    "y_final_imputed.isnull().sum()"
   ]
  },
  {
   "cell_type": "code",
   "execution_count": 44,
   "id": "e0320567",
   "metadata": {
    "execution": {
     "iopub.execute_input": "2023-02-28T04:26:01.105783Z",
     "iopub.status.busy": "2023-02-28T04:26:01.105394Z",
     "iopub.status.idle": "2023-02-28T04:26:01.115065Z",
     "shell.execute_reply": "2023-02-28T04:26:01.113869Z"
    },
    "papermill": {
     "duration": 0.030297,
     "end_time": "2023-02-28T04:26:01.117623",
     "exception": false,
     "start_time": "2023-02-28T04:26:01.087326",
     "status": "completed"
    },
    "tags": []
   },
   "outputs": [
    {
     "data": {
      "text/plain": [
       "0"
      ]
     },
     "execution_count": 44,
     "metadata": {},
     "output_type": "execute_result"
    }
   ],
   "source": [
    "X_final_imputed.isnull().sum().sum()"
   ]
  },
  {
   "cell_type": "code",
   "execution_count": null,
   "id": "696cb415",
   "metadata": {
    "papermill": {
     "duration": 0.016907,
     "end_time": "2023-02-28T04:26:01.151539",
     "exception": false,
     "start_time": "2023-02-28T04:26:01.134632",
     "status": "completed"
    },
    "tags": []
   },
   "outputs": [],
   "source": []
  }
 ],
 "metadata": {
  "kernelspec": {
   "display_name": "Python 3",
   "language": "python",
   "name": "python3"
  },
  "language_info": {
   "codemirror_mode": {
    "name": "ipython",
    "version": 3
   },
   "file_extension": ".py",
   "mimetype": "text/x-python",
   "name": "python",
   "nbconvert_exporter": "python",
   "pygments_lexer": "ipython3",
   "version": "3.7.12"
  },
  "papermill": {
   "default_parameters": {},
   "duration": 15.486699,
   "end_time": "2023-02-28T04:26:01.891751",
   "environment_variables": {},
   "exception": null,
   "input_path": "__notebook__.ipynb",
   "output_path": "__notebook__.ipynb",
   "parameters": {},
   "start_time": "2023-02-28T04:25:46.405052",
   "version": "2.4.0"
  }
 },
 "nbformat": 4,
 "nbformat_minor": 5
}
