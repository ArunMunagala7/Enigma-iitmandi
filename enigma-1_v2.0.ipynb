{
 "cells": [
  {
   "cell_type": "code",
   "execution_count": 1,
   "id": "4aaafdf8",
   "metadata": {
    "_cell_guid": "b1076dfc-b9ad-4769-8c92-a6c4dae69d19",
    "_uuid": "8f2839f25d086af736a60e9eeb907d3b93b6e0e5",
    "execution": {
     "iopub.execute_input": "2023-02-27T16:07:53.129040Z",
     "iopub.status.busy": "2023-02-27T16:07:53.128522Z",
     "iopub.status.idle": "2023-02-27T16:07:53.146924Z",
     "shell.execute_reply": "2023-02-27T16:07:53.146031Z"
    },
    "papermill": {
     "duration": 0.033849,
     "end_time": "2023-02-27T16:07:53.149442",
     "exception": false,
     "start_time": "2023-02-27T16:07:53.115593",
     "status": "completed"
    },
    "tags": []
   },
   "outputs": [
    {
     "name": "stdout",
     "output_type": "stream",
     "text": [
      "/kaggle/input/enigma-ps1/4FGL_DR3_Dataset_Enigma.csv\n"
     ]
    }
   ],
   "source": [
    "# This Python 3 environment comes with many helpful analytics libraries installed\n",
    "# It is defined by the kaggle/python Docker image: https://github.com/kaggle/docker-python\n",
    "# For example, here's several helpful packages to load\n",
    "\n",
    "import numpy as np # linear algebra\n",
    "import pandas as pd # data processing, CSV file I/O (e.g. pd.read_csv)\n",
    "\n",
    "# Input data files are available in the read-only \"../input/\" directory\n",
    "# For example, running this (by clicking run or pressing Shift+Enter) will list all files under the input directory\n",
    "\n",
    "import os\n",
    "for dirname, _, filenames in os.walk('/kaggle/input'):\n",
    "    for filename in filenames:\n",
    "        print(os.path.join(dirname, filename))\n",
    "\n",
    "# You can write up to 20GB to the current directory (/kaggle/working/) that gets preserved as output when you create a version using \"Save & Run All\" \n",
    "# You can also write temporary files to /kaggle/temp/, but they won't be saved outside of the current session"
   ]
  },
  {
   "cell_type": "code",
   "execution_count": 2,
   "id": "eed6b8d3",
   "metadata": {
    "execution": {
     "iopub.execute_input": "2023-02-27T16:07:53.171184Z",
     "iopub.status.busy": "2023-02-27T16:07:53.170426Z",
     "iopub.status.idle": "2023-02-27T16:07:53.273201Z",
     "shell.execute_reply": "2023-02-27T16:07:53.272026Z"
    },
    "papermill": {
     "duration": 0.116506,
     "end_time": "2023-02-27T16:07:53.275811",
     "exception": false,
     "start_time": "2023-02-27T16:07:53.159305",
     "status": "completed"
    },
    "tags": []
   },
   "outputs": [
    {
     "data": {
      "text/html": [
       "<div>\n",
       "<style scoped>\n",
       "    .dataframe tbody tr th:only-of-type {\n",
       "        vertical-align: middle;\n",
       "    }\n",
       "\n",
       "    .dataframe tbody tr th {\n",
       "        vertical-align: top;\n",
       "    }\n",
       "\n",
       "    .dataframe thead th {\n",
       "        text-align: right;\n",
       "    }\n",
       "</style>\n",
       "<table border=\"1\" class=\"dataframe\">\n",
       "  <thead>\n",
       "    <tr style=\"text-align: right;\">\n",
       "      <th></th>\n",
       "      <th>Unnamed: 0</th>\n",
       "      <th>Name</th>\n",
       "      <th>RA (deg)</th>\n",
       "      <th>DEC (deg)</th>\n",
       "      <th>Signif_Avg</th>\n",
       "      <th>Pivot_Energy</th>\n",
       "      <th>Flux1000</th>\n",
       "      <th>Energy_Flux100</th>\n",
       "      <th>PL_Flux_Density</th>\n",
       "      <th>PL_Index</th>\n",
       "      <th>...</th>\n",
       "      <th>PLEC_Flux_Density</th>\n",
       "      <th>PLEC_IndexS</th>\n",
       "      <th>PLEC_ExpfactorS</th>\n",
       "      <th>PLEC_Exp_Index</th>\n",
       "      <th>PLEC_SigCurv</th>\n",
       "      <th>Npred</th>\n",
       "      <th>Variability_Index</th>\n",
       "      <th>Frac_Variability</th>\n",
       "      <th>CLASS1</th>\n",
       "      <th>CLASS2</th>\n",
       "    </tr>\n",
       "  </thead>\n",
       "  <tbody>\n",
       "    <tr>\n",
       "      <th>0</th>\n",
       "      <td>0</td>\n",
       "      <td>4FGL J0000.3-7355</td>\n",
       "      <td>0.0983</td>\n",
       "      <td>0.0983</td>\n",
       "      <td>7.459561</td>\n",
       "      <td>2329.5903</td>\n",
       "      <td>1.392216e-10</td>\n",
       "      <td>1.581099e-12</td>\n",
       "      <td>2.610434e-14</td>\n",
       "      <td>2.179690</td>\n",
       "      <td>...</td>\n",
       "      <td>2.918480e-14</td>\n",
       "      <td>1.993013</td>\n",
       "      <td>0.150609</td>\n",
       "      <td>0.666667</td>\n",
       "      <td>1.292339</td>\n",
       "      <td>305.21463</td>\n",
       "      <td>14.602470</td>\n",
       "      <td>0.215777</td>\n",
       "      <td></td>\n",
       "      <td></td>\n",
       "    </tr>\n",
       "    <tr>\n",
       "      <th>1</th>\n",
       "      <td>1</td>\n",
       "      <td>4FGL J0000.5+0743</td>\n",
       "      <td>0.1375</td>\n",
       "      <td>0.1375</td>\n",
       "      <td>5.271726</td>\n",
       "      <td>1304.1947</td>\n",
       "      <td>1.951913e-10</td>\n",
       "      <td>1.121896e-12</td>\n",
       "      <td>1.039931e-13</td>\n",
       "      <td>2.349694</td>\n",
       "      <td>...</td>\n",
       "      <td>1.475405e-13</td>\n",
       "      <td>1.998095</td>\n",
       "      <td>0.586220</td>\n",
       "      <td>0.666667</td>\n",
       "      <td>2.532814</td>\n",
       "      <td>197.24410</td>\n",
       "      <td>25.399525</td>\n",
       "      <td>0.687574</td>\n",
       "      <td></td>\n",
       "      <td></td>\n",
       "    </tr>\n",
       "    <tr>\n",
       "      <th>2</th>\n",
       "      <td>2</td>\n",
       "      <td>4FGL J0000.7+2530</td>\n",
       "      <td>0.1878</td>\n",
       "      <td>0.1878</td>\n",
       "      <td>4.177483</td>\n",
       "      <td>6318.9400</td>\n",
       "      <td>7.202151e-11</td>\n",
       "      <td>8.571274e-13</td>\n",
       "      <td>2.058057e-15</td>\n",
       "      <td>1.852803</td>\n",
       "      <td>...</td>\n",
       "      <td>3.079466e-15</td>\n",
       "      <td>1.507830</td>\n",
       "      <td>0.720244</td>\n",
       "      <td>0.666667</td>\n",
       "      <td>1.562938</td>\n",
       "      <td>87.70652</td>\n",
       "      <td>13.650518</td>\n",
       "      <td>0.000000</td>\n",
       "      <td></td>\n",
       "      <td></td>\n",
       "    </tr>\n",
       "    <tr>\n",
       "      <th>3</th>\n",
       "      <td>3</td>\n",
       "      <td>4FGL J0001.2+4741</td>\n",
       "      <td>0.3126</td>\n",
       "      <td>0.3126</td>\n",
       "      <td>4.692600</td>\n",
       "      <td>2420.5752</td>\n",
       "      <td>1.259796e-10</td>\n",
       "      <td>1.499454e-12</td>\n",
       "      <td>2.156031e-14</td>\n",
       "      <td>2.271696</td>\n",
       "      <td>...</td>\n",
       "      <td>2.228697e-14</td>\n",
       "      <td>2.219642</td>\n",
       "      <td>0.029462</td>\n",
       "      <td>0.666667</td>\n",
       "      <td>0.337723</td>\n",
       "      <td>293.14978</td>\n",
       "      <td>25.313953</td>\n",
       "      <td>0.675882</td>\n",
       "      <td>bcu</td>\n",
       "      <td></td>\n",
       "    </tr>\n",
       "    <tr>\n",
       "      <th>4</th>\n",
       "      <td>4</td>\n",
       "      <td>4FGL J0001.2-0747</td>\n",
       "      <td>0.3151</td>\n",
       "      <td>0.3151</td>\n",
       "      <td>23.782486</td>\n",
       "      <td>1721.6039</td>\n",
       "      <td>7.471219e-10</td>\n",
       "      <td>8.339171e-12</td>\n",
       "      <td>2.656894e-13</td>\n",
       "      <td>2.116692</td>\n",
       "      <td>...</td>\n",
       "      <td>2.813444e-13</td>\n",
       "      <td>2.046604</td>\n",
       "      <td>0.063212</td>\n",
       "      <td>0.666667</td>\n",
       "      <td>1.892928</td>\n",
       "      <td>1192.35190</td>\n",
       "      <td>46.780693</td>\n",
       "      <td>0.406565</td>\n",
       "      <td>bll</td>\n",
       "      <td></td>\n",
       "    </tr>\n",
       "  </tbody>\n",
       "</table>\n",
       "<p>5 rows × 24 columns</p>\n",
       "</div>"
      ],
      "text/plain": [
       "   Unnamed: 0                Name  RA (deg)  DEC (deg)  Signif_Avg  \\\n",
       "0           0  4FGL J0000.3-7355     0.0983     0.0983    7.459561   \n",
       "1           1  4FGL J0000.5+0743     0.1375     0.1375    5.271726   \n",
       "2           2  4FGL J0000.7+2530     0.1878     0.1878    4.177483   \n",
       "3           3  4FGL J0001.2+4741     0.3126     0.3126    4.692600   \n",
       "4           4  4FGL J0001.2-0747     0.3151     0.3151   23.782486   \n",
       "\n",
       "   Pivot_Energy      Flux1000  Energy_Flux100  PL_Flux_Density  PL_Index  ...  \\\n",
       "0     2329.5903  1.392216e-10    1.581099e-12     2.610434e-14  2.179690  ...   \n",
       "1     1304.1947  1.951913e-10    1.121896e-12     1.039931e-13  2.349694  ...   \n",
       "2     6318.9400  7.202151e-11    8.571274e-13     2.058057e-15  1.852803  ...   \n",
       "3     2420.5752  1.259796e-10    1.499454e-12     2.156031e-14  2.271696  ...   \n",
       "4     1721.6039  7.471219e-10    8.339171e-12     2.656894e-13  2.116692  ...   \n",
       "\n",
       "   PLEC_Flux_Density  PLEC_IndexS  PLEC_ExpfactorS  PLEC_Exp_Index  \\\n",
       "0       2.918480e-14     1.993013         0.150609        0.666667   \n",
       "1       1.475405e-13     1.998095         0.586220        0.666667   \n",
       "2       3.079466e-15     1.507830         0.720244        0.666667   \n",
       "3       2.228697e-14     2.219642         0.029462        0.666667   \n",
       "4       2.813444e-13     2.046604         0.063212        0.666667   \n",
       "\n",
       "   PLEC_SigCurv       Npred  Variability_Index  Frac_Variability  CLASS1  \\\n",
       "0      1.292339   305.21463          14.602470          0.215777           \n",
       "1      2.532814   197.24410          25.399525          0.687574           \n",
       "2      1.562938    87.70652          13.650518          0.000000           \n",
       "3      0.337723   293.14978          25.313953          0.675882   bcu     \n",
       "4      1.892928  1192.35190          46.780693          0.406565   bll     \n",
       "\n",
       "       CLASS2  \n",
       "0              \n",
       "1              \n",
       "2              \n",
       "3              \n",
       "4              \n",
       "\n",
       "[5 rows x 24 columns]"
      ]
     },
     "execution_count": 2,
     "metadata": {},
     "output_type": "execute_result"
    }
   ],
   "source": [
    "train_data=pd.read_csv('/kaggle/input/enigma-ps1/4FGL_DR3_Dataset_Enigma.csv')\n",
    "train_data.head()"
   ]
  },
  {
   "cell_type": "markdown",
   "id": "d6c41e7c",
   "metadata": {
    "papermill": {
     "duration": 0.009671,
     "end_time": "2023-02-27T16:07:53.295707",
     "exception": false,
     "start_time": "2023-02-27T16:07:53.286036",
     "status": "completed"
    },
    "tags": []
   },
   "source": [
    "finding out the shape etc of the dataset to make it easier"
   ]
  },
  {
   "cell_type": "code",
   "execution_count": 3,
   "id": "b239eefd",
   "metadata": {
    "execution": {
     "iopub.execute_input": "2023-02-27T16:07:53.319480Z",
     "iopub.status.busy": "2023-02-27T16:07:53.318278Z",
     "iopub.status.idle": "2023-02-27T16:07:53.325850Z",
     "shell.execute_reply": "2023-02-27T16:07:53.324915Z"
    },
    "papermill": {
     "duration": 0.022539,
     "end_time": "2023-02-27T16:07:53.328167",
     "exception": false,
     "start_time": "2023-02-27T16:07:53.305628",
     "status": "completed"
    },
    "tags": []
   },
   "outputs": [
    {
     "data": {
      "text/plain": [
       "(6659, 24)"
      ]
     },
     "execution_count": 3,
     "metadata": {},
     "output_type": "execute_result"
    }
   ],
   "source": [
    "train_data.shape"
   ]
  },
  {
   "cell_type": "code",
   "execution_count": 4,
   "id": "34e0b712",
   "metadata": {
    "execution": {
     "iopub.execute_input": "2023-02-27T16:07:53.351110Z",
     "iopub.status.busy": "2023-02-27T16:07:53.349746Z",
     "iopub.status.idle": "2023-02-27T16:07:53.361813Z",
     "shell.execute_reply": "2023-02-27T16:07:53.360882Z"
    },
    "papermill": {
     "duration": 0.026061,
     "end_time": "2023-02-27T16:07:53.364261",
     "exception": false,
     "start_time": "2023-02-27T16:07:53.338200",
     "status": "completed"
    },
    "tags": []
   },
   "outputs": [
    {
     "data": {
      "text/plain": [
       "0         \n",
       "1         \n",
       "2         \n",
       "3    bcu  \n",
       "4    bll  \n",
       "Name: CLASS1, dtype: object"
      ]
     },
     "execution_count": 4,
     "metadata": {},
     "output_type": "execute_result"
    }
   ],
   "source": [
    "train_data['CLASS1'].head()"
   ]
  },
  {
   "cell_type": "markdown",
   "id": "84432a3c",
   "metadata": {
    "papermill": {
     "duration": 0.009887,
     "end_time": "2023-02-27T16:07:53.384354",
     "exception": false,
     "start_time": "2023-02-27T16:07:53.374467",
     "status": "completed"
    },
    "tags": []
   },
   "source": [
    "check the null values"
   ]
  },
  {
   "cell_type": "code",
   "execution_count": 5,
   "id": "97afb30a",
   "metadata": {
    "execution": {
     "iopub.execute_input": "2023-02-27T16:07:53.406535Z",
     "iopub.status.busy": "2023-02-27T16:07:53.406159Z",
     "iopub.status.idle": "2023-02-27T16:07:53.414525Z",
     "shell.execute_reply": "2023-02-27T16:07:53.413644Z"
    },
    "papermill": {
     "duration": 0.022126,
     "end_time": "2023-02-27T16:07:53.416657",
     "exception": false,
     "start_time": "2023-02-27T16:07:53.394531",
     "status": "completed"
    },
    "tags": []
   },
   "outputs": [
    {
     "data": {
      "text/plain": [
       "0       False\n",
       "1       False\n",
       "2       False\n",
       "3       False\n",
       "4       False\n",
       "        ...  \n",
       "6654    False\n",
       "6655    False\n",
       "6656    False\n",
       "6657    False\n",
       "6658    False\n",
       "Name: CLASS1, Length: 6659, dtype: bool"
      ]
     },
     "execution_count": 5,
     "metadata": {},
     "output_type": "execute_result"
    }
   ],
   "source": [
    "train_data['CLASS1'].isnull()"
   ]
  },
  {
   "cell_type": "code",
   "execution_count": 6,
   "id": "26fb4065",
   "metadata": {
    "execution": {
     "iopub.execute_input": "2023-02-27T16:07:53.438950Z",
     "iopub.status.busy": "2023-02-27T16:07:53.438544Z",
     "iopub.status.idle": "2023-02-27T16:07:53.446706Z",
     "shell.execute_reply": "2023-02-27T16:07:53.445741Z"
    },
    "papermill": {
     "duration": 0.022043,
     "end_time": "2023-02-27T16:07:53.448937",
     "exception": false,
     "start_time": "2023-02-27T16:07:53.426894",
     "status": "completed"
    },
    "tags": []
   },
   "outputs": [
    {
     "data": {
      "text/plain": [
       "'     '"
      ]
     },
     "execution_count": 6,
     "metadata": {},
     "output_type": "execute_result"
    }
   ],
   "source": [
    "train_data.loc[2,'CLASS1']"
   ]
  },
  {
   "cell_type": "markdown",
   "id": "1251eec2",
   "metadata": {
    "papermill": {
     "duration": 0.010425,
     "end_time": "2023-02-27T16:07:53.470194",
     "exception": false,
     "start_time": "2023-02-27T16:07:53.459769",
     "status": "completed"
    },
    "tags": []
   },
   "source": [
    "finding the unique values for the classes"
   ]
  },
  {
   "cell_type": "code",
   "execution_count": 7,
   "id": "b12952d9",
   "metadata": {
    "execution": {
     "iopub.execute_input": "2023-02-27T16:07:53.494178Z",
     "iopub.status.busy": "2023-02-27T16:07:53.493123Z",
     "iopub.status.idle": "2023-02-27T16:07:53.504314Z",
     "shell.execute_reply": "2023-02-27T16:07:53.503483Z"
    },
    "papermill": {
     "duration": 0.025506,
     "end_time": "2023-02-27T16:07:53.506478",
     "exception": false,
     "start_time": "2023-02-27T16:07:53.480972",
     "status": "completed"
    },
    "tags": []
   },
   "outputs": [
    {
     "data": {
      "text/plain": [
       "array(['     ', 'bcu  ', 'bll  ', 'fsrq ', 'unk  ', 'spp  ', 'PSR  ',\n",
       "       'rdg  ', 'agn  ', 'FSRQ ', 'MSP  ', 'glc  ', 'snr  ', 'gal  ',\n",
       "       'sbg  ', 'BLL  ', 'GAL  ', 'sfr  ', 'bin  ', 'SNR  ', 'HMB  ',\n",
       "       'RDG  ', 'nlsy1', 'msp  ', 'lmb  ', 'NOV  ', 'LMB  ', 'css  ',\n",
       "       'AGN  ', 'PWN  ', 'pwn  ', 'BCU  ', 'hmb  ', 'ssrq ', 'NLSY1',\n",
       "       'psr  ', 'SFR  ', 'BIN  ', 'sey  ', 'GC   '], dtype=object)"
      ]
     },
     "execution_count": 7,
     "metadata": {},
     "output_type": "execute_result"
    }
   ],
   "source": [
    "df=train_data.copy()\n",
    "uni=train_data['CLASS1'].unique()\n",
    "uni"
   ]
  },
  {
   "cell_type": "code",
   "execution_count": 8,
   "id": "cf0f1314",
   "metadata": {
    "execution": {
     "iopub.execute_input": "2023-02-27T16:07:53.530505Z",
     "iopub.status.busy": "2023-02-27T16:07:53.530102Z",
     "iopub.status.idle": "2023-02-27T16:07:53.535492Z",
     "shell.execute_reply": "2023-02-27T16:07:53.534396Z"
    },
    "papermill": {
     "duration": 0.020648,
     "end_time": "2023-02-27T16:07:53.537990",
     "exception": false,
     "start_time": "2023-02-27T16:07:53.517342",
     "status": "completed"
    },
    "tags": []
   },
   "outputs": [],
   "source": [
    "uni_doc = ['agn', 'bcu', 'bin', 'bll', 'css', 'fsrq', 'gal', 'glc', 'hmb', 'mc', 'nlsy1', 'nov', 'PSR', 'psr', 'pwn', 'rdg', 'sbg', 'sey', 'sfr', 'snr', 'spp', 'ssrq', 'unk']"
   ]
  },
  {
   "cell_type": "markdown",
   "id": "c7d3af28",
   "metadata": {
    "papermill": {
     "duration": 0.010234,
     "end_time": "2023-02-27T16:07:53.558763",
     "exception": false,
     "start_time": "2023-02-27T16:07:53.548529",
     "status": "completed"
    },
    "tags": []
   },
   "source": [
    "find the unique values in the list"
   ]
  },
  {
   "cell_type": "code",
   "execution_count": 9,
   "id": "a1323475",
   "metadata": {
    "execution": {
     "iopub.execute_input": "2023-02-27T16:07:53.581912Z",
     "iopub.status.busy": "2023-02-27T16:07:53.581225Z",
     "iopub.status.idle": "2023-02-27T16:07:53.587893Z",
     "shell.execute_reply": "2023-02-27T16:07:53.586298Z"
    },
    "papermill": {
     "duration": 0.020941,
     "end_time": "2023-02-27T16:07:53.590177",
     "exception": false,
     "start_time": "2023-02-27T16:07:53.569236",
     "status": "completed"
    },
    "tags": []
   },
   "outputs": [
    {
     "name": "stdout",
     "output_type": "stream",
     "text": [
      "{'agn  ', 'pwn  ', 'GC   ', 'glc  ', 'fsrq ', 'LMB  ', 'lmb  ', 'HMB  ', 'hmb  ', 'bin  ', 'SNR  ', 'sfr  ', 'unk  ', 'sey  ', 'BIN  ', 'gal  ', 'FSRQ ', 'css  ', 'NOV  ', 'msp  ', 'spp  ', '     ', 'RDG  ', 'PWN  ', 'PSR  ', 'psr  ', 'SFR  ', 'rdg  ', 'NLSY1', 'BCU  ', 'BLL  ', 'bll  ', 'sbg  ', 'snr  ', 'MSP  ', 'GAL  ', 'bcu  ', 'AGN  ', 'ssrq '}\n"
     ]
    }
   ],
   "source": [
    "# find the elements in list1 that are not in list2\n",
    "diff1 = set(uni).difference(set(uni_doc))\n",
    "print(diff1)"
   ]
  },
  {
   "cell_type": "markdown",
   "id": "3352aade",
   "metadata": {
    "papermill": {
     "duration": 0.010264,
     "end_time": "2023-02-27T16:07:53.611052",
     "exception": false,
     "start_time": "2023-02-27T16:07:53.600788",
     "status": "completed"
    },
    "tags": []
   },
   "source": [
    "finding the count of all the rows of each category in a column"
   ]
  },
  {
   "cell_type": "code",
   "execution_count": 10,
   "id": "7f794203",
   "metadata": {
    "execution": {
     "iopub.execute_input": "2023-02-27T16:07:53.634450Z",
     "iopub.status.busy": "2023-02-27T16:07:53.633229Z",
     "iopub.status.idle": "2023-02-27T16:07:53.642107Z",
     "shell.execute_reply": "2023-02-27T16:07:53.641005Z"
    },
    "papermill": {
     "duration": 0.022883,
     "end_time": "2023-02-27T16:07:53.644318",
     "exception": false,
     "start_time": "2023-02-27T16:07:53.621435",
     "status": "completed"
    },
    "tags": []
   },
   "outputs": [
    {
     "data": {
      "text/plain": [
       "array(['     ', 'bcu  ', 'bll  ', 'fsrq ', 'unk  ', 'spp  ', 'PSR  ',\n",
       "       'rdg  ', 'agn  ', 'FSRQ ', 'MSP  ', 'glc  ', 'snr  ', 'gal  ',\n",
       "       'sbg  ', 'BLL  ', 'GAL  ', 'sfr  ', 'bin  ', 'SNR  ', 'HMB  ',\n",
       "       'RDG  ', 'nlsy1', 'msp  ', 'lmb  ', 'NOV  ', 'LMB  ', 'css  ',\n",
       "       'AGN  ', 'PWN  ', 'pwn  ', 'BCU  ', 'hmb  ', 'ssrq ', 'NLSY1',\n",
       "       'psr  ', 'SFR  ', 'BIN  ', 'sey  ', 'GC   '], dtype=object)"
      ]
     },
     "execution_count": 10,
     "metadata": {},
     "output_type": "execute_result"
    }
   ],
   "source": [
    "df['CLASS1'].unique()"
   ]
  },
  {
   "cell_type": "code",
   "execution_count": 11,
   "id": "d610e0b9",
   "metadata": {
    "execution": {
     "iopub.execute_input": "2023-02-27T16:07:53.668055Z",
     "iopub.status.busy": "2023-02-27T16:07:53.667329Z",
     "iopub.status.idle": "2023-02-27T16:07:53.676770Z",
     "shell.execute_reply": "2023-02-27T16:07:53.675634Z"
    },
    "papermill": {
     "duration": 0.023805,
     "end_time": "2023-02-27T16:07:53.679015",
     "exception": false,
     "start_time": "2023-02-27T16:07:53.655210",
     "status": "completed"
    },
    "tags": []
   },
   "outputs": [
    {
     "data": {
      "text/plain": [
       "         2157\n",
       "bcu      1492\n",
       "bll      1434\n",
       "fsrq      750\n",
       "PSR       135\n",
       "unk       134\n",
       "MSP       120\n",
       "spp       114\n",
       "FSRQ       44\n",
       "rdg        39\n",
       "glc        35\n",
       "msp        35\n",
       "SNR        24\n",
       "BLL        22\n",
       "snr        19\n",
       "PWN        12\n",
       "pwn         8\n",
       "HMB         8\n",
       "agn         8\n",
       "sbg         8\n",
       "bin         6\n",
       "RDG         6\n",
       "lmb         6\n",
       "css         5\n",
       "NLSY1       4\n",
       "gal         4\n",
       "NOV         4\n",
       "nlsy1       4\n",
       "hmb         3\n",
       "SFR         3\n",
       "LMB         2\n",
       "sfr         2\n",
       "ssrq        2\n",
       "GAL         2\n",
       "psr         2\n",
       "sey         2\n",
       "AGN         1\n",
       "BCU         1\n",
       "BIN         1\n",
       "GC          1\n",
       "Name: CLASS1, dtype: int64"
      ]
     },
     "execution_count": 11,
     "metadata": {},
     "output_type": "execute_result"
    }
   ],
   "source": [
    "df['CLASS1'].value_counts()"
   ]
  },
  {
   "cell_type": "code",
   "execution_count": 12,
   "id": "1e0abe00",
   "metadata": {
    "execution": {
     "iopub.execute_input": "2023-02-27T16:07:53.703164Z",
     "iopub.status.busy": "2023-02-27T16:07:53.702482Z",
     "iopub.status.idle": "2023-02-27T16:07:53.710871Z",
     "shell.execute_reply": "2023-02-27T16:07:53.709882Z"
    },
    "papermill": {
     "duration": 0.023055,
     "end_time": "2023-02-27T16:07:53.713107",
     "exception": false,
     "start_time": "2023-02-27T16:07:53.690052",
     "status": "completed"
    },
    "tags": []
   },
   "outputs": [
    {
     "data": {
      "text/plain": [
       "2157"
      ]
     },
     "execution_count": 12,
     "metadata": {},
     "output_type": "execute_result"
    }
   ],
   "source": [
    "df['CLASS1'].value_counts()['     ']"
   ]
  },
  {
   "cell_type": "code",
   "execution_count": 13,
   "id": "700076e2",
   "metadata": {
    "execution": {
     "iopub.execute_input": "2023-02-27T16:07:53.737400Z",
     "iopub.status.busy": "2023-02-27T16:07:53.736698Z",
     "iopub.status.idle": "2023-02-27T16:07:53.743720Z",
     "shell.execute_reply": "2023-02-27T16:07:53.742570Z"
    },
    "papermill": {
     "duration": 0.021966,
     "end_time": "2023-02-27T16:07:53.746133",
     "exception": false,
     "start_time": "2023-02-27T16:07:53.724167",
     "status": "completed"
    },
    "tags": []
   },
   "outputs": [
    {
     "data": {
      "text/plain": [
       "(6659, 24)"
      ]
     },
     "execution_count": 13,
     "metadata": {},
     "output_type": "execute_result"
    }
   ],
   "source": [
    "df.shape"
   ]
  },
  {
   "cell_type": "code",
   "execution_count": 14,
   "id": "6b6d89c5",
   "metadata": {
    "execution": {
     "iopub.execute_input": "2023-02-27T16:07:53.770177Z",
     "iopub.status.busy": "2023-02-27T16:07:53.769754Z",
     "iopub.status.idle": "2023-02-27T16:07:53.776166Z",
     "shell.execute_reply": "2023-02-27T16:07:53.775045Z"
    },
    "papermill": {
     "duration": 0.021496,
     "end_time": "2023-02-27T16:07:53.778725",
     "exception": false,
     "start_time": "2023-02-27T16:07:53.757229",
     "status": "completed"
    },
    "tags": []
   },
   "outputs": [
    {
     "data": {
      "text/plain": [
       "32.39225108875207"
      ]
     },
     "execution_count": 14,
     "metadata": {},
     "output_type": "execute_result"
    }
   ],
   "source": [
    "(2157/6659)*100"
   ]
  },
  {
   "cell_type": "code",
   "execution_count": 15,
   "id": "126d4159",
   "metadata": {
    "execution": {
     "iopub.execute_input": "2023-02-27T16:07:53.802936Z",
     "iopub.status.busy": "2023-02-27T16:07:53.802538Z",
     "iopub.status.idle": "2023-02-27T16:07:53.810137Z",
     "shell.execute_reply": "2023-02-27T16:07:53.809151Z"
    },
    "papermill": {
     "duration": 0.022544,
     "end_time": "2023-02-27T16:07:53.812503",
     "exception": false,
     "start_time": "2023-02-27T16:07:53.789959",
     "status": "completed"
    },
    "tags": []
   },
   "outputs": [],
   "source": [
    "df1=df.copy()\n",
    "df1['CLASS1'].replace({'     ': np.nan}, inplace=True)"
   ]
  },
  {
   "cell_type": "code",
   "execution_count": 16,
   "id": "059ec7cf",
   "metadata": {
    "execution": {
     "iopub.execute_input": "2023-02-27T16:07:53.836736Z",
     "iopub.status.busy": "2023-02-27T16:07:53.835795Z",
     "iopub.status.idle": "2023-02-27T16:07:53.842946Z",
     "shell.execute_reply": "2023-02-27T16:07:53.841971Z"
    },
    "papermill": {
     "duration": 0.021537,
     "end_time": "2023-02-27T16:07:53.845101",
     "exception": false,
     "start_time": "2023-02-27T16:07:53.823564",
     "status": "completed"
    },
    "tags": []
   },
   "outputs": [
    {
     "data": {
      "text/plain": [
       "2157"
      ]
     },
     "execution_count": 16,
     "metadata": {},
     "output_type": "execute_result"
    }
   ],
   "source": [
    "df1['CLASS1'].isnull().sum()"
   ]
  },
  {
   "cell_type": "markdown",
   "id": "43143582",
   "metadata": {
    "papermill": {
     "duration": 0.010965,
     "end_time": "2023-02-27T16:07:53.867580",
     "exception": false,
     "start_time": "2023-02-27T16:07:53.856615",
     "status": "completed"
    },
    "tags": []
   },
   "source": [
    "find the null values for the whole table "
   ]
  },
  {
   "cell_type": "code",
   "execution_count": 17,
   "id": "2d7e153b",
   "metadata": {
    "execution": {
     "iopub.execute_input": "2023-02-27T16:07:53.891591Z",
     "iopub.status.busy": "2023-02-27T16:07:53.891193Z",
     "iopub.status.idle": "2023-02-27T16:07:53.901901Z",
     "shell.execute_reply": "2023-02-27T16:07:53.900863Z"
    },
    "papermill": {
     "duration": 0.025562,
     "end_time": "2023-02-27T16:07:53.904184",
     "exception": false,
     "start_time": "2023-02-27T16:07:53.878622",
     "status": "completed"
    },
    "tags": []
   },
   "outputs": [
    {
     "data": {
      "text/plain": [
       "Unnamed: 0              0\n",
       "Name                    0\n",
       "RA (deg)                0\n",
       "DEC (deg)               0\n",
       "Signif_Avg              1\n",
       "Pivot_Energy            0\n",
       "Flux1000                0\n",
       "Energy_Flux100          0\n",
       "PL_Flux_Density         1\n",
       "PL_Index                1\n",
       "LP_Flux_Density         0\n",
       "LP_Index                0\n",
       "LP_beta                 0\n",
       "LP_SigCurv              0\n",
       "PLEC_Flux_Density       1\n",
       "PLEC_IndexS             1\n",
       "PLEC_ExpfactorS         1\n",
       "PLEC_Exp_Index          1\n",
       "PLEC_SigCurv            0\n",
       "Npred                   0\n",
       "Variability_Index       0\n",
       "Frac_Variability        0\n",
       "CLASS1               2157\n",
       "CLASS2                  0\n",
       "dtype: int64"
      ]
     },
     "execution_count": 17,
     "metadata": {},
     "output_type": "execute_result"
    }
   ],
   "source": [
    "df1.isnull().sum()"
   ]
  },
  {
   "cell_type": "code",
   "execution_count": 18,
   "id": "99803364",
   "metadata": {
    "execution": {
     "iopub.execute_input": "2023-02-27T16:07:53.928941Z",
     "iopub.status.busy": "2023-02-27T16:07:53.927948Z",
     "iopub.status.idle": "2023-02-27T16:07:53.939233Z",
     "shell.execute_reply": "2023-02-27T16:07:53.938169Z"
    },
    "papermill": {
     "duration": 0.026013,
     "end_time": "2023-02-27T16:07:53.941480",
     "exception": false,
     "start_time": "2023-02-27T16:07:53.915467",
     "status": "completed"
    },
    "tags": []
   },
   "outputs": [
    {
     "data": {
      "text/plain": [
       "Unnamed: 0              0\n",
       "Name                    0\n",
       "RA (deg)                0\n",
       "DEC (deg)               0\n",
       "Signif_Avg              1\n",
       "Pivot_Energy            0\n",
       "Flux1000                0\n",
       "Energy_Flux100          0\n",
       "PL_Flux_Density         1\n",
       "PL_Index                1\n",
       "LP_Flux_Density         0\n",
       "LP_Index                0\n",
       "LP_beta                 0\n",
       "LP_SigCurv              0\n",
       "PLEC_Flux_Density       1\n",
       "PLEC_IndexS             1\n",
       "PLEC_ExpfactorS         1\n",
       "PLEC_Exp_Index          1\n",
       "PLEC_SigCurv            0\n",
       "Npred                   0\n",
       "Variability_Index       0\n",
       "Frac_Variability        0\n",
       "CLASS1               2157\n",
       "CLASS2                  0\n",
       "dtype: int64"
      ]
     },
     "execution_count": 18,
     "metadata": {},
     "output_type": "execute_result"
    }
   ],
   "source": [
    "df1.isna().sum()"
   ]
  },
  {
   "cell_type": "code",
   "execution_count": 19,
   "id": "08ebff36",
   "metadata": {
    "execution": {
     "iopub.execute_input": "2023-02-27T16:07:53.966167Z",
     "iopub.status.busy": "2023-02-27T16:07:53.965760Z",
     "iopub.status.idle": "2023-02-27T16:07:53.970922Z",
     "shell.execute_reply": "2023-02-27T16:07:53.969865Z"
    },
    "papermill": {
     "duration": 0.020162,
     "end_time": "2023-02-27T16:07:53.973170",
     "exception": false,
     "start_time": "2023-02-27T16:07:53.953008",
     "status": "completed"
    },
    "tags": []
   },
   "outputs": [],
   "source": [
    "null_list=['Signif_Avg','PL_Flux_Density','PL_Index','PLEC_Flux_Density','PLEC_IndexS','PLEC_ExpfactorS','PLEC_Exp_Index']"
   ]
  },
  {
   "cell_type": "markdown",
   "id": "6fbd754b",
   "metadata": {
    "papermill": {
     "duration": 0.011244,
     "end_time": "2023-02-27T16:07:53.995942",
     "exception": false,
     "start_time": "2023-02-27T16:07:53.984698",
     "status": "completed"
    },
    "tags": []
   },
   "source": [
    "dropping null values in the table"
   ]
  },
  {
   "cell_type": "code",
   "execution_count": 20,
   "id": "58786c23",
   "metadata": {
    "execution": {
     "iopub.execute_input": "2023-02-27T16:07:54.021940Z",
     "iopub.status.busy": "2023-02-27T16:07:54.021362Z",
     "iopub.status.idle": "2023-02-27T16:07:54.032553Z",
     "shell.execute_reply": "2023-02-27T16:07:54.031705Z"
    },
    "papermill": {
     "duration": 0.028489,
     "end_time": "2023-02-27T16:07:54.035902",
     "exception": false,
     "start_time": "2023-02-27T16:07:54.007413",
     "status": "completed"
    },
    "tags": []
   },
   "outputs": [],
   "source": [
    "df1= df1.dropna(subset=null_list)"
   ]
  },
  {
   "cell_type": "code",
   "execution_count": 21,
   "id": "ac74387f",
   "metadata": {
    "execution": {
     "iopub.execute_input": "2023-02-27T16:07:54.066108Z",
     "iopub.status.busy": "2023-02-27T16:07:54.064792Z",
     "iopub.status.idle": "2023-02-27T16:07:54.079427Z",
     "shell.execute_reply": "2023-02-27T16:07:54.078143Z"
    },
    "papermill": {
     "duration": 0.033868,
     "end_time": "2023-02-27T16:07:54.082301",
     "exception": false,
     "start_time": "2023-02-27T16:07:54.048433",
     "status": "completed"
    },
    "tags": []
   },
   "outputs": [
    {
     "data": {
      "text/plain": [
       "Unnamed: 0              0\n",
       "Name                    0\n",
       "RA (deg)                0\n",
       "DEC (deg)               0\n",
       "Signif_Avg              0\n",
       "Pivot_Energy            0\n",
       "Flux1000                0\n",
       "Energy_Flux100          0\n",
       "PL_Flux_Density         0\n",
       "PL_Index                0\n",
       "LP_Flux_Density         0\n",
       "LP_Index                0\n",
       "LP_beta                 0\n",
       "LP_SigCurv              0\n",
       "PLEC_Flux_Density       0\n",
       "PLEC_IndexS             0\n",
       "PLEC_ExpfactorS         0\n",
       "PLEC_Exp_Index          0\n",
       "PLEC_SigCurv            0\n",
       "Npred                   0\n",
       "Variability_Index       0\n",
       "Frac_Variability        0\n",
       "CLASS1               2157\n",
       "CLASS2                  0\n",
       "dtype: int64"
      ]
     },
     "execution_count": 21,
     "metadata": {},
     "output_type": "execute_result"
    }
   ],
   "source": [
    "df1.isnull().sum()"
   ]
  },
  {
   "cell_type": "code",
   "execution_count": 22,
   "id": "8c2b5c00",
   "metadata": {
    "execution": {
     "iopub.execute_input": "2023-02-27T16:07:54.113031Z",
     "iopub.status.busy": "2023-02-27T16:07:54.112282Z",
     "iopub.status.idle": "2023-02-27T16:07:54.118645Z",
     "shell.execute_reply": "2023-02-27T16:07:54.117823Z"
    },
    "papermill": {
     "duration": 0.023193,
     "end_time": "2023-02-27T16:07:54.120698",
     "exception": false,
     "start_time": "2023-02-27T16:07:54.097505",
     "status": "completed"
    },
    "tags": []
   },
   "outputs": [
    {
     "data": {
      "text/plain": [
       "Index(['Unnamed: 0', 'Name', 'RA (deg)', 'DEC (deg)', 'Signif_Avg',\n",
       "       'Pivot_Energy', 'Flux1000', 'Energy_Flux100', 'PL_Flux_Density',\n",
       "       'PL_Index', 'LP_Flux_Density', 'LP_Index', 'LP_beta', 'LP_SigCurv',\n",
       "       'PLEC_Flux_Density', 'PLEC_IndexS', 'PLEC_ExpfactorS', 'PLEC_Exp_Index',\n",
       "       'PLEC_SigCurv', 'Npred', 'Variability_Index', 'Frac_Variability',\n",
       "       'CLASS1', 'CLASS2'],\n",
       "      dtype='object')"
      ]
     },
     "execution_count": 22,
     "metadata": {},
     "output_type": "execute_result"
    }
   ],
   "source": [
    "df1.columns"
   ]
  },
  {
   "cell_type": "code",
   "execution_count": 23,
   "id": "a2a07433",
   "metadata": {
    "execution": {
     "iopub.execute_input": "2023-02-27T16:07:54.146320Z",
     "iopub.status.busy": "2023-02-27T16:07:54.145630Z",
     "iopub.status.idle": "2023-02-27T16:07:54.153072Z",
     "shell.execute_reply": "2023-02-27T16:07:54.152264Z"
    },
    "papermill": {
     "duration": 0.0227,
     "end_time": "2023-02-27T16:07:54.155265",
     "exception": false,
     "start_time": "2023-02-27T16:07:54.132565",
     "status": "completed"
    },
    "tags": []
   },
   "outputs": [],
   "source": [
    "# select rows with null values in 'my_column'\n",
    "null_df = df1[df1['CLASS1'].isnull()]\n",
    "\n",
    "# select rows without null values in 'my_column'\n",
    "not_null_df = df1[~df1['CLASS1'].isnull()]"
   ]
  },
  {
   "cell_type": "code",
   "execution_count": 24,
   "id": "bc53ecb6",
   "metadata": {
    "execution": {
     "iopub.execute_input": "2023-02-27T16:07:54.180818Z",
     "iopub.status.busy": "2023-02-27T16:07:54.180140Z",
     "iopub.status.idle": "2023-02-27T16:07:54.189450Z",
     "shell.execute_reply": "2023-02-27T16:07:54.188545Z"
    },
    "papermill": {
     "duration": 0.024606,
     "end_time": "2023-02-27T16:07:54.191616",
     "exception": false,
     "start_time": "2023-02-27T16:07:54.167010",
     "status": "completed"
    },
    "tags": []
   },
   "outputs": [
    {
     "data": {
      "text/plain": [
       "Unnamed: 0           0\n",
       "Name                 0\n",
       "RA (deg)             0\n",
       "DEC (deg)            0\n",
       "Signif_Avg           0\n",
       "Pivot_Energy         0\n",
       "Flux1000             0\n",
       "Energy_Flux100       0\n",
       "PL_Flux_Density      0\n",
       "PL_Index             0\n",
       "LP_Flux_Density      0\n",
       "LP_Index             0\n",
       "LP_beta              0\n",
       "LP_SigCurv           0\n",
       "PLEC_Flux_Density    0\n",
       "PLEC_IndexS          0\n",
       "PLEC_ExpfactorS      0\n",
       "PLEC_Exp_Index       0\n",
       "PLEC_SigCurv         0\n",
       "Npred                0\n",
       "Variability_Index    0\n",
       "Frac_Variability     0\n",
       "CLASS1               0\n",
       "CLASS2               0\n",
       "dtype: int64"
      ]
     },
     "execution_count": 24,
     "metadata": {},
     "output_type": "execute_result"
    }
   ],
   "source": [
    "not_null_df.isnull().sum()"
   ]
  },
  {
   "cell_type": "markdown",
   "id": "899c97fa",
   "metadata": {
    "papermill": {
     "duration": 0.01213,
     "end_time": "2023-02-27T16:07:54.215675",
     "exception": false,
     "start_time": "2023-02-27T16:07:54.203545",
     "status": "completed"
    },
    "tags": []
   },
   "source": [
    "splitting the dataset to perform mutual information for feature selection"
   ]
  },
  {
   "cell_type": "code",
   "execution_count": 25,
   "id": "3baa1795",
   "metadata": {
    "execution": {
     "iopub.execute_input": "2023-02-27T16:07:54.242489Z",
     "iopub.status.busy": "2023-02-27T16:07:54.241738Z",
     "iopub.status.idle": "2023-02-27T16:07:54.247752Z",
     "shell.execute_reply": "2023-02-27T16:07:54.246867Z"
    },
    "papermill": {
     "duration": 0.021725,
     "end_time": "2023-02-27T16:07:54.249946",
     "exception": false,
     "start_time": "2023-02-27T16:07:54.228221",
     "status": "completed"
    },
    "tags": []
   },
   "outputs": [],
   "source": [
    "X_df1=not_null_df.iloc[:,2:22]\n",
    "X_df1.columns\n",
    "y_df1=not_null_df['CLASS1']"
   ]
  },
  {
   "cell_type": "markdown",
   "id": "618c46a9",
   "metadata": {
    "papermill": {
     "duration": 0.011599,
     "end_time": "2023-02-27T16:07:54.273406",
     "exception": false,
     "start_time": "2023-02-27T16:07:54.261807",
     "status": "completed"
    },
    "tags": []
   },
   "source": [
    "doing another search of null values just in case"
   ]
  },
  {
   "cell_type": "code",
   "execution_count": 26,
   "id": "3c9ec5a5",
   "metadata": {
    "execution": {
     "iopub.execute_input": "2023-02-27T16:07:54.298804Z",
     "iopub.status.busy": "2023-02-27T16:07:54.298396Z",
     "iopub.status.idle": "2023-02-27T16:07:54.306299Z",
     "shell.execute_reply": "2023-02-27T16:07:54.305304Z"
    },
    "papermill": {
     "duration": 0.023234,
     "end_time": "2023-02-27T16:07:54.308457",
     "exception": false,
     "start_time": "2023-02-27T16:07:54.285223",
     "status": "completed"
    },
    "tags": []
   },
   "outputs": [
    {
     "data": {
      "text/plain": [
       "0"
      ]
     },
     "execution_count": 26,
     "metadata": {},
     "output_type": "execute_result"
    }
   ],
   "source": [
    "X_df1.isnull().sum().sum()"
   ]
  },
  {
   "cell_type": "code",
   "execution_count": 27,
   "id": "12f88d10",
   "metadata": {
    "execution": {
     "iopub.execute_input": "2023-02-27T16:07:54.334222Z",
     "iopub.status.busy": "2023-02-27T16:07:54.333552Z",
     "iopub.status.idle": "2023-02-27T16:07:54.340201Z",
     "shell.execute_reply": "2023-02-27T16:07:54.339416Z"
    },
    "papermill": {
     "duration": 0.021884,
     "end_time": "2023-02-27T16:07:54.342229",
     "exception": false,
     "start_time": "2023-02-27T16:07:54.320345",
     "status": "completed"
    },
    "tags": []
   },
   "outputs": [
    {
     "data": {
      "text/plain": [
       "0"
      ]
     },
     "execution_count": 27,
     "metadata": {},
     "output_type": "execute_result"
    }
   ],
   "source": [
    "y_df1.isnull().sum().sum()"
   ]
  },
  {
   "cell_type": "markdown",
   "id": "580ea46e",
   "metadata": {
    "papermill": {
     "duration": 0.01169,
     "end_time": "2023-02-27T16:07:54.365914",
     "exception": false,
     "start_time": "2023-02-27T16:07:54.354224",
     "status": "completed"
    },
    "tags": []
   },
   "source": [
    "trying mutual info classification"
   ]
  },
  {
   "cell_type": "code",
   "execution_count": 28,
   "id": "1b770981",
   "metadata": {
    "execution": {
     "iopub.execute_input": "2023-02-27T16:07:54.392209Z",
     "iopub.status.busy": "2023-02-27T16:07:54.391198Z",
     "iopub.status.idle": "2023-02-27T16:07:54.397913Z",
     "shell.execute_reply": "2023-02-27T16:07:54.397099Z"
    },
    "papermill": {
     "duration": 0.022055,
     "end_time": "2023-02-27T16:07:54.400050",
     "exception": false,
     "start_time": "2023-02-27T16:07:54.377995",
     "status": "completed"
    },
    "tags": []
   },
   "outputs": [
    {
     "data": {
      "text/plain": [
       "array(['bcu  ', 'bll  ', 'fsrq ', 'unk  ', 'spp  ', 'PSR  ', 'rdg  ',\n",
       "       'agn  ', 'FSRQ ', 'MSP  ', 'glc  ', 'snr  ', 'gal  ', 'sbg  ',\n",
       "       'BLL  ', 'GAL  ', 'sfr  ', 'bin  ', 'SNR  ', 'HMB  ', 'RDG  ',\n",
       "       'nlsy1', 'msp  ', 'lmb  ', 'NOV  ', 'LMB  ', 'css  ', 'AGN  ',\n",
       "       'PWN  ', 'pwn  ', 'BCU  ', 'hmb  ', 'ssrq ', 'NLSY1', 'psr  ',\n",
       "       'SFR  ', 'BIN  ', 'sey  ', 'GC   '], dtype=object)"
      ]
     },
     "execution_count": 28,
     "metadata": {},
     "output_type": "execute_result"
    }
   ],
   "source": [
    "y_df1.unique()"
   ]
  },
  {
   "cell_type": "code",
   "execution_count": 29,
   "id": "48f46479",
   "metadata": {
    "execution": {
     "iopub.execute_input": "2023-02-27T16:07:54.426528Z",
     "iopub.status.busy": "2023-02-27T16:07:54.425893Z",
     "iopub.status.idle": "2023-02-27T16:07:54.431599Z",
     "shell.execute_reply": "2023-02-27T16:07:54.430574Z"
    },
    "papermill": {
     "duration": 0.021596,
     "end_time": "2023-02-27T16:07:54.433891",
     "exception": false,
     "start_time": "2023-02-27T16:07:54.412295",
     "status": "completed"
    },
    "tags": []
   },
   "outputs": [
    {
     "data": {
      "text/plain": [
       "(4501,)"
      ]
     },
     "execution_count": 29,
     "metadata": {},
     "output_type": "execute_result"
    }
   ],
   "source": [
    "y_df1.shape"
   ]
  },
  {
   "cell_type": "code",
   "execution_count": 30,
   "id": "9cbea972",
   "metadata": {
    "execution": {
     "iopub.execute_input": "2023-02-27T16:07:54.460696Z",
     "iopub.status.busy": "2023-02-27T16:07:54.459794Z",
     "iopub.status.idle": "2023-02-27T16:07:54.469396Z",
     "shell.execute_reply": "2023-02-27T16:07:54.468228Z"
    },
    "papermill": {
     "duration": 0.025328,
     "end_time": "2023-02-27T16:07:54.471685",
     "exception": false,
     "start_time": "2023-02-27T16:07:54.446357",
     "status": "completed"
    },
    "tags": []
   },
   "outputs": [
    {
     "data": {
      "text/plain": [
       "bcu      1492\n",
       "bll      1434\n",
       "fsrq      750\n",
       "PSR       135\n",
       "unk       134\n",
       "MSP       120\n",
       "spp       114\n",
       "FSRQ       44\n",
       "rdg        39\n",
       "glc        35\n",
       "msp        35\n",
       "SNR        24\n",
       "BLL        22\n",
       "snr        19\n",
       "PWN        11\n",
       "pwn         8\n",
       "HMB         8\n",
       "agn         8\n",
       "sbg         8\n",
       "bin         6\n",
       "RDG         6\n",
       "lmb         6\n",
       "css         5\n",
       "NLSY1       4\n",
       "gal         4\n",
       "NOV         4\n",
       "nlsy1       4\n",
       "hmb         3\n",
       "SFR         3\n",
       "LMB         2\n",
       "sfr         2\n",
       "ssrq        2\n",
       "GAL         2\n",
       "psr         2\n",
       "sey         2\n",
       "AGN         1\n",
       "BCU         1\n",
       "BIN         1\n",
       "GC          1\n",
       "Name: CLASS1, dtype: int64"
      ]
     },
     "execution_count": 30,
     "metadata": {},
     "output_type": "execute_result"
    }
   ],
   "source": [
    "y_df1.value_counts()"
   ]
  },
  {
   "cell_type": "code",
   "execution_count": 31,
   "id": "a4d3eea9",
   "metadata": {
    "execution": {
     "iopub.execute_input": "2023-02-27T16:07:54.499019Z",
     "iopub.status.busy": "2023-02-27T16:07:54.498254Z",
     "iopub.status.idle": "2023-02-27T16:07:56.664329Z",
     "shell.execute_reply": "2023-02-27T16:07:56.663064Z"
    },
    "papermill": {
     "duration": 2.18341,
     "end_time": "2023-02-27T16:07:56.667615",
     "exception": false,
     "start_time": "2023-02-27T16:07:54.484205",
     "status": "completed"
    },
    "tags": []
   },
   "outputs": [
    {
     "name": "stdout",
     "output_type": "stream",
     "text": [
      "Index(['Signif_Avg', 'Pivot_Energy', 'Flux1000', 'PL_Index', 'LP_Index',\n",
      "       'LP_beta', 'LP_SigCurv', 'PLEC_IndexS', 'PLEC_ExpfactorS',\n",
      "       'PLEC_SigCurv', 'Npred', 'Variability_Index', 'Frac_Variability'],\n",
      "      dtype='object')\n"
     ]
    }
   ],
   "source": [
    "from sklearn.feature_selection import mutual_info_classif\n",
    "\n",
    "\n",
    "# X is your dataset, and y is your target column\n",
    "# assuming X is a pandas DataFrame\n",
    "mi_scores = mutual_info_classif(X_df1, y_df1.values.ravel())\n",
    "\n",
    "# create a boolean mask to select only the features with mutual information > -.15\n",
    "mask = mi_scores > 0.15\n",
    "\n",
    "# get the feature names that satisfy the mask\n",
    "selected_features = X_df1.columns[mask]\n",
    "\n",
    "# print the selected feature names\n",
    "print(selected_features)"
   ]
  },
  {
   "cell_type": "markdown",
   "id": "9aec8e5a",
   "metadata": {
    "papermill": {
     "duration": 0.012382,
     "end_time": "2023-02-27T16:07:56.692857",
     "exception": false,
     "start_time": "2023-02-27T16:07:56.680475",
     "status": "completed"
    },
    "tags": []
   },
   "source": [
    "print the selected features above a specific value"
   ]
  },
  {
   "cell_type": "markdown",
   "id": "1be3970f",
   "metadata": {
    "papermill": {
     "duration": 0.012786,
     "end_time": "2023-02-27T16:07:56.718331",
     "exception": false,
     "start_time": "2023-02-27T16:07:56.705545",
     "status": "completed"
    },
    "tags": []
   },
   "source": [
    "get the selected features needed"
   ]
  },
  {
   "cell_type": "code",
   "execution_count": 32,
   "id": "761c77c2",
   "metadata": {
    "execution": {
     "iopub.execute_input": "2023-02-27T16:07:56.746474Z",
     "iopub.status.busy": "2023-02-27T16:07:56.745812Z",
     "iopub.status.idle": "2023-02-27T16:07:56.750801Z",
     "shell.execute_reply": "2023-02-27T16:07:56.749961Z"
    },
    "papermill": {
     "duration": 0.021623,
     "end_time": "2023-02-27T16:07:56.752951",
     "exception": false,
     "start_time": "2023-02-27T16:07:56.731328",
     "status": "completed"
    },
    "tags": []
   },
   "outputs": [],
   "source": [
    "X_final=df1[selected_features]"
   ]
  },
  {
   "cell_type": "code",
   "execution_count": null,
   "id": "ca762d68",
   "metadata": {
    "papermill": {
     "duration": 0.012291,
     "end_time": "2023-02-27T16:07:56.777781",
     "exception": false,
     "start_time": "2023-02-27T16:07:56.765490",
     "status": "completed"
    },
    "tags": []
   },
   "outputs": [],
   "source": []
  }
 ],
 "metadata": {
  "kernelspec": {
   "display_name": "Python 3",
   "language": "python",
   "name": "python3"
  },
  "language_info": {
   "codemirror_mode": {
    "name": "ipython",
    "version": 3
   },
   "file_extension": ".py",
   "mimetype": "text/x-python",
   "name": "python",
   "nbconvert_exporter": "python",
   "pygments_lexer": "ipython3",
   "version": "3.7.12"
  },
  "papermill": {
   "default_parameters": {},
   "duration": 14.285048,
   "end_time": "2023-02-27T16:07:57.512683",
   "environment_variables": {},
   "exception": null,
   "input_path": "__notebook__.ipynb",
   "output_path": "__notebook__.ipynb",
   "parameters": {},
   "start_time": "2023-02-27T16:07:43.227635",
   "version": "2.4.0"
  }
 },
 "nbformat": 4,
 "nbformat_minor": 5
}
