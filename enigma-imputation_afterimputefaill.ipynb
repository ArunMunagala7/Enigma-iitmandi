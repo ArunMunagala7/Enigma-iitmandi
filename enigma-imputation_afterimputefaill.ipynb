{
 "cells": [
  {
   "cell_type": "code",
   "execution_count": 1,
   "id": "891587b4",
   "metadata": {
    "_cell_guid": "b1076dfc-b9ad-4769-8c92-a6c4dae69d19",
    "_uuid": "8f2839f25d086af736a60e9eeb907d3b93b6e0e5",
    "execution": {
     "iopub.execute_input": "2023-02-28T05:41:47.191571Z",
     "iopub.status.busy": "2023-02-28T05:41:47.190295Z",
     "iopub.status.idle": "2023-02-28T05:41:47.210140Z",
     "shell.execute_reply": "2023-02-28T05:41:47.208778Z"
    },
    "papermill": {
     "duration": 0.039319,
     "end_time": "2023-02-28T05:41:47.213200",
     "exception": false,
     "start_time": "2023-02-28T05:41:47.173881",
     "status": "completed"
    },
    "tags": []
   },
   "outputs": [
    {
     "name": "stdout",
     "output_type": "stream",
     "text": [
      "/kaggle/input/enigma-ps1/4FGL_DR3_Dataset_Enigma.csv\n"
     ]
    }
   ],
   "source": [
    "# This Pfthon 3 environment comes with many helpful analytics libraries installed\n",
    "# It is defined by the kaggle/python Docker image: https://github.com/kaggle/docker-python\n",
    "# For example, here's several helpful packages to load\n",
    "\n",
    "import numpy as np # linear algebra\n",
    "import pandas as pd # data processing, CSV file I/O (e.g. pd.read_csv)\n",
    "\n",
    "# Input data files are available in the read-only \"../input/\" directory\n",
    "# For example, running this (by clicking run or pressing Shift+Enter) will list all files under the input directory\n",
    "\n",
    "import os\n",
    "for dirname, _, filenames in os.walk('/kaggle/input'):\n",
    "    for filename in filenames:\n",
    "        print(os.path.join(dirname, filename))\n",
    "\n",
    "# You can write up to 20GB to the current directory (/kaggle/working/) that gets preserved as output when you create a version using \"Save & Run All\" \n",
    "# You can also write temporary files to /kaggle/temp/, but they won't be saved outside of the current session"
   ]
  },
  {
   "cell_type": "code",
   "execution_count": 2,
   "id": "f99028d2",
   "metadata": {
    "execution": {
     "iopub.execute_input": "2023-02-28T05:41:47.247599Z",
     "iopub.status.busy": "2023-02-28T05:41:47.246583Z",
     "iopub.status.idle": "2023-02-28T05:41:47.363650Z",
     "shell.execute_reply": "2023-02-28T05:41:47.362375Z"
    },
    "papermill": {
     "duration": 0.137274,
     "end_time": "2023-02-28T05:41:47.366119",
     "exception": false,
     "start_time": "2023-02-28T05:41:47.228845",
     "status": "completed"
    },
    "tags": []
   },
   "outputs": [
    {
     "data": {
      "text/html": [
       "<div>\n",
       "<style scoped>\n",
       "    .dataframe tbody tr th:only-of-type {\n",
       "        vertical-align: middle;\n",
       "    }\n",
       "\n",
       "    .dataframe tbody tr th {\n",
       "        vertical-align: top;\n",
       "    }\n",
       "\n",
       "    .dataframe thead th {\n",
       "        text-align: right;\n",
       "    }\n",
       "</style>\n",
       "<table border=\"1\" class=\"dataframe\">\n",
       "  <thead>\n",
       "    <tr style=\"text-align: right;\">\n",
       "      <th></th>\n",
       "      <th>Unnamed: 0</th>\n",
       "      <th>Name</th>\n",
       "      <th>RA (deg)</th>\n",
       "      <th>DEC (deg)</th>\n",
       "      <th>Signif_Avg</th>\n",
       "      <th>Pivot_Energy</th>\n",
       "      <th>Flux1000</th>\n",
       "      <th>Energy_Flux100</th>\n",
       "      <th>PL_Flux_Density</th>\n",
       "      <th>PL_Index</th>\n",
       "      <th>...</th>\n",
       "      <th>PLEC_Flux_Density</th>\n",
       "      <th>PLEC_IndexS</th>\n",
       "      <th>PLEC_ExpfactorS</th>\n",
       "      <th>PLEC_Exp_Index</th>\n",
       "      <th>PLEC_SigCurv</th>\n",
       "      <th>Npred</th>\n",
       "      <th>Variability_Index</th>\n",
       "      <th>Frac_Variability</th>\n",
       "      <th>CLASS1</th>\n",
       "      <th>CLASS2</th>\n",
       "    </tr>\n",
       "  </thead>\n",
       "  <tbody>\n",
       "    <tr>\n",
       "      <th>0</th>\n",
       "      <td>0</td>\n",
       "      <td>4FGL J0000.3-7355</td>\n",
       "      <td>0.0983</td>\n",
       "      <td>0.0983</td>\n",
       "      <td>7.459561</td>\n",
       "      <td>2329.5903</td>\n",
       "      <td>1.392216e-10</td>\n",
       "      <td>1.581099e-12</td>\n",
       "      <td>2.610434e-14</td>\n",
       "      <td>2.179690</td>\n",
       "      <td>...</td>\n",
       "      <td>2.918480e-14</td>\n",
       "      <td>1.993013</td>\n",
       "      <td>0.150609</td>\n",
       "      <td>0.666667</td>\n",
       "      <td>1.292339</td>\n",
       "      <td>305.21463</td>\n",
       "      <td>14.602470</td>\n",
       "      <td>0.215777</td>\n",
       "      <td></td>\n",
       "      <td></td>\n",
       "    </tr>\n",
       "    <tr>\n",
       "      <th>1</th>\n",
       "      <td>1</td>\n",
       "      <td>4FGL J0000.5+0743</td>\n",
       "      <td>0.1375</td>\n",
       "      <td>0.1375</td>\n",
       "      <td>5.271726</td>\n",
       "      <td>1304.1947</td>\n",
       "      <td>1.951913e-10</td>\n",
       "      <td>1.121896e-12</td>\n",
       "      <td>1.039931e-13</td>\n",
       "      <td>2.349694</td>\n",
       "      <td>...</td>\n",
       "      <td>1.475405e-13</td>\n",
       "      <td>1.998095</td>\n",
       "      <td>0.586220</td>\n",
       "      <td>0.666667</td>\n",
       "      <td>2.532814</td>\n",
       "      <td>197.24410</td>\n",
       "      <td>25.399525</td>\n",
       "      <td>0.687574</td>\n",
       "      <td></td>\n",
       "      <td></td>\n",
       "    </tr>\n",
       "    <tr>\n",
       "      <th>2</th>\n",
       "      <td>2</td>\n",
       "      <td>4FGL J0000.7+2530</td>\n",
       "      <td>0.1878</td>\n",
       "      <td>0.1878</td>\n",
       "      <td>4.177483</td>\n",
       "      <td>6318.9400</td>\n",
       "      <td>7.202151e-11</td>\n",
       "      <td>8.571274e-13</td>\n",
       "      <td>2.058057e-15</td>\n",
       "      <td>1.852803</td>\n",
       "      <td>...</td>\n",
       "      <td>3.079466e-15</td>\n",
       "      <td>1.507830</td>\n",
       "      <td>0.720244</td>\n",
       "      <td>0.666667</td>\n",
       "      <td>1.562938</td>\n",
       "      <td>87.70652</td>\n",
       "      <td>13.650518</td>\n",
       "      <td>0.000000</td>\n",
       "      <td></td>\n",
       "      <td></td>\n",
       "    </tr>\n",
       "    <tr>\n",
       "      <th>3</th>\n",
       "      <td>3</td>\n",
       "      <td>4FGL J0001.2+4741</td>\n",
       "      <td>0.3126</td>\n",
       "      <td>0.3126</td>\n",
       "      <td>4.692600</td>\n",
       "      <td>2420.5752</td>\n",
       "      <td>1.259796e-10</td>\n",
       "      <td>1.499454e-12</td>\n",
       "      <td>2.156031e-14</td>\n",
       "      <td>2.271696</td>\n",
       "      <td>...</td>\n",
       "      <td>2.228697e-14</td>\n",
       "      <td>2.219642</td>\n",
       "      <td>0.029462</td>\n",
       "      <td>0.666667</td>\n",
       "      <td>0.337723</td>\n",
       "      <td>293.14978</td>\n",
       "      <td>25.313953</td>\n",
       "      <td>0.675882</td>\n",
       "      <td>bcu</td>\n",
       "      <td></td>\n",
       "    </tr>\n",
       "    <tr>\n",
       "      <th>4</th>\n",
       "      <td>4</td>\n",
       "      <td>4FGL J0001.2-0747</td>\n",
       "      <td>0.3151</td>\n",
       "      <td>0.3151</td>\n",
       "      <td>23.782486</td>\n",
       "      <td>1721.6039</td>\n",
       "      <td>7.471219e-10</td>\n",
       "      <td>8.339171e-12</td>\n",
       "      <td>2.656894e-13</td>\n",
       "      <td>2.116692</td>\n",
       "      <td>...</td>\n",
       "      <td>2.813444e-13</td>\n",
       "      <td>2.046604</td>\n",
       "      <td>0.063212</td>\n",
       "      <td>0.666667</td>\n",
       "      <td>1.892928</td>\n",
       "      <td>1192.35190</td>\n",
       "      <td>46.780693</td>\n",
       "      <td>0.406565</td>\n",
       "      <td>bll</td>\n",
       "      <td></td>\n",
       "    </tr>\n",
       "  </tbody>\n",
       "</table>\n",
       "<p>5 rows × 24 columns</p>\n",
       "</div>"
      ],
      "text/plain": [
       "   Unnamed: 0                Name  RA (deg)  DEC (deg)  Signif_Avg  \\\n",
       "0           0  4FGL J0000.3-7355     0.0983     0.0983    7.459561   \n",
       "1           1  4FGL J0000.5+0743     0.1375     0.1375    5.271726   \n",
       "2           2  4FGL J0000.7+2530     0.1878     0.1878    4.177483   \n",
       "3           3  4FGL J0001.2+4741     0.3126     0.3126    4.692600   \n",
       "4           4  4FGL J0001.2-0747     0.3151     0.3151   23.782486   \n",
       "\n",
       "   Pivot_Energy      Flux1000  Energy_Flux100  PL_Flux_Density  PL_Index  ...  \\\n",
       "0     2329.5903  1.392216e-10    1.581099e-12     2.610434e-14  2.179690  ...   \n",
       "1     1304.1947  1.951913e-10    1.121896e-12     1.039931e-13  2.349694  ...   \n",
       "2     6318.9400  7.202151e-11    8.571274e-13     2.058057e-15  1.852803  ...   \n",
       "3     2420.5752  1.259796e-10    1.499454e-12     2.156031e-14  2.271696  ...   \n",
       "4     1721.6039  7.471219e-10    8.339171e-12     2.656894e-13  2.116692  ...   \n",
       "\n",
       "   PLEC_Flux_Density  PLEC_IndexS  PLEC_ExpfactorS  PLEC_Exp_Index  \\\n",
       "0       2.918480e-14     1.993013         0.150609        0.666667   \n",
       "1       1.475405e-13     1.998095         0.586220        0.666667   \n",
       "2       3.079466e-15     1.507830         0.720244        0.666667   \n",
       "3       2.228697e-14     2.219642         0.029462        0.666667   \n",
       "4       2.813444e-13     2.046604         0.063212        0.666667   \n",
       "\n",
       "   PLEC_SigCurv       Npred  Variability_Index  Frac_Variability  CLASS1  \\\n",
       "0      1.292339   305.21463          14.602470          0.215777           \n",
       "1      2.532814   197.24410          25.399525          0.687574           \n",
       "2      1.562938    87.70652          13.650518          0.000000           \n",
       "3      0.337723   293.14978          25.313953          0.675882   bcu     \n",
       "4      1.892928  1192.35190          46.780693          0.406565   bll     \n",
       "\n",
       "       CLASS2  \n",
       "0              \n",
       "1              \n",
       "2              \n",
       "3              \n",
       "4              \n",
       "\n",
       "[5 rows x 24 columns]"
      ]
     },
     "execution_count": 2,
     "metadata": {},
     "output_type": "execute_result"
    }
   ],
   "source": [
    "train_data=pd.read_csv('/kaggle/input/enigma-ps1/4FGL_DR3_Dataset_Enigma.csv')\n",
    "train_data.head()"
   ]
  },
  {
   "cell_type": "markdown",
   "id": "265fcc71",
   "metadata": {
    "papermill": {
     "duration": 0.013623,
     "end_time": "2023-02-28T05:41:47.394362",
     "exception": false,
     "start_time": "2023-02-28T05:41:47.380739",
     "status": "completed"
    },
    "tags": []
   },
   "source": [
    "finding out the shape etc of the dataset to make it easier"
   ]
  },
  {
   "cell_type": "code",
   "execution_count": 3,
   "id": "05125db6",
   "metadata": {
    "execution": {
     "iopub.execute_input": "2023-02-28T05:41:47.425085Z",
     "iopub.status.busy": "2023-02-28T05:41:47.424583Z",
     "iopub.status.idle": "2023-02-28T05:41:47.431978Z",
     "shell.execute_reply": "2023-02-28T05:41:47.430710Z"
    },
    "papermill": {
     "duration": 0.024898,
     "end_time": "2023-02-28T05:41:47.434255",
     "exception": false,
     "start_time": "2023-02-28T05:41:47.409357",
     "status": "completed"
    },
    "tags": []
   },
   "outputs": [
    {
     "data": {
      "text/plain": [
       "(6659, 24)"
      ]
     },
     "execution_count": 3,
     "metadata": {},
     "output_type": "execute_result"
    }
   ],
   "source": [
    "train_data.shape"
   ]
  },
  {
   "cell_type": "code",
   "execution_count": 4,
   "id": "30edfb5e",
   "metadata": {
    "execution": {
     "iopub.execute_input": "2023-02-28T05:41:47.464669Z",
     "iopub.status.busy": "2023-02-28T05:41:47.463989Z",
     "iopub.status.idle": "2023-02-28T05:41:47.474368Z",
     "shell.execute_reply": "2023-02-28T05:41:47.473249Z"
    },
    "papermill": {
     "duration": 0.028473,
     "end_time": "2023-02-28T05:41:47.476599",
     "exception": false,
     "start_time": "2023-02-28T05:41:47.448126",
     "status": "completed"
    },
    "tags": []
   },
   "outputs": [
    {
     "data": {
      "text/plain": [
       "0         \n",
       "1         \n",
       "2         \n",
       "3    bcu  \n",
       "4    bll  \n",
       "Name: CLASS1, dtype: object"
      ]
     },
     "execution_count": 4,
     "metadata": {},
     "output_type": "execute_result"
    }
   ],
   "source": [
    "train_data['CLASS1'].head()"
   ]
  },
  {
   "cell_type": "markdown",
   "id": "a69b57d0",
   "metadata": {
    "papermill": {
     "duration": 0.013698,
     "end_time": "2023-02-28T05:41:47.504376",
     "exception": false,
     "start_time": "2023-02-28T05:41:47.490678",
     "status": "completed"
    },
    "tags": []
   },
   "source": [
    "check the null values"
   ]
  },
  {
   "cell_type": "code",
   "execution_count": 5,
   "id": "20ded098",
   "metadata": {
    "execution": {
     "iopub.execute_input": "2023-02-28T05:41:47.535267Z",
     "iopub.status.busy": "2023-02-28T05:41:47.534110Z",
     "iopub.status.idle": "2023-02-28T05:41:47.544274Z",
     "shell.execute_reply": "2023-02-28T05:41:47.543061Z"
    },
    "papermill": {
     "duration": 0.028047,
     "end_time": "2023-02-28T05:41:47.546550",
     "exception": false,
     "start_time": "2023-02-28T05:41:47.518503",
     "status": "completed"
    },
    "tags": []
   },
   "outputs": [
    {
     "data": {
      "text/plain": [
       "0       False\n",
       "1       False\n",
       "2       False\n",
       "3       False\n",
       "4       False\n",
       "        ...  \n",
       "6654    False\n",
       "6655    False\n",
       "6656    False\n",
       "6657    False\n",
       "6658    False\n",
       "Name: CLASS1, Length: 6659, dtype: bool"
      ]
     },
     "execution_count": 5,
     "metadata": {},
     "output_type": "execute_result"
    }
   ],
   "source": [
    "train_data['CLASS1'].isnull()"
   ]
  },
  {
   "cell_type": "code",
   "execution_count": 6,
   "id": "58bf8dc4",
   "metadata": {
    "execution": {
     "iopub.execute_input": "2023-02-28T05:41:47.578057Z",
     "iopub.status.busy": "2023-02-28T05:41:47.577348Z",
     "iopub.status.idle": "2023-02-28T05:41:47.587213Z",
     "shell.execute_reply": "2023-02-28T05:41:47.586057Z"
    },
    "papermill": {
     "duration": 0.028327,
     "end_time": "2023-02-28T05:41:47.589634",
     "exception": false,
     "start_time": "2023-02-28T05:41:47.561307",
     "status": "completed"
    },
    "tags": []
   },
   "outputs": [
    {
     "data": {
      "text/plain": [
       "'     '"
      ]
     },
     "execution_count": 6,
     "metadata": {},
     "output_type": "execute_result"
    }
   ],
   "source": [
    "train_data.loc[2,'CLASS1']"
   ]
  },
  {
   "cell_type": "markdown",
   "id": "d7514bfe",
   "metadata": {
    "papermill": {
     "duration": 0.014078,
     "end_time": "2023-02-28T05:41:47.617951",
     "exception": false,
     "start_time": "2023-02-28T05:41:47.603873",
     "status": "completed"
    },
    "tags": []
   },
   "source": [
    "finding the unique values for the classes"
   ]
  },
  {
   "cell_type": "code",
   "execution_count": 7,
   "id": "3eb4fe10",
   "metadata": {
    "execution": {
     "iopub.execute_input": "2023-02-28T05:41:47.649042Z",
     "iopub.status.busy": "2023-02-28T05:41:47.648037Z",
     "iopub.status.idle": "2023-02-28T05:41:47.660676Z",
     "shell.execute_reply": "2023-02-28T05:41:47.659575Z"
    },
    "papermill": {
     "duration": 0.030579,
     "end_time": "2023-02-28T05:41:47.662879",
     "exception": false,
     "start_time": "2023-02-28T05:41:47.632300",
     "status": "completed"
    },
    "tags": []
   },
   "outputs": [
    {
     "data": {
      "text/plain": [
       "array(['     ', 'bcu  ', 'bll  ', 'fsrq ', 'unk  ', 'spp  ', 'PSR  ',\n",
       "       'rdg  ', 'agn  ', 'FSRQ ', 'MSP  ', 'glc  ', 'snr  ', 'gal  ',\n",
       "       'sbg  ', 'BLL  ', 'GAL  ', 'sfr  ', 'bin  ', 'SNR  ', 'HMB  ',\n",
       "       'RDG  ', 'nlsy1', 'msp  ', 'lmb  ', 'NOV  ', 'LMB  ', 'css  ',\n",
       "       'AGN  ', 'PWN  ', 'pwn  ', 'BCU  ', 'hmb  ', 'ssrq ', 'NLSY1',\n",
       "       'psr  ', 'SFR  ', 'BIN  ', 'sey  ', 'GC   '], dtype=object)"
      ]
     },
     "execution_count": 7,
     "metadata": {},
     "output_type": "execute_result"
    }
   ],
   "source": [
    "df=train_data.copy()\n",
    "uni=train_data['CLASS1'].unique()\n",
    "uni"
   ]
  },
  {
   "cell_type": "code",
   "execution_count": 8,
   "id": "5afbb72b",
   "metadata": {
    "execution": {
     "iopub.execute_input": "2023-02-28T05:41:47.694532Z",
     "iopub.status.busy": "2023-02-28T05:41:47.693715Z",
     "iopub.status.idle": "2023-02-28T05:41:47.699225Z",
     "shell.execute_reply": "2023-02-28T05:41:47.698377Z"
    },
    "papermill": {
     "duration": 0.023994,
     "end_time": "2023-02-28T05:41:47.701545",
     "exception": false,
     "start_time": "2023-02-28T05:41:47.677551",
     "status": "completed"
    },
    "tags": []
   },
   "outputs": [],
   "source": [
    "uni_doc = ['agn', 'bcu', 'bin', 'bll', 'css', 'fsrq', 'gal', 'glc', 'hmb', 'mc', 'nlsy1', 'nov', 'PSR', 'psr', 'pwn', 'rdg', 'sbg', 'sey', 'sfr', 'snr', 'spp', 'ssrq', 'unk']"
   ]
  },
  {
   "cell_type": "markdown",
   "id": "148853c9",
   "metadata": {
    "papermill": {
     "duration": 0.014958,
     "end_time": "2023-02-28T05:41:47.730994",
     "exception": false,
     "start_time": "2023-02-28T05:41:47.716036",
     "status": "completed"
    },
    "tags": []
   },
   "source": [
    "find the unique values in the list"
   ]
  },
  {
   "cell_type": "code",
   "execution_count": 9,
   "id": "2d530129",
   "metadata": {
    "execution": {
     "iopub.execute_input": "2023-02-28T05:41:47.762579Z",
     "iopub.status.busy": "2023-02-28T05:41:47.761812Z",
     "iopub.status.idle": "2023-02-28T05:41:47.767557Z",
     "shell.execute_reply": "2023-02-28T05:41:47.766426Z"
    },
    "papermill": {
     "duration": 0.024723,
     "end_time": "2023-02-28T05:41:47.770356",
     "exception": false,
     "start_time": "2023-02-28T05:41:47.745633",
     "status": "completed"
    },
    "tags": []
   },
   "outputs": [
    {
     "name": "stdout",
     "output_type": "stream",
     "text": [
      "{'snr  ', 'SNR  ', 'HMB  ', 'fsrq ', 'msp  ', 'lmb  ', 'pwn  ', 'hmb  ', 'psr  ', '     ', 'css  ', 'glc  ', 'bin  ', 'ssrq ', 'PSR  ', 'gal  ', 'RDG  ', 'LMB  ', 'GC   ', 'NOV  ', 'sey  ', 'bcu  ', 'GAL  ', 'AGN  ', 'BIN  ', 'sbg  ', 'rdg  ', 'MSP  ', 'BCU  ', 'agn  ', 'PWN  ', 'unk  ', 'bll  ', 'BLL  ', 'SFR  ', 'spp  ', 'sfr  ', 'NLSY1', 'FSRQ '}\n"
     ]
    }
   ],
   "source": [
    "# find the elements in list1 that are not in list2\n",
    "diff1 = set(uni).difference(set(uni_doc))\n",
    "print(diff1)"
   ]
  },
  {
   "cell_type": "markdown",
   "id": "38e38394",
   "metadata": {
    "papermill": {
     "duration": 0.014419,
     "end_time": "2023-02-28T05:41:47.800145",
     "exception": false,
     "start_time": "2023-02-28T05:41:47.785726",
     "status": "completed"
    },
    "tags": []
   },
   "source": [
    "finding the count of all the rows of each category in a column"
   ]
  },
  {
   "cell_type": "code",
   "execution_count": 10,
   "id": "d96f772b",
   "metadata": {
    "execution": {
     "iopub.execute_input": "2023-02-28T05:41:47.831514Z",
     "iopub.status.busy": "2023-02-28T05:41:47.831083Z",
     "iopub.status.idle": "2023-02-28T05:41:47.839673Z",
     "shell.execute_reply": "2023-02-28T05:41:47.838365Z"
    },
    "papermill": {
     "duration": 0.02714,
     "end_time": "2023-02-28T05:41:47.841940",
     "exception": false,
     "start_time": "2023-02-28T05:41:47.814800",
     "status": "completed"
    },
    "tags": []
   },
   "outputs": [
    {
     "data": {
      "text/plain": [
       "array(['     ', 'bcu  ', 'bll  ', 'fsrq ', 'unk  ', 'spp  ', 'PSR  ',\n",
       "       'rdg  ', 'agn  ', 'FSRQ ', 'MSP  ', 'glc  ', 'snr  ', 'gal  ',\n",
       "       'sbg  ', 'BLL  ', 'GAL  ', 'sfr  ', 'bin  ', 'SNR  ', 'HMB  ',\n",
       "       'RDG  ', 'nlsy1', 'msp  ', 'lmb  ', 'NOV  ', 'LMB  ', 'css  ',\n",
       "       'AGN  ', 'PWN  ', 'pwn  ', 'BCU  ', 'hmb  ', 'ssrq ', 'NLSY1',\n",
       "       'psr  ', 'SFR  ', 'BIN  ', 'sey  ', 'GC   '], dtype=object)"
      ]
     },
     "execution_count": 10,
     "metadata": {},
     "output_type": "execute_result"
    }
   ],
   "source": [
    "df['CLASS1'].unique()"
   ]
  },
  {
   "cell_type": "code",
   "execution_count": 11,
   "id": "9b5f71f5",
   "metadata": {
    "execution": {
     "iopub.execute_input": "2023-02-28T05:41:47.874678Z",
     "iopub.status.busy": "2023-02-28T05:41:47.873479Z",
     "iopub.status.idle": "2023-02-28T05:41:47.884472Z",
     "shell.execute_reply": "2023-02-28T05:41:47.883237Z"
    },
    "papermill": {
     "duration": 0.029379,
     "end_time": "2023-02-28T05:41:47.886754",
     "exception": false,
     "start_time": "2023-02-28T05:41:47.857375",
     "status": "completed"
    },
    "tags": []
   },
   "outputs": [
    {
     "data": {
      "text/plain": [
       "         2157\n",
       "bcu      1492\n",
       "bll      1434\n",
       "fsrq      750\n",
       "PSR       135\n",
       "unk       134\n",
       "MSP       120\n",
       "spp       114\n",
       "FSRQ       44\n",
       "rdg        39\n",
       "glc        35\n",
       "msp        35\n",
       "SNR        24\n",
       "BLL        22\n",
       "snr        19\n",
       "PWN        12\n",
       "pwn         8\n",
       "HMB         8\n",
       "agn         8\n",
       "sbg         8\n",
       "bin         6\n",
       "RDG         6\n",
       "lmb         6\n",
       "css         5\n",
       "NLSY1       4\n",
       "gal         4\n",
       "NOV         4\n",
       "nlsy1       4\n",
       "hmb         3\n",
       "SFR         3\n",
       "LMB         2\n",
       "sfr         2\n",
       "ssrq        2\n",
       "GAL         2\n",
       "psr         2\n",
       "sey         2\n",
       "AGN         1\n",
       "BCU         1\n",
       "BIN         1\n",
       "GC          1\n",
       "Name: CLASS1, dtype: int64"
      ]
     },
     "execution_count": 11,
     "metadata": {},
     "output_type": "execute_result"
    }
   ],
   "source": [
    "df['CLASS1'].value_counts()"
   ]
  },
  {
   "cell_type": "code",
   "execution_count": 12,
   "id": "78b16086",
   "metadata": {
    "execution": {
     "iopub.execute_input": "2023-02-28T05:41:47.919599Z",
     "iopub.status.busy": "2023-02-28T05:41:47.919232Z",
     "iopub.status.idle": "2023-02-28T05:41:47.926531Z",
     "shell.execute_reply": "2023-02-28T05:41:47.925726Z"
    },
    "papermill": {
     "duration": 0.026065,
     "end_time": "2023-02-28T05:41:47.928979",
     "exception": false,
     "start_time": "2023-02-28T05:41:47.902914",
     "status": "completed"
    },
    "tags": []
   },
   "outputs": [
    {
     "data": {
      "text/plain": [
       "2157"
      ]
     },
     "execution_count": 12,
     "metadata": {},
     "output_type": "execute_result"
    }
   ],
   "source": [
    "df['CLASS1'].value_counts()['     ']"
   ]
  },
  {
   "cell_type": "code",
   "execution_count": 13,
   "id": "a6f6eac2",
   "metadata": {
    "execution": {
     "iopub.execute_input": "2023-02-28T05:41:47.962503Z",
     "iopub.status.busy": "2023-02-28T05:41:47.962111Z",
     "iopub.status.idle": "2023-02-28T05:41:47.969251Z",
     "shell.execute_reply": "2023-02-28T05:41:47.967818Z"
    },
    "papermill": {
     "duration": 0.02685,
     "end_time": "2023-02-28T05:41:47.971718",
     "exception": false,
     "start_time": "2023-02-28T05:41:47.944868",
     "status": "completed"
    },
    "tags": []
   },
   "outputs": [
    {
     "data": {
      "text/plain": [
       "(6659, 24)"
      ]
     },
     "execution_count": 13,
     "metadata": {},
     "output_type": "execute_result"
    }
   ],
   "source": [
    "df.shape"
   ]
  },
  {
   "cell_type": "code",
   "execution_count": 14,
   "id": "0c198ed3",
   "metadata": {
    "execution": {
     "iopub.execute_input": "2023-02-28T05:41:48.005028Z",
     "iopub.status.busy": "2023-02-28T05:41:48.004601Z",
     "iopub.status.idle": "2023-02-28T05:41:48.010453Z",
     "shell.execute_reply": "2023-02-28T05:41:48.009644Z"
    },
    "papermill": {
     "duration": 0.025188,
     "end_time": "2023-02-28T05:41:48.012779",
     "exception": false,
     "start_time": "2023-02-28T05:41:47.987591",
     "status": "completed"
    },
    "tags": []
   },
   "outputs": [
    {
     "data": {
      "text/plain": [
       "32.39225108875207"
      ]
     },
     "execution_count": 14,
     "metadata": {},
     "output_type": "execute_result"
    }
   ],
   "source": [
    "(2157/6659)*100"
   ]
  },
  {
   "cell_type": "code",
   "execution_count": 15,
   "id": "86b4bbbf",
   "metadata": {
    "execution": {
     "iopub.execute_input": "2023-02-28T05:41:48.044892Z",
     "iopub.status.busy": "2023-02-28T05:41:48.044472Z",
     "iopub.status.idle": "2023-02-28T05:41:48.052598Z",
     "shell.execute_reply": "2023-02-28T05:41:48.051269Z"
    },
    "papermill": {
     "duration": 0.02727,
     "end_time": "2023-02-28T05:41:48.055111",
     "exception": false,
     "start_time": "2023-02-28T05:41:48.027841",
     "status": "completed"
    },
    "tags": []
   },
   "outputs": [],
   "source": [
    "df1=df.copy()\n",
    "df1['CLASS1'].replace({'     ': np.nan}, inplace=True)"
   ]
  },
  {
   "cell_type": "code",
   "execution_count": 16,
   "id": "ad4b4e39",
   "metadata": {
    "execution": {
     "iopub.execute_input": "2023-02-28T05:41:48.088104Z",
     "iopub.status.busy": "2023-02-28T05:41:48.087721Z",
     "iopub.status.idle": "2023-02-28T05:41:48.095912Z",
     "shell.execute_reply": "2023-02-28T05:41:48.094748Z"
    },
    "papermill": {
     "duration": 0.027301,
     "end_time": "2023-02-28T05:41:48.098300",
     "exception": false,
     "start_time": "2023-02-28T05:41:48.070999",
     "status": "completed"
    },
    "tags": []
   },
   "outputs": [
    {
     "data": {
      "text/plain": [
       "2157"
      ]
     },
     "execution_count": 16,
     "metadata": {},
     "output_type": "execute_result"
    }
   ],
   "source": [
    "df1['CLASS1'].isnull().sum()"
   ]
  },
  {
   "cell_type": "markdown",
   "id": "b726a6a3",
   "metadata": {
    "papermill": {
     "duration": 0.014899,
     "end_time": "2023-02-28T05:41:48.128693",
     "exception": false,
     "start_time": "2023-02-28T05:41:48.113794",
     "status": "completed"
    },
    "tags": []
   },
   "source": [
    "find the null values for the whole table "
   ]
  },
  {
   "cell_type": "code",
   "execution_count": 17,
   "id": "2e171e18",
   "metadata": {
    "execution": {
     "iopub.execute_input": "2023-02-28T05:41:48.161149Z",
     "iopub.status.busy": "2023-02-28T05:41:48.160775Z",
     "iopub.status.idle": "2023-02-28T05:41:48.172041Z",
     "shell.execute_reply": "2023-02-28T05:41:48.170975Z"
    },
    "papermill": {
     "duration": 0.030532,
     "end_time": "2023-02-28T05:41:48.174446",
     "exception": false,
     "start_time": "2023-02-28T05:41:48.143914",
     "status": "completed"
    },
    "tags": []
   },
   "outputs": [
    {
     "data": {
      "text/plain": [
       "Unnamed: 0              0\n",
       "Name                    0\n",
       "RA (deg)                0\n",
       "DEC (deg)               0\n",
       "Signif_Avg              1\n",
       "Pivot_Energy            0\n",
       "Flux1000                0\n",
       "Energy_Flux100          0\n",
       "PL_Flux_Density         1\n",
       "PL_Index                1\n",
       "LP_Flux_Density         0\n",
       "LP_Index                0\n",
       "LP_beta                 0\n",
       "LP_SigCurv              0\n",
       "PLEC_Flux_Density       1\n",
       "PLEC_IndexS             1\n",
       "PLEC_ExpfactorS         1\n",
       "PLEC_Exp_Index          1\n",
       "PLEC_SigCurv            0\n",
       "Npred                   0\n",
       "Variability_Index       0\n",
       "Frac_Variability        0\n",
       "CLASS1               2157\n",
       "CLASS2                  0\n",
       "dtype: int64"
      ]
     },
     "execution_count": 17,
     "metadata": {},
     "output_type": "execute_result"
    }
   ],
   "source": [
    "df1.isnull().sum()"
   ]
  },
  {
   "cell_type": "code",
   "execution_count": 18,
   "id": "9ab19377",
   "metadata": {
    "execution": {
     "iopub.execute_input": "2023-02-28T05:41:48.207363Z",
     "iopub.status.busy": "2023-02-28T05:41:48.206982Z",
     "iopub.status.idle": "2023-02-28T05:41:48.217527Z",
     "shell.execute_reply": "2023-02-28T05:41:48.216718Z"
    },
    "papermill": {
     "duration": 0.029424,
     "end_time": "2023-02-28T05:41:48.219608",
     "exception": false,
     "start_time": "2023-02-28T05:41:48.190184",
     "status": "completed"
    },
    "tags": []
   },
   "outputs": [
    {
     "data": {
      "text/plain": [
       "Unnamed: 0              0\n",
       "Name                    0\n",
       "RA (deg)                0\n",
       "DEC (deg)               0\n",
       "Signif_Avg              1\n",
       "Pivot_Energy            0\n",
       "Flux1000                0\n",
       "Energy_Flux100          0\n",
       "PL_Flux_Density         1\n",
       "PL_Index                1\n",
       "LP_Flux_Density         0\n",
       "LP_Index                0\n",
       "LP_beta                 0\n",
       "LP_SigCurv              0\n",
       "PLEC_Flux_Density       1\n",
       "PLEC_IndexS             1\n",
       "PLEC_ExpfactorS         1\n",
       "PLEC_Exp_Index          1\n",
       "PLEC_SigCurv            0\n",
       "Npred                   0\n",
       "Variability_Index       0\n",
       "Frac_Variability        0\n",
       "CLASS1               2157\n",
       "CLASS2                  0\n",
       "dtype: int64"
      ]
     },
     "execution_count": 18,
     "metadata": {},
     "output_type": "execute_result"
    }
   ],
   "source": [
    "df1.isna().sum()"
   ]
  },
  {
   "cell_type": "code",
   "execution_count": 19,
   "id": "959caddf",
   "metadata": {
    "execution": {
     "iopub.execute_input": "2023-02-28T05:41:48.252322Z",
     "iopub.status.busy": "2023-02-28T05:41:48.251940Z",
     "iopub.status.idle": "2023-02-28T05:41:48.256257Z",
     "shell.execute_reply": "2023-02-28T05:41:48.255462Z"
    },
    "papermill": {
     "duration": 0.023125,
     "end_time": "2023-02-28T05:41:48.258253",
     "exception": false,
     "start_time": "2023-02-28T05:41:48.235128",
     "status": "completed"
    },
    "tags": []
   },
   "outputs": [],
   "source": [
    "null_list=['Signif_Avg','PL_Flux_Density','PL_Index','PLEC_Flux_Density','PLEC_IndexS','PLEC_ExpfactorS','PLEC_Exp_Index']"
   ]
  },
  {
   "cell_type": "markdown",
   "id": "46845d5d",
   "metadata": {
    "papermill": {
     "duration": 0.015259,
     "end_time": "2023-02-28T05:41:48.289940",
     "exception": false,
     "start_time": "2023-02-28T05:41:48.274681",
     "status": "completed"
    },
    "tags": []
   },
   "source": [
    "dropping null values in the table"
   ]
  },
  {
   "cell_type": "code",
   "execution_count": 20,
   "id": "f7528624",
   "metadata": {
    "execution": {
     "iopub.execute_input": "2023-02-28T05:41:48.323821Z",
     "iopub.status.busy": "2023-02-28T05:41:48.323292Z",
     "iopub.status.idle": "2023-02-28T05:41:48.333874Z",
     "shell.execute_reply": "2023-02-28T05:41:48.332677Z"
    },
    "papermill": {
     "duration": 0.030752,
     "end_time": "2023-02-28T05:41:48.336590",
     "exception": false,
     "start_time": "2023-02-28T05:41:48.305838",
     "status": "completed"
    },
    "tags": []
   },
   "outputs": [],
   "source": [
    "df1= df1.dropna(subset=null_list)"
   ]
  },
  {
   "cell_type": "code",
   "execution_count": 21,
   "id": "56523feb",
   "metadata": {
    "execution": {
     "iopub.execute_input": "2023-02-28T05:41:48.371868Z",
     "iopub.status.busy": "2023-02-28T05:41:48.370866Z",
     "iopub.status.idle": "2023-02-28T05:41:48.385031Z",
     "shell.execute_reply": "2023-02-28T05:41:48.383542Z"
    },
    "papermill": {
     "duration": 0.036248,
     "end_time": "2023-02-28T05:41:48.388334",
     "exception": false,
     "start_time": "2023-02-28T05:41:48.352086",
     "status": "completed"
    },
    "tags": []
   },
   "outputs": [
    {
     "data": {
      "text/plain": [
       "Unnamed: 0              0\n",
       "Name                    0\n",
       "RA (deg)                0\n",
       "DEC (deg)               0\n",
       "Signif_Avg              0\n",
       "Pivot_Energy            0\n",
       "Flux1000                0\n",
       "Energy_Flux100          0\n",
       "PL_Flux_Density         0\n",
       "PL_Index                0\n",
       "LP_Flux_Density         0\n",
       "LP_Index                0\n",
       "LP_beta                 0\n",
       "LP_SigCurv              0\n",
       "PLEC_Flux_Density       0\n",
       "PLEC_IndexS             0\n",
       "PLEC_ExpfactorS         0\n",
       "PLEC_Exp_Index          0\n",
       "PLEC_SigCurv            0\n",
       "Npred                   0\n",
       "Variability_Index       0\n",
       "Frac_Variability        0\n",
       "CLASS1               2157\n",
       "CLASS2                  0\n",
       "dtype: int64"
      ]
     },
     "execution_count": 21,
     "metadata": {},
     "output_type": "execute_result"
    }
   ],
   "source": [
    "df1.isnull().sum()"
   ]
  },
  {
   "cell_type": "code",
   "execution_count": 22,
   "id": "92a83eff",
   "metadata": {
    "execution": {
     "iopub.execute_input": "2023-02-28T05:41:48.436439Z",
     "iopub.status.busy": "2023-02-28T05:41:48.436057Z",
     "iopub.status.idle": "2023-02-28T05:41:48.443470Z",
     "shell.execute_reply": "2023-02-28T05:41:48.442673Z"
    },
    "papermill": {
     "duration": 0.034497,
     "end_time": "2023-02-28T05:41:48.446720",
     "exception": false,
     "start_time": "2023-02-28T05:41:48.412223",
     "status": "completed"
    },
    "tags": []
   },
   "outputs": [
    {
     "data": {
      "text/plain": [
       "Index(['Unnamed: 0', 'Name', 'RA (deg)', 'DEC (deg)', 'Signif_Avg',\n",
       "       'Pivot_Energy', 'Flux1000', 'Energy_Flux100', 'PL_Flux_Density',\n",
       "       'PL_Index', 'LP_Flux_Density', 'LP_Index', 'LP_beta', 'LP_SigCurv',\n",
       "       'PLEC_Flux_Density', 'PLEC_IndexS', 'PLEC_ExpfactorS', 'PLEC_Exp_Index',\n",
       "       'PLEC_SigCurv', 'Npred', 'Variability_Index', 'Frac_Variability',\n",
       "       'CLASS1', 'CLASS2'],\n",
       "      dtype='object')"
      ]
     },
     "execution_count": 22,
     "metadata": {},
     "output_type": "execute_result"
    }
   ],
   "source": [
    "df1.columns"
   ]
  },
  {
   "cell_type": "code",
   "execution_count": 23,
   "id": "dcaa4ea9",
   "metadata": {
    "execution": {
     "iopub.execute_input": "2023-02-28T05:41:48.483763Z",
     "iopub.status.busy": "2023-02-28T05:41:48.482693Z",
     "iopub.status.idle": "2023-02-28T05:41:48.491649Z",
     "shell.execute_reply": "2023-02-28T05:41:48.490447Z"
    },
    "papermill": {
     "duration": 0.028246,
     "end_time": "2023-02-28T05:41:48.493955",
     "exception": false,
     "start_time": "2023-02-28T05:41:48.465709",
     "status": "completed"
    },
    "tags": []
   },
   "outputs": [],
   "source": [
    "# select rows with null values in 'my_column'\n",
    "null_df = df1[df1['CLASS1'].isnull()]\n",
    "\n",
    "# select rows without null values in 'my_column'\n",
    "not_null_df = df1[~df1['CLASS1'].isnull()]"
   ]
  },
  {
   "cell_type": "code",
   "execution_count": 24,
   "id": "ba04971c",
   "metadata": {
    "execution": {
     "iopub.execute_input": "2023-02-28T05:41:48.527269Z",
     "iopub.status.busy": "2023-02-28T05:41:48.526864Z",
     "iopub.status.idle": "2023-02-28T05:41:48.538179Z",
     "shell.execute_reply": "2023-02-28T05:41:48.537059Z"
    },
    "papermill": {
     "duration": 0.030948,
     "end_time": "2023-02-28T05:41:48.540504",
     "exception": false,
     "start_time": "2023-02-28T05:41:48.509556",
     "status": "completed"
    },
    "tags": []
   },
   "outputs": [
    {
     "data": {
      "text/plain": [
       "Unnamed: 0           0\n",
       "Name                 0\n",
       "RA (deg)             0\n",
       "DEC (deg)            0\n",
       "Signif_Avg           0\n",
       "Pivot_Energy         0\n",
       "Flux1000             0\n",
       "Energy_Flux100       0\n",
       "PL_Flux_Density      0\n",
       "PL_Index             0\n",
       "LP_Flux_Density      0\n",
       "LP_Index             0\n",
       "LP_beta              0\n",
       "LP_SigCurv           0\n",
       "PLEC_Flux_Density    0\n",
       "PLEC_IndexS          0\n",
       "PLEC_ExpfactorS      0\n",
       "PLEC_Exp_Index       0\n",
       "PLEC_SigCurv         0\n",
       "Npred                0\n",
       "Variability_Index    0\n",
       "Frac_Variability     0\n",
       "CLASS1               0\n",
       "CLASS2               0\n",
       "dtype: int64"
      ]
     },
     "execution_count": 24,
     "metadata": {},
     "output_type": "execute_result"
    }
   ],
   "source": [
    "not_null_df.isnull().sum()"
   ]
  },
  {
   "cell_type": "markdown",
   "id": "a4354d0c",
   "metadata": {
    "papermill": {
     "duration": 0.015473,
     "end_time": "2023-02-28T05:41:48.571721",
     "exception": false,
     "start_time": "2023-02-28T05:41:48.556248",
     "status": "completed"
    },
    "tags": []
   },
   "source": [
    "splitting the dataset to perform mutual information for feature selection"
   ]
  },
  {
   "cell_type": "code",
   "execution_count": 25,
   "id": "5b282746",
   "metadata": {
    "execution": {
     "iopub.execute_input": "2023-02-28T05:41:48.605348Z",
     "iopub.status.busy": "2023-02-28T05:41:48.604945Z",
     "iopub.status.idle": "2023-02-28T05:41:48.610965Z",
     "shell.execute_reply": "2023-02-28T05:41:48.609965Z"
    },
    "papermill": {
     "duration": 0.025826,
     "end_time": "2023-02-28T05:41:48.613400",
     "exception": false,
     "start_time": "2023-02-28T05:41:48.587574",
     "status": "completed"
    },
    "tags": []
   },
   "outputs": [],
   "source": [
    "X_df1=not_null_df.iloc[:,2:22]\n",
    "X_df1.columns\n",
    "y_df1=not_null_df['CLASS1']"
   ]
  },
  {
   "cell_type": "markdown",
   "id": "dc6a82ea",
   "metadata": {
    "papermill": {
     "duration": 0.016406,
     "end_time": "2023-02-28T05:41:48.645998",
     "exception": false,
     "start_time": "2023-02-28T05:41:48.629592",
     "status": "completed"
    },
    "tags": []
   },
   "source": [
    "doing another search of null values just in case"
   ]
  },
  {
   "cell_type": "code",
   "execution_count": 26,
   "id": "dd2f88e1",
   "metadata": {
    "execution": {
     "iopub.execute_input": "2023-02-28T05:41:48.680292Z",
     "iopub.status.busy": "2023-02-28T05:41:48.679931Z",
     "iopub.status.idle": "2023-02-28T05:41:48.688163Z",
     "shell.execute_reply": "2023-02-28T05:41:48.686941Z"
    },
    "papermill": {
     "duration": 0.02833,
     "end_time": "2023-02-28T05:41:48.690505",
     "exception": false,
     "start_time": "2023-02-28T05:41:48.662175",
     "status": "completed"
    },
    "tags": []
   },
   "outputs": [
    {
     "data": {
      "text/plain": [
       "0"
      ]
     },
     "execution_count": 26,
     "metadata": {},
     "output_type": "execute_result"
    }
   ],
   "source": [
    "X_df1.isnull().sum().sum()"
   ]
  },
  {
   "cell_type": "code",
   "execution_count": 27,
   "id": "52705cbc",
   "metadata": {
    "execution": {
     "iopub.execute_input": "2023-02-28T05:41:48.724903Z",
     "iopub.status.busy": "2023-02-28T05:41:48.724492Z",
     "iopub.status.idle": "2023-02-28T05:41:48.732412Z",
     "shell.execute_reply": "2023-02-28T05:41:48.731230Z"
    },
    "papermill": {
     "duration": 0.028494,
     "end_time": "2023-02-28T05:41:48.734900",
     "exception": false,
     "start_time": "2023-02-28T05:41:48.706406",
     "status": "completed"
    },
    "tags": []
   },
   "outputs": [
    {
     "data": {
      "text/plain": [
       "0"
      ]
     },
     "execution_count": 27,
     "metadata": {},
     "output_type": "execute_result"
    }
   ],
   "source": [
    "y_df1.isnull().sum().sum()"
   ]
  },
  {
   "cell_type": "markdown",
   "id": "a8406a9f",
   "metadata": {
    "papermill": {
     "duration": 0.015799,
     "end_time": "2023-02-28T05:41:48.767545",
     "exception": false,
     "start_time": "2023-02-28T05:41:48.751746",
     "status": "completed"
    },
    "tags": []
   },
   "source": [
    "trying mutual info classification"
   ]
  },
  {
   "cell_type": "code",
   "execution_count": 28,
   "id": "ea9d416b",
   "metadata": {
    "execution": {
     "iopub.execute_input": "2023-02-28T05:41:48.802759Z",
     "iopub.status.busy": "2023-02-28T05:41:48.802330Z",
     "iopub.status.idle": "2023-02-28T05:41:48.809721Z",
     "shell.execute_reply": "2023-02-28T05:41:48.808481Z"
    },
    "papermill": {
     "duration": 0.027916,
     "end_time": "2023-02-28T05:41:48.812098",
     "exception": false,
     "start_time": "2023-02-28T05:41:48.784182",
     "status": "completed"
    },
    "tags": []
   },
   "outputs": [
    {
     "data": {
      "text/plain": [
       "array(['bcu  ', 'bll  ', 'fsrq ', 'unk  ', 'spp  ', 'PSR  ', 'rdg  ',\n",
       "       'agn  ', 'FSRQ ', 'MSP  ', 'glc  ', 'snr  ', 'gal  ', 'sbg  ',\n",
       "       'BLL  ', 'GAL  ', 'sfr  ', 'bin  ', 'SNR  ', 'HMB  ', 'RDG  ',\n",
       "       'nlsy1', 'msp  ', 'lmb  ', 'NOV  ', 'LMB  ', 'css  ', 'AGN  ',\n",
       "       'PWN  ', 'pwn  ', 'BCU  ', 'hmb  ', 'ssrq ', 'NLSY1', 'psr  ',\n",
       "       'SFR  ', 'BIN  ', 'sey  ', 'GC   '], dtype=object)"
      ]
     },
     "execution_count": 28,
     "metadata": {},
     "output_type": "execute_result"
    }
   ],
   "source": [
    "y_df1.unique()"
   ]
  },
  {
   "cell_type": "code",
   "execution_count": 29,
   "id": "225f20c3",
   "metadata": {
    "execution": {
     "iopub.execute_input": "2023-02-28T05:41:48.847224Z",
     "iopub.status.busy": "2023-02-28T05:41:48.846773Z",
     "iopub.status.idle": "2023-02-28T05:41:48.853337Z",
     "shell.execute_reply": "2023-02-28T05:41:48.852487Z"
    },
    "papermill": {
     "duration": 0.026284,
     "end_time": "2023-02-28T05:41:48.855418",
     "exception": false,
     "start_time": "2023-02-28T05:41:48.829134",
     "status": "completed"
    },
    "tags": []
   },
   "outputs": [
    {
     "data": {
      "text/plain": [
       "(4501,)"
      ]
     },
     "execution_count": 29,
     "metadata": {},
     "output_type": "execute_result"
    }
   ],
   "source": [
    "y_df1.shape"
   ]
  },
  {
   "cell_type": "code",
   "execution_count": 30,
   "id": "6efff898",
   "metadata": {
    "execution": {
     "iopub.execute_input": "2023-02-28T05:41:48.890348Z",
     "iopub.status.busy": "2023-02-28T05:41:48.889723Z",
     "iopub.status.idle": "2023-02-28T05:41:48.898106Z",
     "shell.execute_reply": "2023-02-28T05:41:48.897007Z"
    },
    "papermill": {
     "duration": 0.028506,
     "end_time": "2023-02-28T05:41:48.900409",
     "exception": false,
     "start_time": "2023-02-28T05:41:48.871903",
     "status": "completed"
    },
    "tags": []
   },
   "outputs": [
    {
     "data": {
      "text/plain": [
       "bcu      1492\n",
       "bll      1434\n",
       "fsrq      750\n",
       "PSR       135\n",
       "unk       134\n",
       "MSP       120\n",
       "spp       114\n",
       "FSRQ       44\n",
       "rdg        39\n",
       "glc        35\n",
       "msp        35\n",
       "SNR        24\n",
       "BLL        22\n",
       "snr        19\n",
       "PWN        11\n",
       "pwn         8\n",
       "HMB         8\n",
       "agn         8\n",
       "sbg         8\n",
       "bin         6\n",
       "RDG         6\n",
       "lmb         6\n",
       "css         5\n",
       "NLSY1       4\n",
       "gal         4\n",
       "NOV         4\n",
       "nlsy1       4\n",
       "hmb         3\n",
       "SFR         3\n",
       "LMB         2\n",
       "sfr         2\n",
       "ssrq        2\n",
       "GAL         2\n",
       "psr         2\n",
       "sey         2\n",
       "AGN         1\n",
       "BCU         1\n",
       "BIN         1\n",
       "GC          1\n",
       "Name: CLASS1, dtype: int64"
      ]
     },
     "execution_count": 30,
     "metadata": {},
     "output_type": "execute_result"
    }
   ],
   "source": [
    "y_df1.value_counts()"
   ]
  },
  {
   "cell_type": "code",
   "execution_count": 31,
   "id": "dd9d1468",
   "metadata": {
    "execution": {
     "iopub.execute_input": "2023-02-28T05:41:48.935930Z",
     "iopub.status.busy": "2023-02-28T05:41:48.934865Z",
     "iopub.status.idle": "2023-02-28T05:41:51.050407Z",
     "shell.execute_reply": "2023-02-28T05:41:51.048690Z"
    },
    "papermill": {
     "duration": 2.136371,
     "end_time": "2023-02-28T05:41:51.053515",
     "exception": false,
     "start_time": "2023-02-28T05:41:48.917144",
     "status": "completed"
    },
    "tags": []
   },
   "outputs": [
    {
     "name": "stdout",
     "output_type": "stream",
     "text": [
      "Index(['Signif_Avg', 'Pivot_Energy', 'Flux1000', 'PL_Index', 'LP_Index',\n",
      "       'LP_beta', 'LP_SigCurv', 'PLEC_IndexS', 'PLEC_ExpfactorS',\n",
      "       'PLEC_SigCurv', 'Npred', 'Variability_Index', 'Frac_Variability'],\n",
      "      dtype='object')\n"
     ]
    }
   ],
   "source": [
    "from sklearn.feature_selection import mutual_info_classif\n",
    "\n",
    "\n",
    "# X is your dataset, and y is your target column\n",
    "# assuming X is a pandas DataFrame\n",
    "mi_scores = mutual_info_classif(X_df1, y_df1.values.ravel())\n",
    "\n",
    "# create a boolean mask to select only the features with mutual information > -.15\n",
    "mask = mi_scores > 0.15\n",
    "\n",
    "# get the feature names that satisfy the mask\n",
    "selected_features = X_df1.columns[mask]\n",
    "\n",
    "# print the selected feature names\n",
    "print(selected_features)"
   ]
  },
  {
   "cell_type": "markdown",
   "id": "d34837aa",
   "metadata": {
    "papermill": {
     "duration": 0.016717,
     "end_time": "2023-02-28T05:41:51.087176",
     "exception": false,
     "start_time": "2023-02-28T05:41:51.070459",
     "status": "completed"
    },
    "tags": []
   },
   "source": [
    "print the selected features above a specific value"
   ]
  },
  {
   "cell_type": "markdown",
   "id": "a780ade0",
   "metadata": {
    "papermill": {
     "duration": 0.016008,
     "end_time": "2023-02-28T05:41:51.119471",
     "exception": false,
     "start_time": "2023-02-28T05:41:51.103463",
     "status": "completed"
    },
    "tags": []
   },
   "source": [
    "get the selected features needed"
   ]
  },
  {
   "cell_type": "code",
   "execution_count": 32,
   "id": "8a251308",
   "metadata": {
    "execution": {
     "iopub.execute_input": "2023-02-28T05:41:51.154449Z",
     "iopub.status.busy": "2023-02-28T05:41:51.154077Z",
     "iopub.status.idle": "2023-02-28T05:41:51.160136Z",
     "shell.execute_reply": "2023-02-28T05:41:51.158705Z"
    },
    "papermill": {
     "duration": 0.026518,
     "end_time": "2023-02-28T05:41:51.162453",
     "exception": false,
     "start_time": "2023-02-28T05:41:51.135935",
     "status": "completed"
    },
    "tags": []
   },
   "outputs": [],
   "source": [
    "X_final=df1[selected_features]"
   ]
  },
  {
   "cell_type": "markdown",
   "id": "d3d7ef74",
   "metadata": {
    "papermill": {
     "duration": 0.015924,
     "end_time": "2023-02-28T05:41:51.194842",
     "exception": false,
     "start_time": "2023-02-28T05:41:51.178918",
     "status": "completed"
    },
    "tags": []
   },
   "source": [
    "checking for null values in the train dataset"
   ]
  },
  {
   "cell_type": "code",
   "execution_count": 33,
   "id": "ed553bfe",
   "metadata": {
    "execution": {
     "iopub.execute_input": "2023-02-28T05:41:51.229343Z",
     "iopub.status.busy": "2023-02-28T05:41:51.228895Z",
     "iopub.status.idle": "2023-02-28T05:41:51.238027Z",
     "shell.execute_reply": "2023-02-28T05:41:51.237207Z"
    },
    "papermill": {
     "duration": 0.02921,
     "end_time": "2023-02-28T05:41:51.240221",
     "exception": false,
     "start_time": "2023-02-28T05:41:51.211011",
     "status": "completed"
    },
    "tags": []
   },
   "outputs": [
    {
     "data": {
      "text/plain": [
       "Signif_Avg           0\n",
       "Pivot_Energy         0\n",
       "Flux1000             0\n",
       "PL_Index             0\n",
       "LP_Index             0\n",
       "LP_beta              0\n",
       "LP_SigCurv           0\n",
       "PLEC_IndexS          0\n",
       "PLEC_ExpfactorS      0\n",
       "PLEC_SigCurv         0\n",
       "Npred                0\n",
       "Variability_Index    0\n",
       "Frac_Variability     0\n",
       "dtype: int64"
      ]
     },
     "execution_count": 33,
     "metadata": {},
     "output_type": "execute_result"
    }
   ],
   "source": [
    "X_final.isnull().sum()"
   ]
  },
  {
   "cell_type": "markdown",
   "id": "fddf000e",
   "metadata": {
    "papermill": {
     "duration": 0.01619,
     "end_time": "2023-02-28T05:41:51.272832",
     "exception": false,
     "start_time": "2023-02-28T05:41:51.256642",
     "status": "completed"
    },
    "tags": []
   },
   "source": [
    "creating a target pandas series"
   ]
  },
  {
   "cell_type": "code",
   "execution_count": 34,
   "id": "4186b1e2",
   "metadata": {
    "execution": {
     "iopub.execute_input": "2023-02-28T05:41:51.307596Z",
     "iopub.status.busy": "2023-02-28T05:41:51.307204Z",
     "iopub.status.idle": "2023-02-28T05:41:51.311975Z",
     "shell.execute_reply": "2023-02-28T05:41:51.311095Z"
    },
    "papermill": {
     "duration": 0.024934,
     "end_time": "2023-02-28T05:41:51.314184",
     "exception": false,
     "start_time": "2023-02-28T05:41:51.289250",
     "status": "completed"
    },
    "tags": []
   },
   "outputs": [],
   "source": [
    "y_final=df1['CLASS1']"
   ]
  },
  {
   "cell_type": "code",
   "execution_count": 35,
   "id": "43efa8ca",
   "metadata": {
    "execution": {
     "iopub.execute_input": "2023-02-28T05:41:51.350012Z",
     "iopub.status.busy": "2023-02-28T05:41:51.348803Z",
     "iopub.status.idle": "2023-02-28T05:41:51.357562Z",
     "shell.execute_reply": "2023-02-28T05:41:51.356388Z"
    },
    "papermill": {
     "duration": 0.029168,
     "end_time": "2023-02-28T05:41:51.359890",
     "exception": false,
     "start_time": "2023-02-28T05:41:51.330722",
     "status": "completed"
    },
    "tags": []
   },
   "outputs": [
    {
     "data": {
      "text/plain": [
       "2157"
      ]
     },
     "execution_count": 35,
     "metadata": {},
     "output_type": "execute_result"
    }
   ],
   "source": [
    "y_final.isnull().sum()"
   ]
  },
  {
   "cell_type": "markdown",
   "id": "557dff21",
   "metadata": {
    "papermill": {
     "duration": 0.016449,
     "end_time": "2023-02-28T05:41:51.392953",
     "exception": false,
     "start_time": "2023-02-28T05:41:51.376504",
     "status": "completed"
    },
    "tags": []
   },
   "source": [
    "value counts of the classes"
   ]
  },
  {
   "cell_type": "code",
   "execution_count": 36,
   "id": "9da3f29d",
   "metadata": {
    "execution": {
     "iopub.execute_input": "2023-02-28T05:41:51.427815Z",
     "iopub.status.busy": "2023-02-28T05:41:51.427360Z",
     "iopub.status.idle": "2023-02-28T05:41:51.437290Z",
     "shell.execute_reply": "2023-02-28T05:41:51.435974Z"
    },
    "papermill": {
     "duration": 0.030267,
     "end_time": "2023-02-28T05:41:51.439753",
     "exception": false,
     "start_time": "2023-02-28T05:41:51.409486",
     "status": "completed"
    },
    "tags": []
   },
   "outputs": [
    {
     "data": {
      "text/plain": [
       "bcu      1492\n",
       "bll      1434\n",
       "fsrq      750\n",
       "PSR       135\n",
       "unk       134\n",
       "MSP       120\n",
       "spp       114\n",
       "FSRQ       44\n",
       "rdg        39\n",
       "glc        35\n",
       "msp        35\n",
       "SNR        24\n",
       "BLL        22\n",
       "snr        19\n",
       "PWN        11\n",
       "pwn         8\n",
       "HMB         8\n",
       "agn         8\n",
       "sbg         8\n",
       "bin         6\n",
       "RDG         6\n",
       "lmb         6\n",
       "css         5\n",
       "NLSY1       4\n",
       "gal         4\n",
       "NOV         4\n",
       "nlsy1       4\n",
       "hmb         3\n",
       "SFR         3\n",
       "LMB         2\n",
       "sfr         2\n",
       "ssrq        2\n",
       "GAL         2\n",
       "psr         2\n",
       "sey         2\n",
       "AGN         1\n",
       "BCU         1\n",
       "BIN         1\n",
       "GC          1\n",
       "Name: CLASS1, dtype: int64"
      ]
     },
     "execution_count": 36,
     "metadata": {},
     "output_type": "execute_result"
    }
   ],
   "source": [
    "y_final.value_counts()"
   ]
  },
  {
   "cell_type": "code",
   "execution_count": 37,
   "id": "149fac94",
   "metadata": {
    "execution": {
     "iopub.execute_input": "2023-02-28T05:41:51.475400Z",
     "iopub.status.busy": "2023-02-28T05:41:51.475021Z",
     "iopub.status.idle": "2023-02-28T05:41:51.482689Z",
     "shell.execute_reply": "2023-02-28T05:41:51.481455Z"
    },
    "papermill": {
     "duration": 0.028267,
     "end_time": "2023-02-28T05:41:51.485041",
     "exception": false,
     "start_time": "2023-02-28T05:41:51.456774",
     "status": "completed"
    },
    "tags": []
   },
   "outputs": [
    {
     "data": {
      "text/plain": [
       "39"
      ]
     },
     "execution_count": 37,
     "metadata": {},
     "output_type": "execute_result"
    }
   ],
   "source": [
    "y_final.nunique()"
   ]
  },
  {
   "cell_type": "code",
   "execution_count": 38,
   "id": "36e07891",
   "metadata": {
    "execution": {
     "iopub.execute_input": "2023-02-28T05:41:51.521441Z",
     "iopub.status.busy": "2023-02-28T05:41:51.520201Z",
     "iopub.status.idle": "2023-02-28T05:41:51.528123Z",
     "shell.execute_reply": "2023-02-28T05:41:51.526864Z"
    },
    "papermill": {
     "duration": 0.028413,
     "end_time": "2023-02-28T05:41:51.530512",
     "exception": false,
     "start_time": "2023-02-28T05:41:51.502099",
     "status": "completed"
    },
    "tags": []
   },
   "outputs": [
    {
     "data": {
      "text/plain": [
       "(6658,)"
      ]
     },
     "execution_count": 38,
     "metadata": {},
     "output_type": "execute_result"
    }
   ],
   "source": [
    "y_final.shape"
   ]
  },
  {
   "cell_type": "code",
   "execution_count": 39,
   "id": "41c3cce3",
   "metadata": {
    "execution": {
     "iopub.execute_input": "2023-02-28T05:41:51.567292Z",
     "iopub.status.busy": "2023-02-28T05:41:51.566318Z",
     "iopub.status.idle": "2023-02-28T05:41:51.573893Z",
     "shell.execute_reply": "2023-02-28T05:41:51.572687Z"
    },
    "papermill": {
     "duration": 0.028611,
     "end_time": "2023-02-28T05:41:51.576199",
     "exception": false,
     "start_time": "2023-02-28T05:41:51.547588",
     "status": "completed"
    },
    "tags": []
   },
   "outputs": [
    {
     "data": {
      "text/plain": [
       "(6658, 13)"
      ]
     },
     "execution_count": 39,
     "metadata": {},
     "output_type": "execute_result"
    }
   ],
   "source": [
    "X_final.shape"
   ]
  },
  {
   "cell_type": "markdown",
   "id": "50e3bc44",
   "metadata": {
    "papermill": {
     "duration": 0.016936,
     "end_time": "2023-02-28T05:41:51.610272",
     "exception": false,
     "start_time": "2023-02-28T05:41:51.593336",
     "status": "completed"
    },
    "tags": []
   },
   "source": [
    "finding the percentage of null values in the pandas dataset"
   ]
  },
  {
   "cell_type": "code",
   "execution_count": 40,
   "id": "bcfe8b01",
   "metadata": {
    "execution": {
     "iopub.execute_input": "2023-02-28T05:41:51.647016Z",
     "iopub.status.busy": "2023-02-28T05:41:51.646188Z",
     "iopub.status.idle": "2023-02-28T05:41:51.655332Z",
     "shell.execute_reply": "2023-02-28T05:41:51.654150Z"
    },
    "papermill": {
     "duration": 0.030263,
     "end_time": "2023-02-28T05:41:51.657646",
     "exception": false,
     "start_time": "2023-02-28T05:41:51.627383",
     "status": "completed"
    },
    "tags": []
   },
   "outputs": [
    {
     "data": {
      "text/plain": [
       "32.39711625112646"
      ]
     },
     "execution_count": 40,
     "metadata": {},
     "output_type": "execute_result"
    }
   ],
   "source": [
    "y_final.isnull().mean()*100"
   ]
  },
  {
   "cell_type": "code",
   "execution_count": 41,
   "id": "2c274b01",
   "metadata": {
    "execution": {
     "iopub.execute_input": "2023-02-28T05:41:51.695120Z",
     "iopub.status.busy": "2023-02-28T05:41:51.694041Z",
     "iopub.status.idle": "2023-02-28T05:41:51.702318Z",
     "shell.execute_reply": "2023-02-28T05:41:51.701323Z"
    },
    "papermill": {
     "duration": 0.029551,
     "end_time": "2023-02-28T05:41:51.704566",
     "exception": false,
     "start_time": "2023-02-28T05:41:51.675015",
     "status": "completed"
    },
    "tags": []
   },
   "outputs": [
    {
     "data": {
      "text/plain": [
       "0      NaN\n",
       "1      NaN\n",
       "2      NaN\n",
       "3    bcu  \n",
       "4    bll  \n",
       "Name: CLASS1, dtype: object"
      ]
     },
     "execution_count": 41,
     "metadata": {},
     "output_type": "execute_result"
    }
   ],
   "source": [
    "y_final.head()"
   ]
  },
  {
   "cell_type": "code",
   "execution_count": 42,
   "id": "85707337",
   "metadata": {
    "execution": {
     "iopub.execute_input": "2023-02-28T05:41:51.741552Z",
     "iopub.status.busy": "2023-02-28T05:41:51.740507Z",
     "iopub.status.idle": "2023-02-28T05:41:51.769354Z",
     "shell.execute_reply": "2023-02-28T05:41:51.768032Z"
    },
    "papermill": {
     "duration": 0.050086,
     "end_time": "2023-02-28T05:41:51.772051",
     "exception": false,
     "start_time": "2023-02-28T05:41:51.721965",
     "status": "completed"
    },
    "tags": []
   },
   "outputs": [
    {
     "name": "stderr",
     "output_type": "stream",
     "text": [
      "/opt/conda/lib/python3.7/site-packages/ipykernel_launcher.py:14: SettingWithCopyWarning: \n",
      "A value is trying to be set on a copy of a slice from a DataFrame.\n",
      "Try using .loc[row_indexer,col_indexer] = value instead\n",
      "\n",
      "See the caveats in the documentation: https://pandas.pydata.org/pandas-docs/stable/user_guide/indexing.html#returning-a-view-versus-a-copy\n",
      "  \n"
     ]
    }
   ],
   "source": [
    "from sklearn.impute import KNNImputer\n",
    "\n",
    "# create the imputer object\n",
    "imputer = KNNImputer(n_neighbors=5)\n",
    "\n",
    "# concatenate the training dataset and the target dataset\n",
    "data = pd.concat([X_final, y_final], axis=1)\n",
    "\n",
    "# split the data into imputed and non-imputed sets based on null values in the target column\n",
    "data_imputed = data[data[y_final.name].isnull()]\n",
    "data_not_imputed = data[~data[y_final.name].isnull()]\n",
    "\n",
    "# impute the missing values in the target column of the imputed set using the training set\n",
    "data_imputed[y_final.name] = imputer.fit_transform(data_imputed[X_final.columns])\n",
    "\n",
    "# concatenate the imputed and non-imputed sets\n",
    "data_imputed = pd.concat([data_imputed, data_not_imputed], axis=0)\n",
    "\n",
    "# extract the imputed target column as a pandas series\n",
    "y_final_imputed = data_imputed[y_final.name]\n",
    "\n",
    "# extract the imputed training dataset without the target column\n",
    "X_final_imputed = data_imputed.drop(columns=[y_final.name])"
   ]
  },
  {
   "cell_type": "code",
   "execution_count": 43,
   "id": "77745eea",
   "metadata": {
    "execution": {
     "iopub.execute_input": "2023-02-28T05:41:51.809197Z",
     "iopub.status.busy": "2023-02-28T05:41:51.808336Z",
     "iopub.status.idle": "2023-02-28T05:41:51.816216Z",
     "shell.execute_reply": "2023-02-28T05:41:51.814715Z"
    },
    "papermill": {
     "duration": 0.028822,
     "end_time": "2023-02-28T05:41:51.818620",
     "exception": false,
     "start_time": "2023-02-28T05:41:51.789798",
     "status": "completed"
    },
    "tags": []
   },
   "outputs": [
    {
     "data": {
      "text/plain": [
       "0"
      ]
     },
     "execution_count": 43,
     "metadata": {},
     "output_type": "execute_result"
    }
   ],
   "source": [
    "y_final_imputed.isnull().sum()"
   ]
  },
  {
   "cell_type": "code",
   "execution_count": 44,
   "id": "e74352d4",
   "metadata": {
    "execution": {
     "iopub.execute_input": "2023-02-28T05:41:51.856077Z",
     "iopub.status.busy": "2023-02-28T05:41:51.855677Z",
     "iopub.status.idle": "2023-02-28T05:41:51.864570Z",
     "shell.execute_reply": "2023-02-28T05:41:51.863510Z"
    },
    "papermill": {
     "duration": 0.030394,
     "end_time": "2023-02-28T05:41:51.867149",
     "exception": false,
     "start_time": "2023-02-28T05:41:51.836755",
     "status": "completed"
    },
    "tags": []
   },
   "outputs": [
    {
     "data": {
      "text/plain": [
       "0"
      ]
     },
     "execution_count": 44,
     "metadata": {},
     "output_type": "execute_result"
    }
   ],
   "source": [
    "X_final_imputed.isnull().sum().sum()"
   ]
  },
  {
   "cell_type": "code",
   "execution_count": 45,
   "id": "8d6a833d",
   "metadata": {
    "execution": {
     "iopub.execute_input": "2023-02-28T05:41:51.905504Z",
     "iopub.status.busy": "2023-02-28T05:41:51.904252Z",
     "iopub.status.idle": "2023-02-28T05:41:51.915652Z",
     "shell.execute_reply": "2023-02-28T05:41:51.914680Z"
    },
    "papermill": {
     "duration": 0.032877,
     "end_time": "2023-02-28T05:41:51.917968",
     "exception": false,
     "start_time": "2023-02-28T05:41:51.885091",
     "status": "completed"
    },
    "tags": []
   },
   "outputs": [
    {
     "data": {
      "text/plain": [
       "bcu         1492\n",
       "bll         1434\n",
       "fsrq         750\n",
       "PSR          135\n",
       "unk          134\n",
       "            ... \n",
       "9.18154        1\n",
       "4.805481       1\n",
       "6.904792       1\n",
       "8.334894       1\n",
       "GC             1\n",
       "Name: CLASS1, Length: 2196, dtype: int64"
      ]
     },
     "execution_count": 45,
     "metadata": {},
     "output_type": "execute_result"
    }
   ],
   "source": [
    "y_final_imputed.value_counts()"
   ]
  },
  {
   "cell_type": "code",
   "execution_count": 46,
   "id": "b3372337",
   "metadata": {
    "execution": {
     "iopub.execute_input": "2023-02-28T05:41:51.956624Z",
     "iopub.status.busy": "2023-02-28T05:41:51.955371Z",
     "iopub.status.idle": "2023-02-28T05:41:51.964237Z",
     "shell.execute_reply": "2023-02-28T05:41:51.963128Z"
    },
    "papermill": {
     "duration": 0.030602,
     "end_time": "2023-02-28T05:41:51.966475",
     "exception": false,
     "start_time": "2023-02-28T05:41:51.935873",
     "status": "completed"
    },
    "tags": []
   },
   "outputs": [
    {
     "data": {
      "text/plain": [
       "2196"
      ]
     },
     "execution_count": 46,
     "metadata": {},
     "output_type": "execute_result"
    }
   ],
   "source": [
    "y_final_imputed.nunique()"
   ]
  },
  {
   "cell_type": "code",
   "execution_count": 47,
   "id": "19c78c07",
   "metadata": {
    "execution": {
     "iopub.execute_input": "2023-02-28T05:41:52.006750Z",
     "iopub.status.busy": "2023-02-28T05:41:52.005375Z",
     "iopub.status.idle": "2023-02-28T05:41:52.026938Z",
     "shell.execute_reply": "2023-02-28T05:41:52.026000Z"
    },
    "papermill": {
     "duration": 0.043632,
     "end_time": "2023-02-28T05:41:52.029108",
     "exception": false,
     "start_time": "2023-02-28T05:41:51.985476",
     "status": "completed"
    },
    "tags": []
   },
   "outputs": [
    {
     "data": {
      "text/html": [
       "<div>\n",
       "<style scoped>\n",
       "    .dataframe tbody tr th:only-of-type {\n",
       "        vertical-align: middle;\n",
       "    }\n",
       "\n",
       "    .dataframe tbody tr th {\n",
       "        vertical-align: top;\n",
       "    }\n",
       "\n",
       "    .dataframe thead th {\n",
       "        text-align: right;\n",
       "    }\n",
       "</style>\n",
       "<table border=\"1\" class=\"dataframe\">\n",
       "  <thead>\n",
       "    <tr style=\"text-align: right;\">\n",
       "      <th></th>\n",
       "      <th>Signif_Avg</th>\n",
       "      <th>Pivot_Energy</th>\n",
       "      <th>Flux1000</th>\n",
       "      <th>PL_Index</th>\n",
       "      <th>LP_Index</th>\n",
       "      <th>LP_beta</th>\n",
       "      <th>LP_SigCurv</th>\n",
       "      <th>PLEC_IndexS</th>\n",
       "      <th>PLEC_ExpfactorS</th>\n",
       "      <th>PLEC_SigCurv</th>\n",
       "      <th>Npred</th>\n",
       "      <th>Variability_Index</th>\n",
       "      <th>Frac_Variability</th>\n",
       "      <th>CLASS1</th>\n",
       "    </tr>\n",
       "  </thead>\n",
       "  <tbody>\n",
       "    <tr>\n",
       "      <th>0</th>\n",
       "      <td>7.459561</td>\n",
       "      <td>2329.5903</td>\n",
       "      <td>1.392216e-10</td>\n",
       "      <td>2.179690</td>\n",
       "      <td>2.063685</td>\n",
       "      <td>0.091939</td>\n",
       "      <td>0.749253</td>\n",
       "      <td>1.993013</td>\n",
       "      <td>0.150609</td>\n",
       "      <td>1.292339</td>\n",
       "      <td>305.21463</td>\n",
       "      <td>14.602470</td>\n",
       "      <td>0.215777</td>\n",
       "      <td>NaN</td>\n",
       "    </tr>\n",
       "    <tr>\n",
       "      <th>1</th>\n",
       "      <td>5.271726</td>\n",
       "      <td>1304.1947</td>\n",
       "      <td>1.951913e-10</td>\n",
       "      <td>2.349694</td>\n",
       "      <td>2.069591</td>\n",
       "      <td>0.454411</td>\n",
       "      <td>2.549887</td>\n",
       "      <td>1.998095</td>\n",
       "      <td>0.586220</td>\n",
       "      <td>2.532814</td>\n",
       "      <td>197.24410</td>\n",
       "      <td>25.399525</td>\n",
       "      <td>0.687574</td>\n",
       "      <td>NaN</td>\n",
       "    </tr>\n",
       "    <tr>\n",
       "      <th>2</th>\n",
       "      <td>4.177483</td>\n",
       "      <td>6318.9400</td>\n",
       "      <td>7.202151e-11</td>\n",
       "      <td>1.852803</td>\n",
       "      <td>1.646164</td>\n",
       "      <td>0.376358</td>\n",
       "      <td>1.471138</td>\n",
       "      <td>1.507830</td>\n",
       "      <td>0.720244</td>\n",
       "      <td>1.562938</td>\n",
       "      <td>87.70652</td>\n",
       "      <td>13.650518</td>\n",
       "      <td>0.000000</td>\n",
       "      <td>NaN</td>\n",
       "    </tr>\n",
       "    <tr>\n",
       "      <th>3</th>\n",
       "      <td>4.692600</td>\n",
       "      <td>2420.5752</td>\n",
       "      <td>1.259796e-10</td>\n",
       "      <td>2.271696</td>\n",
       "      <td>2.254081</td>\n",
       "      <td>0.012156</td>\n",
       "      <td>0.083893</td>\n",
       "      <td>2.219642</td>\n",
       "      <td>0.029462</td>\n",
       "      <td>0.337723</td>\n",
       "      <td>293.14978</td>\n",
       "      <td>25.313953</td>\n",
       "      <td>0.675882</td>\n",
       "      <td>bcu</td>\n",
       "    </tr>\n",
       "    <tr>\n",
       "      <th>4</th>\n",
       "      <td>23.782486</td>\n",
       "      <td>1721.6039</td>\n",
       "      <td>7.471219e-10</td>\n",
       "      <td>2.116692</td>\n",
       "      <td>2.078927</td>\n",
       "      <td>0.051182</td>\n",
       "      <td>1.697737</td>\n",
       "      <td>2.046604</td>\n",
       "      <td>0.063212</td>\n",
       "      <td>1.892928</td>\n",
       "      <td>1192.35190</td>\n",
       "      <td>46.780693</td>\n",
       "      <td>0.406565</td>\n",
       "      <td>bll</td>\n",
       "    </tr>\n",
       "  </tbody>\n",
       "</table>\n",
       "</div>"
      ],
      "text/plain": [
       "   Signif_Avg  Pivot_Energy      Flux1000  PL_Index  LP_Index   LP_beta  \\\n",
       "0    7.459561     2329.5903  1.392216e-10  2.179690  2.063685  0.091939   \n",
       "1    5.271726     1304.1947  1.951913e-10  2.349694  2.069591  0.454411   \n",
       "2    4.177483     6318.9400  7.202151e-11  1.852803  1.646164  0.376358   \n",
       "3    4.692600     2420.5752  1.259796e-10  2.271696  2.254081  0.012156   \n",
       "4   23.782486     1721.6039  7.471219e-10  2.116692  2.078927  0.051182   \n",
       "\n",
       "   LP_SigCurv  PLEC_IndexS  PLEC_ExpfactorS  PLEC_SigCurv       Npred  \\\n",
       "0    0.749253     1.993013         0.150609      1.292339   305.21463   \n",
       "1    2.549887     1.998095         0.586220      2.532814   197.24410   \n",
       "2    1.471138     1.507830         0.720244      1.562938    87.70652   \n",
       "3    0.083893     2.219642         0.029462      0.337723   293.14978   \n",
       "4    1.697737     2.046604         0.063212      1.892928  1192.35190   \n",
       "\n",
       "   Variability_Index  Frac_Variability CLASS1  \n",
       "0          14.602470          0.215777    NaN  \n",
       "1          25.399525          0.687574    NaN  \n",
       "2          13.650518          0.000000    NaN  \n",
       "3          25.313953          0.675882  bcu    \n",
       "4          46.780693          0.406565  bll    "
      ]
     },
     "execution_count": 47,
     "metadata": {},
     "output_type": "execute_result"
    }
   ],
   "source": [
    "data=pd.concat([X_final,y_final],axis=1)\n",
    "data.head()"
   ]
  },
  {
   "cell_type": "code",
   "execution_count": 48,
   "id": "a23bf5c4",
   "metadata": {
    "execution": {
     "iopub.execute_input": "2023-02-28T05:41:52.067422Z",
     "iopub.status.busy": "2023-02-28T05:41:52.066807Z",
     "iopub.status.idle": "2023-02-28T05:41:52.073558Z",
     "shell.execute_reply": "2023-02-28T05:41:52.072540Z"
    },
    "papermill": {
     "duration": 0.028688,
     "end_time": "2023-02-28T05:41:52.075871",
     "exception": false,
     "start_time": "2023-02-28T05:41:52.047183",
     "status": "completed"
    },
    "tags": []
   },
   "outputs": [
    {
     "data": {
      "text/plain": [
       "39"
      ]
     },
     "execution_count": 48,
     "metadata": {},
     "output_type": "execute_result"
    }
   ],
   "source": [
    "y_final.nunique()"
   ]
  },
  {
   "cell_type": "code",
   "execution_count": 49,
   "id": "eeeafc8d",
   "metadata": {
    "execution": {
     "iopub.execute_input": "2023-02-28T05:41:52.115165Z",
     "iopub.status.busy": "2023-02-28T05:41:52.114778Z",
     "iopub.status.idle": "2023-02-28T05:41:52.123732Z",
     "shell.execute_reply": "2023-02-28T05:41:52.122939Z"
    },
    "papermill": {
     "duration": 0.03061,
     "end_time": "2023-02-28T05:41:52.125723",
     "exception": false,
     "start_time": "2023-02-28T05:41:52.095113",
     "status": "completed"
    },
    "tags": []
   },
   "outputs": [
    {
     "data": {
      "text/plain": [
       "Signif_Avg              0\n",
       "Pivot_Energy            0\n",
       "Flux1000                0\n",
       "PL_Index                0\n",
       "LP_Index                0\n",
       "LP_beta                 0\n",
       "LP_SigCurv              0\n",
       "PLEC_IndexS             0\n",
       "PLEC_ExpfactorS         0\n",
       "PLEC_SigCurv            0\n",
       "Npred                   0\n",
       "Variability_Index       0\n",
       "Frac_Variability        0\n",
       "CLASS1               2157\n",
       "dtype: int64"
      ]
     },
     "execution_count": 49,
     "metadata": {},
     "output_type": "execute_result"
    }
   ],
   "source": [
    "data.isnull().sum()"
   ]
  },
  {
   "cell_type": "code",
   "execution_count": 50,
   "id": "4ff10b43",
   "metadata": {
    "execution": {
     "iopub.execute_input": "2023-02-28T05:41:52.164004Z",
     "iopub.status.busy": "2023-02-28T05:41:52.163278Z",
     "iopub.status.idle": "2023-02-28T05:41:52.169216Z",
     "shell.execute_reply": "2023-02-28T05:41:52.168399Z"
    },
    "papermill": {
     "duration": 0.027488,
     "end_time": "2023-02-28T05:41:52.171402",
     "exception": false,
     "start_time": "2023-02-28T05:41:52.143914",
     "status": "completed"
    },
    "tags": []
   },
   "outputs": [],
   "source": [
    "# import numpy as np\n",
    "# from sklearn.impute import KNNImputer\n",
    "# from sklearn.preprocessing import OneHotEncoder\n",
    "\n",
    "# # Create a copy of the original dataframe\n",
    "# data_imputed = data.copy()\n",
    "\n",
    "# # Remove the 'unknown' category from the 'CLASS1' column\n",
    "# data_imputed['CLASS1'] = data_imputed['CLASS1'].replace('unknown', np.nan)\n",
    "\n",
    "# # Select only the 'CLASS1' column\n",
    "# y_final = data_imputed['CLASS1']\n",
    "\n",
    "# # Create a copy of the original 'CLASS1' column\n",
    "# y_final_copy = y_final.copy()\n",
    "\n",
    "# # Select the numerical columns for imputing\n",
    "# X_final = data_imputed.select_dtypes(include='number')\n",
    "\n",
    "# # Select the categorical columns for one-hot encoding\n",
    "# cat_cols = data_imputed.select_dtypes(include=['object', 'category']).columns\n",
    "# cat_cols = cat_cols.drop('CLASS1')\n",
    "\n",
    "# # Perform one-hot encoding on the categorical columns\n",
    "# encoder = OneHotEncoder()\n",
    "# X_cat_encoded = encoder.fit_transform(data_imputed[cat_cols])\n",
    "\n",
    "# # Concatenate the numerical and one-hot encoded categorical columns\n",
    "# X_final = pd.concat([X_final, pd.DataFrame(X_cat_encoded.toarray(), columns=encoder.get_feature_names(cat_cols))], axis=1)\n",
    "\n",
    "# # Fit KNNImputer on the combined numerical and categorical columns\n",
    "# imputer = KNNImputer(n_neighbors=5)\n",
    "# imputer.fit(X_final)\n",
    "\n",
    "# # Perform imputation on the 'CLASS1' null values using the trained imputer\n",
    "# X_imputed = imputer.transform(X_final)\n",
    "\n",
    "# # Convert the imputed array back into a dataframe\n",
    "# X_imputed_df = pd.DataFrame(X_imputed, columns=X_final.columns)\n",
    "\n",
    "# # Drop the last row of the imputed values dataframe\n",
    "# X_imputed_df = X_imputed_df.iloc[:-1]\n",
    "\n",
    "# # Replace the missing values in the original 'CLASS1' column with the first 39 categories\n",
    "# y_final_copy_imputed = pd.Series(X_imputed_df.iloc[:, 0], index=y_final_copy.index)\n",
    "# top_categories = y_final_copy_imputed.value_counts().index[:39]\n",
    "# y_final_copy_imputed.fillna(top_categories, inplace=True)\n",
    "# data_imputed['CLASS1'] = y_final_copy_imputed\n",
    "\n",
    "# # Verify that the number of unique categories in the 'CLASS1' column remains the same\n",
    "# print(data_imputed['CLASS1'].nunique())\n"
   ]
  },
  {
   "cell_type": "code",
   "execution_count": null,
   "id": "afead309",
   "metadata": {
    "papermill": {
     "duration": 0.021163,
     "end_time": "2023-02-28T05:41:52.211015",
     "exception": false,
     "start_time": "2023-02-28T05:41:52.189852",
     "status": "completed"
    },
    "tags": []
   },
   "outputs": [],
   "source": []
  }
 ],
 "metadata": {
  "kernelspec": {
   "display_name": "Python 3",
   "language": "python",
   "name": "python3"
  },
  "language_info": {
   "codemirror_mode": {
    "name": "ipython",
    "version": 3
   },
   "file_extension": ".py",
   "mimetype": "text/x-python",
   "name": "python",
   "nbconvert_exporter": "python",
   "pygments_lexer": "ipython3",
   "version": "3.7.12"
  },
  "papermill": {
   "default_parameters": {},
   "duration": 15.558267,
   "end_time": "2023-02-28T05:41:52.952960",
   "environment_variables": {},
   "exception": null,
   "input_path": "__notebook__.ipynb",
   "output_path": "__notebook__.ipynb",
   "parameters": {},
   "start_time": "2023-02-28T05:41:37.394693",
   "version": "2.4.0"
  }
 },
 "nbformat": 4,
 "nbformat_minor": 5
}
