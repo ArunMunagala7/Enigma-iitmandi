{
 "cells": [
  {
   "cell_type": "code",
   "execution_count": 1,
   "id": "99433932",
   "metadata": {
    "_cell_guid": "b1076dfc-b9ad-4769-8c92-a6c4dae69d19",
    "_uuid": "8f2839f25d086af736a60e9eeb907d3b93b6e0e5",
    "execution": {
     "iopub.execute_input": "2023-02-28T11:42:18.794412Z",
     "iopub.status.busy": "2023-02-28T11:42:18.793975Z",
     "iopub.status.idle": "2023-02-28T11:42:18.811729Z",
     "shell.execute_reply": "2023-02-28T11:42:18.810524Z"
    },
    "papermill": {
     "duration": 0.038034,
     "end_time": "2023-02-28T11:42:18.814205",
     "exception": false,
     "start_time": "2023-02-28T11:42:18.776171",
     "status": "completed"
    },
    "tags": []
   },
   "outputs": [
    {
     "name": "stdout",
     "output_type": "stream",
     "text": [
      "/kaggle/input/enigma-ps1/4FGL_DR3_Dataset_Enigma.csv\n"
     ]
    }
   ],
   "source": [
    "# This Pfthon 3 environment comes with many helpful analytics libraries installed\n",
    "# It is defined by the kaggle/python Docker image: https://github.com/kaggle/docker-python\n",
    "# For example, here's several helpful packages to load\n",
    "\n",
    "import numpy as np # linear algebra\n",
    "import pandas as pd # data processing, CSV file I/O (e.g. pd.read_csv)\n",
    "\n",
    "# Input data files are available in the read-only \"../input/\" directory\n",
    "# For example, running this (by clicking run or pressing Shift+Enter) will list all files under the input directory\n",
    "\n",
    "import os\n",
    "for dirname, _, filenames in os.walk('/kaggle/input'):\n",
    "    for filename in filenames:\n",
    "        print(os.path.join(dirname, filename))\n",
    "\n",
    "# You can write up to 20GB to the current directory (/kaggle/working/) that gets preserved as output when you create a version using \"Save & Run All\" \n",
    "# You can also write temporary files to /kaggle/temp/, but they won't be saved outside of the current session"
   ]
  },
  {
   "cell_type": "code",
   "execution_count": 2,
   "id": "830d0272",
   "metadata": {
    "execution": {
     "iopub.execute_input": "2023-02-28T11:42:18.846360Z",
     "iopub.status.busy": "2023-02-28T11:42:18.845935Z",
     "iopub.status.idle": "2023-02-28T11:42:18.949825Z",
     "shell.execute_reply": "2023-02-28T11:42:18.948442Z"
    },
    "papermill": {
     "duration": 0.12291,
     "end_time": "2023-02-28T11:42:18.952486",
     "exception": false,
     "start_time": "2023-02-28T11:42:18.829576",
     "status": "completed"
    },
    "tags": []
   },
   "outputs": [
    {
     "data": {
      "text/html": [
       "<div>\n",
       "<style scoped>\n",
       "    .dataframe tbody tr th:only-of-type {\n",
       "        vertical-align: middle;\n",
       "    }\n",
       "\n",
       "    .dataframe tbody tr th {\n",
       "        vertical-align: top;\n",
       "    }\n",
       "\n",
       "    .dataframe thead th {\n",
       "        text-align: right;\n",
       "    }\n",
       "</style>\n",
       "<table border=\"1\" class=\"dataframe\">\n",
       "  <thead>\n",
       "    <tr style=\"text-align: right;\">\n",
       "      <th></th>\n",
       "      <th>Unnamed: 0</th>\n",
       "      <th>Name</th>\n",
       "      <th>RA (deg)</th>\n",
       "      <th>DEC (deg)</th>\n",
       "      <th>Signif_Avg</th>\n",
       "      <th>Pivot_Energy</th>\n",
       "      <th>Flux1000</th>\n",
       "      <th>Energy_Flux100</th>\n",
       "      <th>PL_Flux_Density</th>\n",
       "      <th>PL_Index</th>\n",
       "      <th>...</th>\n",
       "      <th>PLEC_Flux_Density</th>\n",
       "      <th>PLEC_IndexS</th>\n",
       "      <th>PLEC_ExpfactorS</th>\n",
       "      <th>PLEC_Exp_Index</th>\n",
       "      <th>PLEC_SigCurv</th>\n",
       "      <th>Npred</th>\n",
       "      <th>Variability_Index</th>\n",
       "      <th>Frac_Variability</th>\n",
       "      <th>CLASS1</th>\n",
       "      <th>CLASS2</th>\n",
       "    </tr>\n",
       "  </thead>\n",
       "  <tbody>\n",
       "    <tr>\n",
       "      <th>0</th>\n",
       "      <td>0</td>\n",
       "      <td>4FGL J0000.3-7355</td>\n",
       "      <td>0.0983</td>\n",
       "      <td>0.0983</td>\n",
       "      <td>7.459561</td>\n",
       "      <td>2329.5903</td>\n",
       "      <td>1.392216e-10</td>\n",
       "      <td>1.581099e-12</td>\n",
       "      <td>2.610434e-14</td>\n",
       "      <td>2.179690</td>\n",
       "      <td>...</td>\n",
       "      <td>2.918480e-14</td>\n",
       "      <td>1.993013</td>\n",
       "      <td>0.150609</td>\n",
       "      <td>0.666667</td>\n",
       "      <td>1.292339</td>\n",
       "      <td>305.21463</td>\n",
       "      <td>14.602470</td>\n",
       "      <td>0.215777</td>\n",
       "      <td></td>\n",
       "      <td></td>\n",
       "    </tr>\n",
       "    <tr>\n",
       "      <th>1</th>\n",
       "      <td>1</td>\n",
       "      <td>4FGL J0000.5+0743</td>\n",
       "      <td>0.1375</td>\n",
       "      <td>0.1375</td>\n",
       "      <td>5.271726</td>\n",
       "      <td>1304.1947</td>\n",
       "      <td>1.951913e-10</td>\n",
       "      <td>1.121896e-12</td>\n",
       "      <td>1.039931e-13</td>\n",
       "      <td>2.349694</td>\n",
       "      <td>...</td>\n",
       "      <td>1.475405e-13</td>\n",
       "      <td>1.998095</td>\n",
       "      <td>0.586220</td>\n",
       "      <td>0.666667</td>\n",
       "      <td>2.532814</td>\n",
       "      <td>197.24410</td>\n",
       "      <td>25.399525</td>\n",
       "      <td>0.687574</td>\n",
       "      <td></td>\n",
       "      <td></td>\n",
       "    </tr>\n",
       "    <tr>\n",
       "      <th>2</th>\n",
       "      <td>2</td>\n",
       "      <td>4FGL J0000.7+2530</td>\n",
       "      <td>0.1878</td>\n",
       "      <td>0.1878</td>\n",
       "      <td>4.177483</td>\n",
       "      <td>6318.9400</td>\n",
       "      <td>7.202151e-11</td>\n",
       "      <td>8.571274e-13</td>\n",
       "      <td>2.058057e-15</td>\n",
       "      <td>1.852803</td>\n",
       "      <td>...</td>\n",
       "      <td>3.079466e-15</td>\n",
       "      <td>1.507830</td>\n",
       "      <td>0.720244</td>\n",
       "      <td>0.666667</td>\n",
       "      <td>1.562938</td>\n",
       "      <td>87.70652</td>\n",
       "      <td>13.650518</td>\n",
       "      <td>0.000000</td>\n",
       "      <td></td>\n",
       "      <td></td>\n",
       "    </tr>\n",
       "    <tr>\n",
       "      <th>3</th>\n",
       "      <td>3</td>\n",
       "      <td>4FGL J0001.2+4741</td>\n",
       "      <td>0.3126</td>\n",
       "      <td>0.3126</td>\n",
       "      <td>4.692600</td>\n",
       "      <td>2420.5752</td>\n",
       "      <td>1.259796e-10</td>\n",
       "      <td>1.499454e-12</td>\n",
       "      <td>2.156031e-14</td>\n",
       "      <td>2.271696</td>\n",
       "      <td>...</td>\n",
       "      <td>2.228697e-14</td>\n",
       "      <td>2.219642</td>\n",
       "      <td>0.029462</td>\n",
       "      <td>0.666667</td>\n",
       "      <td>0.337723</td>\n",
       "      <td>293.14978</td>\n",
       "      <td>25.313953</td>\n",
       "      <td>0.675882</td>\n",
       "      <td>bcu</td>\n",
       "      <td></td>\n",
       "    </tr>\n",
       "    <tr>\n",
       "      <th>4</th>\n",
       "      <td>4</td>\n",
       "      <td>4FGL J0001.2-0747</td>\n",
       "      <td>0.3151</td>\n",
       "      <td>0.3151</td>\n",
       "      <td>23.782486</td>\n",
       "      <td>1721.6039</td>\n",
       "      <td>7.471219e-10</td>\n",
       "      <td>8.339171e-12</td>\n",
       "      <td>2.656894e-13</td>\n",
       "      <td>2.116692</td>\n",
       "      <td>...</td>\n",
       "      <td>2.813444e-13</td>\n",
       "      <td>2.046604</td>\n",
       "      <td>0.063212</td>\n",
       "      <td>0.666667</td>\n",
       "      <td>1.892928</td>\n",
       "      <td>1192.35190</td>\n",
       "      <td>46.780693</td>\n",
       "      <td>0.406565</td>\n",
       "      <td>bll</td>\n",
       "      <td></td>\n",
       "    </tr>\n",
       "  </tbody>\n",
       "</table>\n",
       "<p>5 rows × 24 columns</p>\n",
       "</div>"
      ],
      "text/plain": [
       "   Unnamed: 0                Name  RA (deg)  DEC (deg)  Signif_Avg  \\\n",
       "0           0  4FGL J0000.3-7355     0.0983     0.0983    7.459561   \n",
       "1           1  4FGL J0000.5+0743     0.1375     0.1375    5.271726   \n",
       "2           2  4FGL J0000.7+2530     0.1878     0.1878    4.177483   \n",
       "3           3  4FGL J0001.2+4741     0.3126     0.3126    4.692600   \n",
       "4           4  4FGL J0001.2-0747     0.3151     0.3151   23.782486   \n",
       "\n",
       "   Pivot_Energy      Flux1000  Energy_Flux100  PL_Flux_Density  PL_Index  ...  \\\n",
       "0     2329.5903  1.392216e-10    1.581099e-12     2.610434e-14  2.179690  ...   \n",
       "1     1304.1947  1.951913e-10    1.121896e-12     1.039931e-13  2.349694  ...   \n",
       "2     6318.9400  7.202151e-11    8.571274e-13     2.058057e-15  1.852803  ...   \n",
       "3     2420.5752  1.259796e-10    1.499454e-12     2.156031e-14  2.271696  ...   \n",
       "4     1721.6039  7.471219e-10    8.339171e-12     2.656894e-13  2.116692  ...   \n",
       "\n",
       "   PLEC_Flux_Density  PLEC_IndexS  PLEC_ExpfactorS  PLEC_Exp_Index  \\\n",
       "0       2.918480e-14     1.993013         0.150609        0.666667   \n",
       "1       1.475405e-13     1.998095         0.586220        0.666667   \n",
       "2       3.079466e-15     1.507830         0.720244        0.666667   \n",
       "3       2.228697e-14     2.219642         0.029462        0.666667   \n",
       "4       2.813444e-13     2.046604         0.063212        0.666667   \n",
       "\n",
       "   PLEC_SigCurv       Npred  Variability_Index  Frac_Variability  CLASS1  \\\n",
       "0      1.292339   305.21463          14.602470          0.215777           \n",
       "1      2.532814   197.24410          25.399525          0.687574           \n",
       "2      1.562938    87.70652          13.650518          0.000000           \n",
       "3      0.337723   293.14978          25.313953          0.675882   bcu     \n",
       "4      1.892928  1192.35190          46.780693          0.406565   bll     \n",
       "\n",
       "       CLASS2  \n",
       "0              \n",
       "1              \n",
       "2              \n",
       "3              \n",
       "4              \n",
       "\n",
       "[5 rows x 24 columns]"
      ]
     },
     "execution_count": 2,
     "metadata": {},
     "output_type": "execute_result"
    }
   ],
   "source": [
    "train_data=pd.read_csv('/kaggle/input/enigma-ps1/4FGL_DR3_Dataset_Enigma.csv')\n",
    "train_data.head()"
   ]
  },
  {
   "cell_type": "markdown",
   "id": "ffc78aa1",
   "metadata": {
    "papermill": {
     "duration": 0.016236,
     "end_time": "2023-02-28T11:42:18.984025",
     "exception": false,
     "start_time": "2023-02-28T11:42:18.967789",
     "status": "completed"
    },
    "tags": []
   },
   "source": [
    "finding out the shape etc of the dataset to make it easier"
   ]
  },
  {
   "cell_type": "code",
   "execution_count": 3,
   "id": "e35b0814",
   "metadata": {
    "execution": {
     "iopub.execute_input": "2023-02-28T11:42:19.017020Z",
     "iopub.status.busy": "2023-02-28T11:42:19.016206Z",
     "iopub.status.idle": "2023-02-28T11:42:19.022966Z",
     "shell.execute_reply": "2023-02-28T11:42:19.021863Z"
    },
    "papermill": {
     "duration": 0.025936,
     "end_time": "2023-02-28T11:42:19.025303",
     "exception": false,
     "start_time": "2023-02-28T11:42:18.999367",
     "status": "completed"
    },
    "tags": []
   },
   "outputs": [
    {
     "data": {
      "text/plain": [
       "(6659, 24)"
      ]
     },
     "execution_count": 3,
     "metadata": {},
     "output_type": "execute_result"
    }
   ],
   "source": [
    "train_data.shape"
   ]
  },
  {
   "cell_type": "code",
   "execution_count": 4,
   "id": "a45260d5",
   "metadata": {
    "execution": {
     "iopub.execute_input": "2023-02-28T11:42:19.057512Z",
     "iopub.status.busy": "2023-02-28T11:42:19.057102Z",
     "iopub.status.idle": "2023-02-28T11:42:19.067922Z",
     "shell.execute_reply": "2023-02-28T11:42:19.066752Z"
    },
    "papermill": {
     "duration": 0.029664,
     "end_time": "2023-02-28T11:42:19.070181",
     "exception": false,
     "start_time": "2023-02-28T11:42:19.040517",
     "status": "completed"
    },
    "tags": []
   },
   "outputs": [
    {
     "data": {
      "text/plain": [
       "0         \n",
       "1         \n",
       "2         \n",
       "3    bcu  \n",
       "4    bll  \n",
       "Name: CLASS1, dtype: object"
      ]
     },
     "execution_count": 4,
     "metadata": {},
     "output_type": "execute_result"
    }
   ],
   "source": [
    "train_data['CLASS1'].head()"
   ]
  },
  {
   "cell_type": "markdown",
   "id": "f12ac3e2",
   "metadata": {
    "papermill": {
     "duration": 0.014996,
     "end_time": "2023-02-28T11:42:19.100631",
     "exception": false,
     "start_time": "2023-02-28T11:42:19.085635",
     "status": "completed"
    },
    "tags": []
   },
   "source": [
    "check the null values"
   ]
  },
  {
   "cell_type": "code",
   "execution_count": 5,
   "id": "8f6cafa2",
   "metadata": {
    "execution": {
     "iopub.execute_input": "2023-02-28T11:42:19.132962Z",
     "iopub.status.busy": "2023-02-28T11:42:19.132563Z",
     "iopub.status.idle": "2023-02-28T11:42:19.141962Z",
     "shell.execute_reply": "2023-02-28T11:42:19.140884Z"
    },
    "papermill": {
     "duration": 0.028397,
     "end_time": "2023-02-28T11:42:19.144230",
     "exception": false,
     "start_time": "2023-02-28T11:42:19.115833",
     "status": "completed"
    },
    "tags": []
   },
   "outputs": [
    {
     "data": {
      "text/plain": [
       "0       False\n",
       "1       False\n",
       "2       False\n",
       "3       False\n",
       "4       False\n",
       "        ...  \n",
       "6654    False\n",
       "6655    False\n",
       "6656    False\n",
       "6657    False\n",
       "6658    False\n",
       "Name: CLASS1, Length: 6659, dtype: bool"
      ]
     },
     "execution_count": 5,
     "metadata": {},
     "output_type": "execute_result"
    }
   ],
   "source": [
    "train_data['CLASS1'].isnull()"
   ]
  },
  {
   "cell_type": "code",
   "execution_count": 6,
   "id": "a8d7f8bd",
   "metadata": {
    "execution": {
     "iopub.execute_input": "2023-02-28T11:42:19.177048Z",
     "iopub.status.busy": "2023-02-28T11:42:19.176637Z",
     "iopub.status.idle": "2023-02-28T11:42:19.185831Z",
     "shell.execute_reply": "2023-02-28T11:42:19.184623Z"
    },
    "papermill": {
     "duration": 0.028549,
     "end_time": "2023-02-28T11:42:19.188338",
     "exception": false,
     "start_time": "2023-02-28T11:42:19.159789",
     "status": "completed"
    },
    "tags": []
   },
   "outputs": [
    {
     "data": {
      "text/plain": [
       "'     '"
      ]
     },
     "execution_count": 6,
     "metadata": {},
     "output_type": "execute_result"
    }
   ],
   "source": [
    "train_data.loc[2,'CLASS1']"
   ]
  },
  {
   "cell_type": "markdown",
   "id": "e47ec755",
   "metadata": {
    "papermill": {
     "duration": 0.015151,
     "end_time": "2023-02-28T11:42:19.219179",
     "exception": false,
     "start_time": "2023-02-28T11:42:19.204028",
     "status": "completed"
    },
    "tags": []
   },
   "source": [
    "finding the unique values for the classes"
   ]
  },
  {
   "cell_type": "code",
   "execution_count": 7,
   "id": "34cbfb9b",
   "metadata": {
    "execution": {
     "iopub.execute_input": "2023-02-28T11:42:19.252560Z",
     "iopub.status.busy": "2023-02-28T11:42:19.252137Z",
     "iopub.status.idle": "2023-02-28T11:42:19.264145Z",
     "shell.execute_reply": "2023-02-28T11:42:19.263356Z"
    },
    "papermill": {
     "duration": 0.031053,
     "end_time": "2023-02-28T11:42:19.266191",
     "exception": false,
     "start_time": "2023-02-28T11:42:19.235138",
     "status": "completed"
    },
    "tags": []
   },
   "outputs": [
    {
     "data": {
      "text/plain": [
       "array(['     ', 'bcu  ', 'bll  ', 'fsrq ', 'unk  ', 'spp  ', 'PSR  ',\n",
       "       'rdg  ', 'agn  ', 'FSRQ ', 'MSP  ', 'glc  ', 'snr  ', 'gal  ',\n",
       "       'sbg  ', 'BLL  ', 'GAL  ', 'sfr  ', 'bin  ', 'SNR  ', 'HMB  ',\n",
       "       'RDG  ', 'nlsy1', 'msp  ', 'lmb  ', 'NOV  ', 'LMB  ', 'css  ',\n",
       "       'AGN  ', 'PWN  ', 'pwn  ', 'BCU  ', 'hmb  ', 'ssrq ', 'NLSY1',\n",
       "       'psr  ', 'SFR  ', 'BIN  ', 'sey  ', 'GC   '], dtype=object)"
      ]
     },
     "execution_count": 7,
     "metadata": {},
     "output_type": "execute_result"
    }
   ],
   "source": [
    "df=train_data.copy()\n",
    "uni=train_data['CLASS1'].unique()\n",
    "uni"
   ]
  },
  {
   "cell_type": "code",
   "execution_count": 8,
   "id": "0ef02658",
   "metadata": {
    "execution": {
     "iopub.execute_input": "2023-02-28T11:42:19.298946Z",
     "iopub.status.busy": "2023-02-28T11:42:19.298535Z",
     "iopub.status.idle": "2023-02-28T11:42:19.304369Z",
     "shell.execute_reply": "2023-02-28T11:42:19.303258Z"
    },
    "papermill": {
     "duration": 0.024759,
     "end_time": "2023-02-28T11:42:19.306537",
     "exception": false,
     "start_time": "2023-02-28T11:42:19.281778",
     "status": "completed"
    },
    "tags": []
   },
   "outputs": [],
   "source": [
    "uni_doc = ['agn', 'bcu', 'bin', 'bll', 'css', 'fsrq', 'gal', 'glc', 'hmb', 'mc', 'nlsy1', 'nov', 'PSR', 'psr', 'pwn', 'rdg', 'sbg', 'sey', 'sfr', 'snr', 'spp', 'ssrq', 'unk']"
   ]
  },
  {
   "cell_type": "markdown",
   "id": "29cb072b",
   "metadata": {
    "papermill": {
     "duration": 0.015221,
     "end_time": "2023-02-28T11:42:19.337532",
     "exception": false,
     "start_time": "2023-02-28T11:42:19.322311",
     "status": "completed"
    },
    "tags": []
   },
   "source": [
    "find the unique values in the list"
   ]
  },
  {
   "cell_type": "code",
   "execution_count": 9,
   "id": "e2579cd7",
   "metadata": {
    "execution": {
     "iopub.execute_input": "2023-02-28T11:42:19.371097Z",
     "iopub.status.busy": "2023-02-28T11:42:19.370671Z",
     "iopub.status.idle": "2023-02-28T11:42:19.376545Z",
     "shell.execute_reply": "2023-02-28T11:42:19.375266Z"
    },
    "papermill": {
     "duration": 0.026174,
     "end_time": "2023-02-28T11:42:19.379186",
     "exception": false,
     "start_time": "2023-02-28T11:42:19.353012",
     "status": "completed"
    },
    "tags": []
   },
   "outputs": [
    {
     "name": "stdout",
     "output_type": "stream",
     "text": [
      "{'sey  ', 'hmb  ', 'gal  ', '     ', 'bll  ', 'rdg  ', 'NOV  ', 'PWN  ', 'HMB  ', 'unk  ', 'psr  ', 'lmb  ', 'sfr  ', 'snr  ', 'FSRQ ', 'fsrq ', 'MSP  ', 'BCU  ', 'pwn  ', 'bcu  ', 'spp  ', 'ssrq ', 'SNR  ', 'msp  ', 'NLSY1', 'SFR  ', 'agn  ', 'RDG  ', 'AGN  ', 'css  ', 'sbg  ', 'bin  ', 'LMB  ', 'BLL  ', 'BIN  ', 'GAL  ', 'PSR  ', 'glc  ', 'GC   '}\n"
     ]
    }
   ],
   "source": [
    "# find the elements in list1 that are not in list2\n",
    "diff1 = set(uni).difference(set(uni_doc))\n",
    "print(diff1)"
   ]
  },
  {
   "cell_type": "markdown",
   "id": "6bdf2591",
   "metadata": {
    "papermill": {
     "duration": 0.015988,
     "end_time": "2023-02-28T11:42:19.411153",
     "exception": false,
     "start_time": "2023-02-28T11:42:19.395165",
     "status": "completed"
    },
    "tags": []
   },
   "source": [
    "finding the count of all the rows of each category in a column"
   ]
  },
  {
   "cell_type": "code",
   "execution_count": 10,
   "id": "2de9f924",
   "metadata": {
    "execution": {
     "iopub.execute_input": "2023-02-28T11:42:19.445285Z",
     "iopub.status.busy": "2023-02-28T11:42:19.444194Z",
     "iopub.status.idle": "2023-02-28T11:42:19.453505Z",
     "shell.execute_reply": "2023-02-28T11:42:19.452296Z"
    },
    "papermill": {
     "duration": 0.02891,
     "end_time": "2023-02-28T11:42:19.456039",
     "exception": false,
     "start_time": "2023-02-28T11:42:19.427129",
     "status": "completed"
    },
    "tags": []
   },
   "outputs": [
    {
     "data": {
      "text/plain": [
       "array(['     ', 'bcu  ', 'bll  ', 'fsrq ', 'unk  ', 'spp  ', 'PSR  ',\n",
       "       'rdg  ', 'agn  ', 'FSRQ ', 'MSP  ', 'glc  ', 'snr  ', 'gal  ',\n",
       "       'sbg  ', 'BLL  ', 'GAL  ', 'sfr  ', 'bin  ', 'SNR  ', 'HMB  ',\n",
       "       'RDG  ', 'nlsy1', 'msp  ', 'lmb  ', 'NOV  ', 'LMB  ', 'css  ',\n",
       "       'AGN  ', 'PWN  ', 'pwn  ', 'BCU  ', 'hmb  ', 'ssrq ', 'NLSY1',\n",
       "       'psr  ', 'SFR  ', 'BIN  ', 'sey  ', 'GC   '], dtype=object)"
      ]
     },
     "execution_count": 10,
     "metadata": {},
     "output_type": "execute_result"
    }
   ],
   "source": [
    "df['CLASS1'].unique()"
   ]
  },
  {
   "cell_type": "code",
   "execution_count": 11,
   "id": "f22ba28c",
   "metadata": {
    "execution": {
     "iopub.execute_input": "2023-02-28T11:42:19.489641Z",
     "iopub.status.busy": "2023-02-28T11:42:19.489178Z",
     "iopub.status.idle": "2023-02-28T11:42:19.499418Z",
     "shell.execute_reply": "2023-02-28T11:42:19.498152Z"
    },
    "papermill": {
     "duration": 0.030021,
     "end_time": "2023-02-28T11:42:19.501913",
     "exception": false,
     "start_time": "2023-02-28T11:42:19.471892",
     "status": "completed"
    },
    "tags": []
   },
   "outputs": [
    {
     "data": {
      "text/plain": [
       "         2157\n",
       "bcu      1492\n",
       "bll      1434\n",
       "fsrq      750\n",
       "PSR       135\n",
       "unk       134\n",
       "MSP       120\n",
       "spp       114\n",
       "FSRQ       44\n",
       "rdg        39\n",
       "glc        35\n",
       "msp        35\n",
       "SNR        24\n",
       "BLL        22\n",
       "snr        19\n",
       "PWN        12\n",
       "pwn         8\n",
       "HMB         8\n",
       "agn         8\n",
       "sbg         8\n",
       "bin         6\n",
       "RDG         6\n",
       "lmb         6\n",
       "css         5\n",
       "NLSY1       4\n",
       "gal         4\n",
       "NOV         4\n",
       "nlsy1       4\n",
       "hmb         3\n",
       "SFR         3\n",
       "LMB         2\n",
       "sfr         2\n",
       "ssrq        2\n",
       "GAL         2\n",
       "psr         2\n",
       "sey         2\n",
       "AGN         1\n",
       "BCU         1\n",
       "BIN         1\n",
       "GC          1\n",
       "Name: CLASS1, dtype: int64"
      ]
     },
     "execution_count": 11,
     "metadata": {},
     "output_type": "execute_result"
    }
   ],
   "source": [
    "df['CLASS1'].value_counts()"
   ]
  },
  {
   "cell_type": "code",
   "execution_count": 12,
   "id": "e4e72432",
   "metadata": {
    "execution": {
     "iopub.execute_input": "2023-02-28T11:42:19.542846Z",
     "iopub.status.busy": "2023-02-28T11:42:19.542457Z",
     "iopub.status.idle": "2023-02-28T11:42:19.554279Z",
     "shell.execute_reply": "2023-02-28T11:42:19.552466Z"
    },
    "papermill": {
     "duration": 0.034157,
     "end_time": "2023-02-28T11:42:19.557493",
     "exception": false,
     "start_time": "2023-02-28T11:42:19.523336",
     "status": "completed"
    },
    "tags": []
   },
   "outputs": [
    {
     "data": {
      "text/plain": [
       "2157"
      ]
     },
     "execution_count": 12,
     "metadata": {},
     "output_type": "execute_result"
    }
   ],
   "source": [
    "df['CLASS1'].value_counts()['     ']"
   ]
  },
  {
   "cell_type": "code",
   "execution_count": 13,
   "id": "9b85ad16",
   "metadata": {
    "execution": {
     "iopub.execute_input": "2023-02-28T11:42:19.600128Z",
     "iopub.status.busy": "2023-02-28T11:42:19.599740Z",
     "iopub.status.idle": "2023-02-28T11:42:19.606369Z",
     "shell.execute_reply": "2023-02-28T11:42:19.605121Z"
    },
    "papermill": {
     "duration": 0.032857,
     "end_time": "2023-02-28T11:42:19.608774",
     "exception": false,
     "start_time": "2023-02-28T11:42:19.575917",
     "status": "completed"
    },
    "tags": []
   },
   "outputs": [
    {
     "data": {
      "text/plain": [
       "(6659, 24)"
      ]
     },
     "execution_count": 13,
     "metadata": {},
     "output_type": "execute_result"
    }
   ],
   "source": [
    "df.shape"
   ]
  },
  {
   "cell_type": "code",
   "execution_count": 14,
   "id": "fd5a5429",
   "metadata": {
    "execution": {
     "iopub.execute_input": "2023-02-28T11:42:19.643464Z",
     "iopub.status.busy": "2023-02-28T11:42:19.642593Z",
     "iopub.status.idle": "2023-02-28T11:42:19.648623Z",
     "shell.execute_reply": "2023-02-28T11:42:19.647811Z"
    },
    "papermill": {
     "duration": 0.026028,
     "end_time": "2023-02-28T11:42:19.651110",
     "exception": false,
     "start_time": "2023-02-28T11:42:19.625082",
     "status": "completed"
    },
    "tags": []
   },
   "outputs": [
    {
     "data": {
      "text/plain": [
       "32.39225108875207"
      ]
     },
     "execution_count": 14,
     "metadata": {},
     "output_type": "execute_result"
    }
   ],
   "source": [
    "(2157/6659)*100"
   ]
  },
  {
   "cell_type": "code",
   "execution_count": 15,
   "id": "471dc9c3",
   "metadata": {
    "execution": {
     "iopub.execute_input": "2023-02-28T11:42:19.690427Z",
     "iopub.status.busy": "2023-02-28T11:42:19.689387Z",
     "iopub.status.idle": "2023-02-28T11:42:19.697844Z",
     "shell.execute_reply": "2023-02-28T11:42:19.696731Z"
    },
    "papermill": {
     "duration": 0.029172,
     "end_time": "2023-02-28T11:42:19.700276",
     "exception": false,
     "start_time": "2023-02-28T11:42:19.671104",
     "status": "completed"
    },
    "tags": []
   },
   "outputs": [],
   "source": [
    "df1=df.copy()\n",
    "df1['CLASS1'].replace({'     ': np.nan}, inplace=True)"
   ]
  },
  {
   "cell_type": "code",
   "execution_count": 16,
   "id": "3ab52370",
   "metadata": {
    "execution": {
     "iopub.execute_input": "2023-02-28T11:42:19.735468Z",
     "iopub.status.busy": "2023-02-28T11:42:19.734511Z",
     "iopub.status.idle": "2023-02-28T11:42:19.741658Z",
     "shell.execute_reply": "2023-02-28T11:42:19.740850Z"
    },
    "papermill": {
     "duration": 0.02704,
     "end_time": "2023-02-28T11:42:19.743751",
     "exception": false,
     "start_time": "2023-02-28T11:42:19.716711",
     "status": "completed"
    },
    "tags": []
   },
   "outputs": [
    {
     "data": {
      "text/plain": [
       "2157"
      ]
     },
     "execution_count": 16,
     "metadata": {},
     "output_type": "execute_result"
    }
   ],
   "source": [
    "df1['CLASS1'].isnull().sum()"
   ]
  },
  {
   "cell_type": "markdown",
   "id": "d933ade3",
   "metadata": {
    "papermill": {
     "duration": 0.01599,
     "end_time": "2023-02-28T11:42:19.776463",
     "exception": false,
     "start_time": "2023-02-28T11:42:19.760473",
     "status": "completed"
    },
    "tags": []
   },
   "source": [
    "find the null values for the whole table "
   ]
  },
  {
   "cell_type": "code",
   "execution_count": 17,
   "id": "02126413",
   "metadata": {
    "execution": {
     "iopub.execute_input": "2023-02-28T11:42:19.811441Z",
     "iopub.status.busy": "2023-02-28T11:42:19.810769Z",
     "iopub.status.idle": "2023-02-28T11:42:19.821530Z",
     "shell.execute_reply": "2023-02-28T11:42:19.820367Z"
    },
    "papermill": {
     "duration": 0.031286,
     "end_time": "2023-02-28T11:42:19.824114",
     "exception": false,
     "start_time": "2023-02-28T11:42:19.792828",
     "status": "completed"
    },
    "tags": []
   },
   "outputs": [
    {
     "data": {
      "text/plain": [
       "Unnamed: 0              0\n",
       "Name                    0\n",
       "RA (deg)                0\n",
       "DEC (deg)               0\n",
       "Signif_Avg              1\n",
       "Pivot_Energy            0\n",
       "Flux1000                0\n",
       "Energy_Flux100          0\n",
       "PL_Flux_Density         1\n",
       "PL_Index                1\n",
       "LP_Flux_Density         0\n",
       "LP_Index                0\n",
       "LP_beta                 0\n",
       "LP_SigCurv              0\n",
       "PLEC_Flux_Density       1\n",
       "PLEC_IndexS             1\n",
       "PLEC_ExpfactorS         1\n",
       "PLEC_Exp_Index          1\n",
       "PLEC_SigCurv            0\n",
       "Npred                   0\n",
       "Variability_Index       0\n",
       "Frac_Variability        0\n",
       "CLASS1               2157\n",
       "CLASS2                  0\n",
       "dtype: int64"
      ]
     },
     "execution_count": 17,
     "metadata": {},
     "output_type": "execute_result"
    }
   ],
   "source": [
    "df1.isnull().sum()"
   ]
  },
  {
   "cell_type": "code",
   "execution_count": 18,
   "id": "ffafc85d",
   "metadata": {
    "execution": {
     "iopub.execute_input": "2023-02-28T11:42:19.860114Z",
     "iopub.status.busy": "2023-02-28T11:42:19.859270Z",
     "iopub.status.idle": "2023-02-28T11:42:19.870991Z",
     "shell.execute_reply": "2023-02-28T11:42:19.869860Z"
    },
    "papermill": {
     "duration": 0.032277,
     "end_time": "2023-02-28T11:42:19.873253",
     "exception": false,
     "start_time": "2023-02-28T11:42:19.840976",
     "status": "completed"
    },
    "tags": []
   },
   "outputs": [
    {
     "data": {
      "text/plain": [
       "Unnamed: 0              0\n",
       "Name                    0\n",
       "RA (deg)                0\n",
       "DEC (deg)               0\n",
       "Signif_Avg              1\n",
       "Pivot_Energy            0\n",
       "Flux1000                0\n",
       "Energy_Flux100          0\n",
       "PL_Flux_Density         1\n",
       "PL_Index                1\n",
       "LP_Flux_Density         0\n",
       "LP_Index                0\n",
       "LP_beta                 0\n",
       "LP_SigCurv              0\n",
       "PLEC_Flux_Density       1\n",
       "PLEC_IndexS             1\n",
       "PLEC_ExpfactorS         1\n",
       "PLEC_Exp_Index          1\n",
       "PLEC_SigCurv            0\n",
       "Npred                   0\n",
       "Variability_Index       0\n",
       "Frac_Variability        0\n",
       "CLASS1               2157\n",
       "CLASS2                  0\n",
       "dtype: int64"
      ]
     },
     "execution_count": 18,
     "metadata": {},
     "output_type": "execute_result"
    }
   ],
   "source": [
    "df1.isna().sum()"
   ]
  },
  {
   "cell_type": "code",
   "execution_count": 19,
   "id": "659d96b2",
   "metadata": {
    "execution": {
     "iopub.execute_input": "2023-02-28T11:42:19.910376Z",
     "iopub.status.busy": "2023-02-28T11:42:19.909258Z",
     "iopub.status.idle": "2023-02-28T11:42:19.915371Z",
     "shell.execute_reply": "2023-02-28T11:42:19.914423Z"
    },
    "papermill": {
     "duration": 0.027815,
     "end_time": "2023-02-28T11:42:19.917884",
     "exception": false,
     "start_time": "2023-02-28T11:42:19.890069",
     "status": "completed"
    },
    "tags": []
   },
   "outputs": [],
   "source": [
    "null_list=['Signif_Avg','PL_Flux_Density','PL_Index','PLEC_Flux_Density','PLEC_IndexS','PLEC_ExpfactorS','PLEC_Exp_Index']"
   ]
  },
  {
   "cell_type": "markdown",
   "id": "52d68179",
   "metadata": {
    "papermill": {
     "duration": 0.016582,
     "end_time": "2023-02-28T11:42:19.951237",
     "exception": false,
     "start_time": "2023-02-28T11:42:19.934655",
     "status": "completed"
    },
    "tags": []
   },
   "source": [
    "dropping null values in the table"
   ]
  },
  {
   "cell_type": "code",
   "execution_count": 20,
   "id": "4a37d443",
   "metadata": {
    "execution": {
     "iopub.execute_input": "2023-02-28T11:42:19.987252Z",
     "iopub.status.busy": "2023-02-28T11:42:19.986412Z",
     "iopub.status.idle": "2023-02-28T11:42:19.997687Z",
     "shell.execute_reply": "2023-02-28T11:42:19.996691Z"
    },
    "papermill": {
     "duration": 0.032269,
     "end_time": "2023-02-28T11:42:20.000267",
     "exception": false,
     "start_time": "2023-02-28T11:42:19.967998",
     "status": "completed"
    },
    "tags": []
   },
   "outputs": [],
   "source": [
    "df1= df1.dropna(subset=null_list)"
   ]
  },
  {
   "cell_type": "code",
   "execution_count": 21,
   "id": "ffc4b7c9",
   "metadata": {
    "execution": {
     "iopub.execute_input": "2023-02-28T11:42:20.035855Z",
     "iopub.status.busy": "2023-02-28T11:42:20.034969Z",
     "iopub.status.idle": "2023-02-28T11:42:20.046723Z",
     "shell.execute_reply": "2023-02-28T11:42:20.045392Z"
    },
    "papermill": {
     "duration": 0.03244,
     "end_time": "2023-02-28T11:42:20.049493",
     "exception": false,
     "start_time": "2023-02-28T11:42:20.017053",
     "status": "completed"
    },
    "tags": []
   },
   "outputs": [
    {
     "data": {
      "text/plain": [
       "Unnamed: 0              0\n",
       "Name                    0\n",
       "RA (deg)                0\n",
       "DEC (deg)               0\n",
       "Signif_Avg              0\n",
       "Pivot_Energy            0\n",
       "Flux1000                0\n",
       "Energy_Flux100          0\n",
       "PL_Flux_Density         0\n",
       "PL_Index                0\n",
       "LP_Flux_Density         0\n",
       "LP_Index                0\n",
       "LP_beta                 0\n",
       "LP_SigCurv              0\n",
       "PLEC_Flux_Density       0\n",
       "PLEC_IndexS             0\n",
       "PLEC_ExpfactorS         0\n",
       "PLEC_Exp_Index          0\n",
       "PLEC_SigCurv            0\n",
       "Npred                   0\n",
       "Variability_Index       0\n",
       "Frac_Variability        0\n",
       "CLASS1               2157\n",
       "CLASS2                  0\n",
       "dtype: int64"
      ]
     },
     "execution_count": 21,
     "metadata": {},
     "output_type": "execute_result"
    }
   ],
   "source": [
    "df1.isnull().sum()"
   ]
  },
  {
   "cell_type": "code",
   "execution_count": 22,
   "id": "8edafb7c",
   "metadata": {
    "execution": {
     "iopub.execute_input": "2023-02-28T11:42:20.085480Z",
     "iopub.status.busy": "2023-02-28T11:42:20.084761Z",
     "iopub.status.idle": "2023-02-28T11:42:20.092645Z",
     "shell.execute_reply": "2023-02-28T11:42:20.091419Z"
    },
    "papermill": {
     "duration": 0.028592,
     "end_time": "2023-02-28T11:42:20.095058",
     "exception": false,
     "start_time": "2023-02-28T11:42:20.066466",
     "status": "completed"
    },
    "tags": []
   },
   "outputs": [
    {
     "data": {
      "text/plain": [
       "Index(['Unnamed: 0', 'Name', 'RA (deg)', 'DEC (deg)', 'Signif_Avg',\n",
       "       'Pivot_Energy', 'Flux1000', 'Energy_Flux100', 'PL_Flux_Density',\n",
       "       'PL_Index', 'LP_Flux_Density', 'LP_Index', 'LP_beta', 'LP_SigCurv',\n",
       "       'PLEC_Flux_Density', 'PLEC_IndexS', 'PLEC_ExpfactorS', 'PLEC_Exp_Index',\n",
       "       'PLEC_SigCurv', 'Npred', 'Variability_Index', 'Frac_Variability',\n",
       "       'CLASS1', 'CLASS2'],\n",
       "      dtype='object')"
      ]
     },
     "execution_count": 22,
     "metadata": {},
     "output_type": "execute_result"
    }
   ],
   "source": [
    "df1.columns"
   ]
  },
  {
   "cell_type": "code",
   "execution_count": 23,
   "id": "5ede960b",
   "metadata": {
    "execution": {
     "iopub.execute_input": "2023-02-28T11:42:20.131503Z",
     "iopub.status.busy": "2023-02-28T11:42:20.130473Z",
     "iopub.status.idle": "2023-02-28T11:42:20.138461Z",
     "shell.execute_reply": "2023-02-28T11:42:20.137604Z"
    },
    "papermill": {
     "duration": 0.028553,
     "end_time": "2023-02-28T11:42:20.140701",
     "exception": false,
     "start_time": "2023-02-28T11:42:20.112148",
     "status": "completed"
    },
    "tags": []
   },
   "outputs": [],
   "source": [
    "# select rows with null values in 'my_column'\n",
    "null_df = df1[df1['CLASS1'].isnull()]\n",
    "\n",
    "# select rows without null values in 'my_column'\n",
    "not_null_df = df1[~df1['CLASS1'].isnull()]"
   ]
  },
  {
   "cell_type": "code",
   "execution_count": 24,
   "id": "ab24c939",
   "metadata": {
    "execution": {
     "iopub.execute_input": "2023-02-28T11:42:20.176874Z",
     "iopub.status.busy": "2023-02-28T11:42:20.175920Z",
     "iopub.status.idle": "2023-02-28T11:42:20.186390Z",
     "shell.execute_reply": "2023-02-28T11:42:20.185386Z"
    },
    "papermill": {
     "duration": 0.03109,
     "end_time": "2023-02-28T11:42:20.188797",
     "exception": false,
     "start_time": "2023-02-28T11:42:20.157707",
     "status": "completed"
    },
    "tags": []
   },
   "outputs": [
    {
     "data": {
      "text/plain": [
       "Unnamed: 0           0\n",
       "Name                 0\n",
       "RA (deg)             0\n",
       "DEC (deg)            0\n",
       "Signif_Avg           0\n",
       "Pivot_Energy         0\n",
       "Flux1000             0\n",
       "Energy_Flux100       0\n",
       "PL_Flux_Density      0\n",
       "PL_Index             0\n",
       "LP_Flux_Density      0\n",
       "LP_Index             0\n",
       "LP_beta              0\n",
       "LP_SigCurv           0\n",
       "PLEC_Flux_Density    0\n",
       "PLEC_IndexS          0\n",
       "PLEC_ExpfactorS      0\n",
       "PLEC_Exp_Index       0\n",
       "PLEC_SigCurv         0\n",
       "Npred                0\n",
       "Variability_Index    0\n",
       "Frac_Variability     0\n",
       "CLASS1               0\n",
       "CLASS2               0\n",
       "dtype: int64"
      ]
     },
     "execution_count": 24,
     "metadata": {},
     "output_type": "execute_result"
    }
   ],
   "source": [
    "not_null_df.isnull().sum()"
   ]
  },
  {
   "cell_type": "markdown",
   "id": "4098e0ce",
   "metadata": {
    "papermill": {
     "duration": 0.017173,
     "end_time": "2023-02-28T11:42:20.223695",
     "exception": false,
     "start_time": "2023-02-28T11:42:20.206522",
     "status": "completed"
    },
    "tags": []
   },
   "source": [
    "splitting the dataset to perform mutual information for feature selection"
   ]
  },
  {
   "cell_type": "code",
   "execution_count": 25,
   "id": "d77f7ca9",
   "metadata": {
    "execution": {
     "iopub.execute_input": "2023-02-28T11:42:20.260474Z",
     "iopub.status.busy": "2023-02-28T11:42:20.259630Z",
     "iopub.status.idle": "2023-02-28T11:42:20.266366Z",
     "shell.execute_reply": "2023-02-28T11:42:20.265117Z"
    },
    "papermill": {
     "duration": 0.027484,
     "end_time": "2023-02-28T11:42:20.268737",
     "exception": false,
     "start_time": "2023-02-28T11:42:20.241253",
     "status": "completed"
    },
    "tags": []
   },
   "outputs": [],
   "source": [
    "X_df1=not_null_df.iloc[:,2:22]\n",
    "X_df1.columns\n",
    "y_df1=not_null_df['CLASS1']"
   ]
  },
  {
   "cell_type": "markdown",
   "id": "27458490",
   "metadata": {
    "papermill": {
     "duration": 0.016856,
     "end_time": "2023-02-28T11:42:20.302674",
     "exception": false,
     "start_time": "2023-02-28T11:42:20.285818",
     "status": "completed"
    },
    "tags": []
   },
   "source": [
    "doing another search of null values just in case"
   ]
  },
  {
   "cell_type": "code",
   "execution_count": 26,
   "id": "0cf9b66a",
   "metadata": {
    "execution": {
     "iopub.execute_input": "2023-02-28T11:42:20.339118Z",
     "iopub.status.busy": "2023-02-28T11:42:20.338719Z",
     "iopub.status.idle": "2023-02-28T11:42:20.348375Z",
     "shell.execute_reply": "2023-02-28T11:42:20.347161Z"
    },
    "papermill": {
     "duration": 0.030842,
     "end_time": "2023-02-28T11:42:20.350835",
     "exception": false,
     "start_time": "2023-02-28T11:42:20.319993",
     "status": "completed"
    },
    "tags": []
   },
   "outputs": [
    {
     "data": {
      "text/plain": [
       "0"
      ]
     },
     "execution_count": 26,
     "metadata": {},
     "output_type": "execute_result"
    }
   ],
   "source": [
    "X_df1.isnull().sum().sum()"
   ]
  },
  {
   "cell_type": "code",
   "execution_count": 27,
   "id": "dba09314",
   "metadata": {
    "execution": {
     "iopub.execute_input": "2023-02-28T11:42:20.387533Z",
     "iopub.status.busy": "2023-02-28T11:42:20.387103Z",
     "iopub.status.idle": "2023-02-28T11:42:20.394850Z",
     "shell.execute_reply": "2023-02-28T11:42:20.393747Z"
    },
    "papermill": {
     "duration": 0.029236,
     "end_time": "2023-02-28T11:42:20.397554",
     "exception": false,
     "start_time": "2023-02-28T11:42:20.368318",
     "status": "completed"
    },
    "tags": []
   },
   "outputs": [
    {
     "data": {
      "text/plain": [
       "0"
      ]
     },
     "execution_count": 27,
     "metadata": {},
     "output_type": "execute_result"
    }
   ],
   "source": [
    "y_df1.isnull().sum().sum()"
   ]
  },
  {
   "cell_type": "markdown",
   "id": "1615d93f",
   "metadata": {
    "papermill": {
     "duration": 0.017773,
     "end_time": "2023-02-28T11:42:20.433286",
     "exception": false,
     "start_time": "2023-02-28T11:42:20.415513",
     "status": "completed"
    },
    "tags": []
   },
   "source": [
    "trying mutual info classification"
   ]
  },
  {
   "cell_type": "code",
   "execution_count": 28,
   "id": "b8c6d10f",
   "metadata": {
    "execution": {
     "iopub.execute_input": "2023-02-28T11:42:20.470249Z",
     "iopub.status.busy": "2023-02-28T11:42:20.469866Z",
     "iopub.status.idle": "2023-02-28T11:42:20.477760Z",
     "shell.execute_reply": "2023-02-28T11:42:20.476678Z"
    },
    "papermill": {
     "duration": 0.029139,
     "end_time": "2023-02-28T11:42:20.480019",
     "exception": false,
     "start_time": "2023-02-28T11:42:20.450880",
     "status": "completed"
    },
    "tags": []
   },
   "outputs": [
    {
     "data": {
      "text/plain": [
       "array(['bcu  ', 'bll  ', 'fsrq ', 'unk  ', 'spp  ', 'PSR  ', 'rdg  ',\n",
       "       'agn  ', 'FSRQ ', 'MSP  ', 'glc  ', 'snr  ', 'gal  ', 'sbg  ',\n",
       "       'BLL  ', 'GAL  ', 'sfr  ', 'bin  ', 'SNR  ', 'HMB  ', 'RDG  ',\n",
       "       'nlsy1', 'msp  ', 'lmb  ', 'NOV  ', 'LMB  ', 'css  ', 'AGN  ',\n",
       "       'PWN  ', 'pwn  ', 'BCU  ', 'hmb  ', 'ssrq ', 'NLSY1', 'psr  ',\n",
       "       'SFR  ', 'BIN  ', 'sey  ', 'GC   '], dtype=object)"
      ]
     },
     "execution_count": 28,
     "metadata": {},
     "output_type": "execute_result"
    }
   ],
   "source": [
    "y_df1.unique()"
   ]
  },
  {
   "cell_type": "code",
   "execution_count": 29,
   "id": "48f3d81f",
   "metadata": {
    "execution": {
     "iopub.execute_input": "2023-02-28T11:42:20.516924Z",
     "iopub.status.busy": "2023-02-28T11:42:20.516515Z",
     "iopub.status.idle": "2023-02-28T11:42:20.524010Z",
     "shell.execute_reply": "2023-02-28T11:42:20.522724Z"
    },
    "papermill": {
     "duration": 0.028928,
     "end_time": "2023-02-28T11:42:20.526496",
     "exception": false,
     "start_time": "2023-02-28T11:42:20.497568",
     "status": "completed"
    },
    "tags": []
   },
   "outputs": [
    {
     "data": {
      "text/plain": [
       "(4501,)"
      ]
     },
     "execution_count": 29,
     "metadata": {},
     "output_type": "execute_result"
    }
   ],
   "source": [
    "y_df1.shape"
   ]
  },
  {
   "cell_type": "code",
   "execution_count": 30,
   "id": "6320683c",
   "metadata": {
    "execution": {
     "iopub.execute_input": "2023-02-28T11:42:20.565455Z",
     "iopub.status.busy": "2023-02-28T11:42:20.564482Z",
     "iopub.status.idle": "2023-02-28T11:42:20.572668Z",
     "shell.execute_reply": "2023-02-28T11:42:20.571864Z"
    },
    "papermill": {
     "duration": 0.030229,
     "end_time": "2023-02-28T11:42:20.574951",
     "exception": false,
     "start_time": "2023-02-28T11:42:20.544722",
     "status": "completed"
    },
    "tags": []
   },
   "outputs": [
    {
     "data": {
      "text/plain": [
       "bcu      1492\n",
       "bll      1434\n",
       "fsrq      750\n",
       "PSR       135\n",
       "unk       134\n",
       "MSP       120\n",
       "spp       114\n",
       "FSRQ       44\n",
       "rdg        39\n",
       "glc        35\n",
       "msp        35\n",
       "SNR        24\n",
       "BLL        22\n",
       "snr        19\n",
       "PWN        11\n",
       "pwn         8\n",
       "HMB         8\n",
       "agn         8\n",
       "sbg         8\n",
       "bin         6\n",
       "RDG         6\n",
       "lmb         6\n",
       "css         5\n",
       "NLSY1       4\n",
       "gal         4\n",
       "NOV         4\n",
       "nlsy1       4\n",
       "hmb         3\n",
       "SFR         3\n",
       "LMB         2\n",
       "sfr         2\n",
       "ssrq        2\n",
       "GAL         2\n",
       "psr         2\n",
       "sey         2\n",
       "AGN         1\n",
       "BCU         1\n",
       "BIN         1\n",
       "GC          1\n",
       "Name: CLASS1, dtype: int64"
      ]
     },
     "execution_count": 30,
     "metadata": {},
     "output_type": "execute_result"
    }
   ],
   "source": [
    "y_df1.value_counts()"
   ]
  },
  {
   "cell_type": "code",
   "execution_count": 31,
   "id": "d26070f3",
   "metadata": {
    "execution": {
     "iopub.execute_input": "2023-02-28T11:42:20.612542Z",
     "iopub.status.busy": "2023-02-28T11:42:20.611428Z",
     "iopub.status.idle": "2023-02-28T11:42:22.877161Z",
     "shell.execute_reply": "2023-02-28T11:42:22.875455Z"
    },
    "papermill": {
     "duration": 2.287415,
     "end_time": "2023-02-28T11:42:22.880010",
     "exception": false,
     "start_time": "2023-02-28T11:42:20.592595",
     "status": "completed"
    },
    "tags": []
   },
   "outputs": [
    {
     "name": "stdout",
     "output_type": "stream",
     "text": [
      "Index(['Signif_Avg', 'Pivot_Energy', 'Flux1000', 'PL_Index', 'LP_Index',\n",
      "       'LP_beta', 'LP_SigCurv', 'PLEC_IndexS', 'PLEC_ExpfactorS',\n",
      "       'PLEC_SigCurv', 'Npred', 'Variability_Index', 'Frac_Variability'],\n",
      "      dtype='object')\n"
     ]
    }
   ],
   "source": [
    "from sklearn.feature_selection import mutual_info_classif\n",
    "\n",
    "\n",
    "# X is your dataset, and y is your target column\n",
    "# assuming X is a pandas DataFrame\n",
    "mi_scores = mutual_info_classif(X_df1, y_df1.values.ravel())\n",
    "\n",
    "# create a boolean mask to select only the features with mutual information > -.15\n",
    "mask = mi_scores > 0.15\n",
    "\n",
    "# get the feature names that satisfy the mask\n",
    "selected_features = X_df1.columns[mask]\n",
    "\n",
    "# print the selected feature names\n",
    "print(selected_features)"
   ]
  },
  {
   "cell_type": "markdown",
   "id": "a34b1071",
   "metadata": {
    "papermill": {
     "duration": 0.018084,
     "end_time": "2023-02-28T11:42:22.915924",
     "exception": false,
     "start_time": "2023-02-28T11:42:22.897840",
     "status": "completed"
    },
    "tags": []
   },
   "source": [
    "print the selected features above a specific value"
   ]
  },
  {
   "cell_type": "markdown",
   "id": "2863f9f4",
   "metadata": {
    "papermill": {
     "duration": 0.017525,
     "end_time": "2023-02-28T11:42:22.951184",
     "exception": false,
     "start_time": "2023-02-28T11:42:22.933659",
     "status": "completed"
    },
    "tags": []
   },
   "source": [
    "get the selected features needed"
   ]
  },
  {
   "cell_type": "code",
   "execution_count": 32,
   "id": "911e3ab6",
   "metadata": {
    "execution": {
     "iopub.execute_input": "2023-02-28T11:42:22.989783Z",
     "iopub.status.busy": "2023-02-28T11:42:22.989399Z",
     "iopub.status.idle": "2023-02-28T11:42:22.995487Z",
     "shell.execute_reply": "2023-02-28T11:42:22.994235Z"
    },
    "papermill": {
     "duration": 0.02813,
     "end_time": "2023-02-28T11:42:22.997868",
     "exception": false,
     "start_time": "2023-02-28T11:42:22.969738",
     "status": "completed"
    },
    "tags": []
   },
   "outputs": [],
   "source": [
    "X_final=df1[selected_features]"
   ]
  },
  {
   "cell_type": "markdown",
   "id": "233751c4",
   "metadata": {
    "papermill": {
     "duration": 0.017532,
     "end_time": "2023-02-28T11:42:23.033704",
     "exception": false,
     "start_time": "2023-02-28T11:42:23.016172",
     "status": "completed"
    },
    "tags": []
   },
   "source": [
    "checking for null values in the train dataset"
   ]
  },
  {
   "cell_type": "code",
   "execution_count": 33,
   "id": "63661ed1",
   "metadata": {
    "execution": {
     "iopub.execute_input": "2023-02-28T11:42:23.073106Z",
     "iopub.status.busy": "2023-02-28T11:42:23.071877Z",
     "iopub.status.idle": "2023-02-28T11:42:23.083021Z",
     "shell.execute_reply": "2023-02-28T11:42:23.081619Z"
    },
    "papermill": {
     "duration": 0.033592,
     "end_time": "2023-02-28T11:42:23.085751",
     "exception": false,
     "start_time": "2023-02-28T11:42:23.052159",
     "status": "completed"
    },
    "tags": []
   },
   "outputs": [
    {
     "data": {
      "text/plain": [
       "Signif_Avg           0\n",
       "Pivot_Energy         0\n",
       "Flux1000             0\n",
       "PL_Index             0\n",
       "LP_Index             0\n",
       "LP_beta              0\n",
       "LP_SigCurv           0\n",
       "PLEC_IndexS          0\n",
       "PLEC_ExpfactorS      0\n",
       "PLEC_SigCurv         0\n",
       "Npred                0\n",
       "Variability_Index    0\n",
       "Frac_Variability     0\n",
       "dtype: int64"
      ]
     },
     "execution_count": 33,
     "metadata": {},
     "output_type": "execute_result"
    }
   ],
   "source": [
    "X_final.isnull().sum()"
   ]
  },
  {
   "cell_type": "markdown",
   "id": "c8a5b8a3",
   "metadata": {
    "papermill": {
     "duration": 0.017884,
     "end_time": "2023-02-28T11:42:23.122594",
     "exception": false,
     "start_time": "2023-02-28T11:42:23.104710",
     "status": "completed"
    },
    "tags": []
   },
   "source": [
    "creating a target pandas series"
   ]
  },
  {
   "cell_type": "code",
   "execution_count": 34,
   "id": "8f7f0070",
   "metadata": {
    "execution": {
     "iopub.execute_input": "2023-02-28T11:42:23.159960Z",
     "iopub.status.busy": "2023-02-28T11:42:23.159574Z",
     "iopub.status.idle": "2023-02-28T11:42:23.164415Z",
     "shell.execute_reply": "2023-02-28T11:42:23.163241Z"
    },
    "papermill": {
     "duration": 0.026239,
     "end_time": "2023-02-28T11:42:23.166662",
     "exception": false,
     "start_time": "2023-02-28T11:42:23.140423",
     "status": "completed"
    },
    "tags": []
   },
   "outputs": [],
   "source": [
    "y_final=df1['CLASS1']"
   ]
  },
  {
   "cell_type": "code",
   "execution_count": 35,
   "id": "dffa7e3a",
   "metadata": {
    "execution": {
     "iopub.execute_input": "2023-02-28T11:42:23.204457Z",
     "iopub.status.busy": "2023-02-28T11:42:23.204028Z",
     "iopub.status.idle": "2023-02-28T11:42:23.211921Z",
     "shell.execute_reply": "2023-02-28T11:42:23.210812Z"
    },
    "papermill": {
     "duration": 0.029736,
     "end_time": "2023-02-28T11:42:23.214419",
     "exception": false,
     "start_time": "2023-02-28T11:42:23.184683",
     "status": "completed"
    },
    "tags": []
   },
   "outputs": [
    {
     "data": {
      "text/plain": [
       "2157"
      ]
     },
     "execution_count": 35,
     "metadata": {},
     "output_type": "execute_result"
    }
   ],
   "source": [
    "y_final.isnull().sum()"
   ]
  },
  {
   "cell_type": "markdown",
   "id": "1a1c50be",
   "metadata": {
    "papermill": {
     "duration": 0.018192,
     "end_time": "2023-02-28T11:42:23.250561",
     "exception": false,
     "start_time": "2023-02-28T11:42:23.232369",
     "status": "completed"
    },
    "tags": []
   },
   "source": [
    "value counts of the classes"
   ]
  },
  {
   "cell_type": "code",
   "execution_count": 36,
   "id": "fcff3ef6",
   "metadata": {
    "execution": {
     "iopub.execute_input": "2023-02-28T11:42:23.288679Z",
     "iopub.status.busy": "2023-02-28T11:42:23.288274Z",
     "iopub.status.idle": "2023-02-28T11:42:23.297410Z",
     "shell.execute_reply": "2023-02-28T11:42:23.296309Z"
    },
    "papermill": {
     "duration": 0.031236,
     "end_time": "2023-02-28T11:42:23.299905",
     "exception": false,
     "start_time": "2023-02-28T11:42:23.268669",
     "status": "completed"
    },
    "tags": []
   },
   "outputs": [
    {
     "data": {
      "text/plain": [
       "bcu      1492\n",
       "bll      1434\n",
       "fsrq      750\n",
       "PSR       135\n",
       "unk       134\n",
       "MSP       120\n",
       "spp       114\n",
       "FSRQ       44\n",
       "rdg        39\n",
       "glc        35\n",
       "msp        35\n",
       "SNR        24\n",
       "BLL        22\n",
       "snr        19\n",
       "PWN        11\n",
       "pwn         8\n",
       "HMB         8\n",
       "agn         8\n",
       "sbg         8\n",
       "bin         6\n",
       "RDG         6\n",
       "lmb         6\n",
       "css         5\n",
       "NLSY1       4\n",
       "gal         4\n",
       "NOV         4\n",
       "nlsy1       4\n",
       "hmb         3\n",
       "SFR         3\n",
       "LMB         2\n",
       "sfr         2\n",
       "ssrq        2\n",
       "GAL         2\n",
       "psr         2\n",
       "sey         2\n",
       "AGN         1\n",
       "BCU         1\n",
       "BIN         1\n",
       "GC          1\n",
       "Name: CLASS1, dtype: int64"
      ]
     },
     "execution_count": 36,
     "metadata": {},
     "output_type": "execute_result"
    }
   ],
   "source": [
    "y_final.value_counts()"
   ]
  },
  {
   "cell_type": "code",
   "execution_count": 37,
   "id": "8876e5c9",
   "metadata": {
    "execution": {
     "iopub.execute_input": "2023-02-28T11:42:23.338287Z",
     "iopub.status.busy": "2023-02-28T11:42:23.337897Z",
     "iopub.status.idle": "2023-02-28T11:42:23.345224Z",
     "shell.execute_reply": "2023-02-28T11:42:23.344026Z"
    },
    "papermill": {
     "duration": 0.029701,
     "end_time": "2023-02-28T11:42:23.347742",
     "exception": false,
     "start_time": "2023-02-28T11:42:23.318041",
     "status": "completed"
    },
    "tags": []
   },
   "outputs": [
    {
     "data": {
      "text/plain": [
       "39"
      ]
     },
     "execution_count": 37,
     "metadata": {},
     "output_type": "execute_result"
    }
   ],
   "source": [
    "y_final.nunique()"
   ]
  },
  {
   "cell_type": "code",
   "execution_count": 38,
   "id": "39970b57",
   "metadata": {
    "execution": {
     "iopub.execute_input": "2023-02-28T11:42:23.386187Z",
     "iopub.status.busy": "2023-02-28T11:42:23.385509Z",
     "iopub.status.idle": "2023-02-28T11:42:23.392220Z",
     "shell.execute_reply": "2023-02-28T11:42:23.391024Z"
    },
    "papermill": {
     "duration": 0.028805,
     "end_time": "2023-02-28T11:42:23.394636",
     "exception": false,
     "start_time": "2023-02-28T11:42:23.365831",
     "status": "completed"
    },
    "tags": []
   },
   "outputs": [
    {
     "data": {
      "text/plain": [
       "(6658,)"
      ]
     },
     "execution_count": 38,
     "metadata": {},
     "output_type": "execute_result"
    }
   ],
   "source": [
    "y_final.shape"
   ]
  },
  {
   "cell_type": "code",
   "execution_count": 39,
   "id": "adb1e66b",
   "metadata": {
    "execution": {
     "iopub.execute_input": "2023-02-28T11:42:23.434643Z",
     "iopub.status.busy": "2023-02-28T11:42:23.434205Z",
     "iopub.status.idle": "2023-02-28T11:42:23.441669Z",
     "shell.execute_reply": "2023-02-28T11:42:23.440262Z"
    },
    "papermill": {
     "duration": 0.030624,
     "end_time": "2023-02-28T11:42:23.444461",
     "exception": false,
     "start_time": "2023-02-28T11:42:23.413837",
     "status": "completed"
    },
    "tags": []
   },
   "outputs": [
    {
     "data": {
      "text/plain": [
       "(6658, 13)"
      ]
     },
     "execution_count": 39,
     "metadata": {},
     "output_type": "execute_result"
    }
   ],
   "source": [
    "X_final.shape"
   ]
  },
  {
   "cell_type": "markdown",
   "id": "a8b1f818",
   "metadata": {
    "papermill": {
     "duration": 0.018546,
     "end_time": "2023-02-28T11:42:23.482309",
     "exception": false,
     "start_time": "2023-02-28T11:42:23.463763",
     "status": "completed"
    },
    "tags": []
   },
   "source": [
    "finding the percentage of null values in the pandas dataset"
   ]
  },
  {
   "cell_type": "code",
   "execution_count": 40,
   "id": "b7825bb4",
   "metadata": {
    "execution": {
     "iopub.execute_input": "2023-02-28T11:42:23.521574Z",
     "iopub.status.busy": "2023-02-28T11:42:23.521076Z",
     "iopub.status.idle": "2023-02-28T11:42:23.529400Z",
     "shell.execute_reply": "2023-02-28T11:42:23.528005Z"
    },
    "papermill": {
     "duration": 0.030817,
     "end_time": "2023-02-28T11:42:23.531830",
     "exception": false,
     "start_time": "2023-02-28T11:42:23.501013",
     "status": "completed"
    },
    "tags": []
   },
   "outputs": [
    {
     "data": {
      "text/plain": [
       "32.39711625112646"
      ]
     },
     "execution_count": 40,
     "metadata": {},
     "output_type": "execute_result"
    }
   ],
   "source": [
    "y_final.isnull().mean()*100"
   ]
  },
  {
   "cell_type": "code",
   "execution_count": 41,
   "id": "838966cf",
   "metadata": {
    "execution": {
     "iopub.execute_input": "2023-02-28T11:42:23.572448Z",
     "iopub.status.busy": "2023-02-28T11:42:23.571668Z",
     "iopub.status.idle": "2023-02-28T11:42:23.578990Z",
     "shell.execute_reply": "2023-02-28T11:42:23.578073Z"
    },
    "papermill": {
     "duration": 0.030426,
     "end_time": "2023-02-28T11:42:23.581226",
     "exception": false,
     "start_time": "2023-02-28T11:42:23.550800",
     "status": "completed"
    },
    "tags": []
   },
   "outputs": [
    {
     "data": {
      "text/plain": [
       "0      NaN\n",
       "1      NaN\n",
       "2      NaN\n",
       "3    bcu  \n",
       "4    bll  \n",
       "Name: CLASS1, dtype: object"
      ]
     },
     "execution_count": 41,
     "metadata": {},
     "output_type": "execute_result"
    }
   ],
   "source": [
    "y_final.head()"
   ]
  },
  {
   "cell_type": "code",
   "execution_count": 42,
   "id": "27c9b5b2",
   "metadata": {
    "execution": {
     "iopub.execute_input": "2023-02-28T11:42:23.620461Z",
     "iopub.status.busy": "2023-02-28T11:42:23.619754Z",
     "iopub.status.idle": "2023-02-28T11:42:23.651389Z",
     "shell.execute_reply": "2023-02-28T11:42:23.649834Z"
    },
    "papermill": {
     "duration": 0.054167,
     "end_time": "2023-02-28T11:42:23.653903",
     "exception": false,
     "start_time": "2023-02-28T11:42:23.599736",
     "status": "completed"
    },
    "tags": []
   },
   "outputs": [
    {
     "name": "stderr",
     "output_type": "stream",
     "text": [
      "/opt/conda/lib/python3.7/site-packages/ipykernel_launcher.py:14: SettingWithCopyWarning: \n",
      "A value is trying to be set on a copy of a slice from a DataFrame.\n",
      "Try using .loc[row_indexer,col_indexer] = value instead\n",
      "\n",
      "See the caveats in the documentation: https://pandas.pydata.org/pandas-docs/stable/user_guide/indexing.html#returning-a-view-versus-a-copy\n",
      "  \n"
     ]
    }
   ],
   "source": [
    "from sklearn.impute import KNNImputer\n",
    "\n",
    "# create the imputer object\n",
    "imputer = KNNImputer(n_neighbors=5)\n",
    "\n",
    "# concatenate the training dataset and the target dataset\n",
    "data = pd.concat([X_final, y_final], axis=1)\n",
    "\n",
    "# split the data into imputed and non-imputed sets based on null values in the target column\n",
    "data_imputed = data[data[y_final.name].isnull()]\n",
    "data_not_imputed = data[~data[y_final.name].isnull()]\n",
    "\n",
    "# impute the missing values in the target column of the imputed set using the training set\n",
    "data_imputed[y_final.name] = imputer.fit_transform(data_imputed[X_final.columns])\n",
    "\n",
    "# concatenate the imputed and non-imputed sets\n",
    "data_imputed = pd.concat([data_imputed, data_not_imputed], axis=0)\n",
    "\n",
    "# extract the imputed target column as a pandas series\n",
    "y_final_imputed = data_imputed[y_final.name]\n",
    "\n",
    "# extract the imputed training dataset without the target column\n",
    "X_final_imputed = data_imputed.drop(columns=[y_final.name])"
   ]
  },
  {
   "cell_type": "code",
   "execution_count": 43,
   "id": "017551f5",
   "metadata": {
    "execution": {
     "iopub.execute_input": "2023-02-28T11:42:23.693565Z",
     "iopub.status.busy": "2023-02-28T11:42:23.692334Z",
     "iopub.status.idle": "2023-02-28T11:42:23.701234Z",
     "shell.execute_reply": "2023-02-28T11:42:23.700007Z"
    },
    "papermill": {
     "duration": 0.031058,
     "end_time": "2023-02-28T11:42:23.703538",
     "exception": false,
     "start_time": "2023-02-28T11:42:23.672480",
     "status": "completed"
    },
    "tags": []
   },
   "outputs": [
    {
     "data": {
      "text/plain": [
       "0"
      ]
     },
     "execution_count": 43,
     "metadata": {},
     "output_type": "execute_result"
    }
   ],
   "source": [
    "y_final_imputed.isnull().sum()"
   ]
  },
  {
   "cell_type": "code",
   "execution_count": 44,
   "id": "8fb8d1ef",
   "metadata": {
    "execution": {
     "iopub.execute_input": "2023-02-28T11:42:23.743180Z",
     "iopub.status.busy": "2023-02-28T11:42:23.741987Z",
     "iopub.status.idle": "2023-02-28T11:42:23.750957Z",
     "shell.execute_reply": "2023-02-28T11:42:23.749811Z"
    },
    "papermill": {
     "duration": 0.031213,
     "end_time": "2023-02-28T11:42:23.753344",
     "exception": false,
     "start_time": "2023-02-28T11:42:23.722131",
     "status": "completed"
    },
    "tags": []
   },
   "outputs": [
    {
     "data": {
      "text/plain": [
       "0"
      ]
     },
     "execution_count": 44,
     "metadata": {},
     "output_type": "execute_result"
    }
   ],
   "source": [
    "X_final_imputed.isnull().sum().sum()"
   ]
  },
  {
   "cell_type": "code",
   "execution_count": 45,
   "id": "884108dc",
   "metadata": {
    "execution": {
     "iopub.execute_input": "2023-02-28T11:42:23.792684Z",
     "iopub.status.busy": "2023-02-28T11:42:23.792255Z",
     "iopub.status.idle": "2023-02-28T11:42:23.803564Z",
     "shell.execute_reply": "2023-02-28T11:42:23.802375Z"
    },
    "papermill": {
     "duration": 0.033967,
     "end_time": "2023-02-28T11:42:23.806094",
     "exception": false,
     "start_time": "2023-02-28T11:42:23.772127",
     "status": "completed"
    },
    "tags": []
   },
   "outputs": [
    {
     "data": {
      "text/plain": [
       "bcu         1492\n",
       "bll         1434\n",
       "fsrq         750\n",
       "PSR          135\n",
       "unk          134\n",
       "            ... \n",
       "9.18154        1\n",
       "4.805481       1\n",
       "6.904792       1\n",
       "8.334894       1\n",
       "GC             1\n",
       "Name: CLASS1, Length: 2196, dtype: int64"
      ]
     },
     "execution_count": 45,
     "metadata": {},
     "output_type": "execute_result"
    }
   ],
   "source": [
    "y_final_imputed.value_counts()"
   ]
  },
  {
   "cell_type": "code",
   "execution_count": 46,
   "id": "893b4087",
   "metadata": {
    "execution": {
     "iopub.execute_input": "2023-02-28T11:42:23.847041Z",
     "iopub.status.busy": "2023-02-28T11:42:23.846053Z",
     "iopub.status.idle": "2023-02-28T11:42:23.854509Z",
     "shell.execute_reply": "2023-02-28T11:42:23.853456Z"
    },
    "papermill": {
     "duration": 0.031392,
     "end_time": "2023-02-28T11:42:23.856648",
     "exception": false,
     "start_time": "2023-02-28T11:42:23.825256",
     "status": "completed"
    },
    "tags": []
   },
   "outputs": [
    {
     "data": {
      "text/plain": [
       "2196"
      ]
     },
     "execution_count": 46,
     "metadata": {},
     "output_type": "execute_result"
    }
   ],
   "source": [
    "y_final_imputed.nunique()"
   ]
  },
  {
   "cell_type": "code",
   "execution_count": 47,
   "id": "b508d0f3",
   "metadata": {
    "execution": {
     "iopub.execute_input": "2023-02-28T11:42:23.897125Z",
     "iopub.status.busy": "2023-02-28T11:42:23.896343Z",
     "iopub.status.idle": "2023-02-28T11:42:23.917970Z",
     "shell.execute_reply": "2023-02-28T11:42:23.916818Z"
    },
    "papermill": {
     "duration": 0.044736,
     "end_time": "2023-02-28T11:42:23.920398",
     "exception": false,
     "start_time": "2023-02-28T11:42:23.875662",
     "status": "completed"
    },
    "tags": []
   },
   "outputs": [
    {
     "data": {
      "text/html": [
       "<div>\n",
       "<style scoped>\n",
       "    .dataframe tbody tr th:only-of-type {\n",
       "        vertical-align: middle;\n",
       "    }\n",
       "\n",
       "    .dataframe tbody tr th {\n",
       "        vertical-align: top;\n",
       "    }\n",
       "\n",
       "    .dataframe thead th {\n",
       "        text-align: right;\n",
       "    }\n",
       "</style>\n",
       "<table border=\"1\" class=\"dataframe\">\n",
       "  <thead>\n",
       "    <tr style=\"text-align: right;\">\n",
       "      <th></th>\n",
       "      <th>Signif_Avg</th>\n",
       "      <th>Pivot_Energy</th>\n",
       "      <th>Flux1000</th>\n",
       "      <th>PL_Index</th>\n",
       "      <th>LP_Index</th>\n",
       "      <th>LP_beta</th>\n",
       "      <th>LP_SigCurv</th>\n",
       "      <th>PLEC_IndexS</th>\n",
       "      <th>PLEC_ExpfactorS</th>\n",
       "      <th>PLEC_SigCurv</th>\n",
       "      <th>Npred</th>\n",
       "      <th>Variability_Index</th>\n",
       "      <th>Frac_Variability</th>\n",
       "      <th>CLASS1</th>\n",
       "    </tr>\n",
       "  </thead>\n",
       "  <tbody>\n",
       "    <tr>\n",
       "      <th>0</th>\n",
       "      <td>7.459561</td>\n",
       "      <td>2329.5903</td>\n",
       "      <td>1.392216e-10</td>\n",
       "      <td>2.179690</td>\n",
       "      <td>2.063685</td>\n",
       "      <td>0.091939</td>\n",
       "      <td>0.749253</td>\n",
       "      <td>1.993013</td>\n",
       "      <td>0.150609</td>\n",
       "      <td>1.292339</td>\n",
       "      <td>305.21463</td>\n",
       "      <td>14.602470</td>\n",
       "      <td>0.215777</td>\n",
       "      <td>NaN</td>\n",
       "    </tr>\n",
       "    <tr>\n",
       "      <th>1</th>\n",
       "      <td>5.271726</td>\n",
       "      <td>1304.1947</td>\n",
       "      <td>1.951913e-10</td>\n",
       "      <td>2.349694</td>\n",
       "      <td>2.069591</td>\n",
       "      <td>0.454411</td>\n",
       "      <td>2.549887</td>\n",
       "      <td>1.998095</td>\n",
       "      <td>0.586220</td>\n",
       "      <td>2.532814</td>\n",
       "      <td>197.24410</td>\n",
       "      <td>25.399525</td>\n",
       "      <td>0.687574</td>\n",
       "      <td>NaN</td>\n",
       "    </tr>\n",
       "    <tr>\n",
       "      <th>2</th>\n",
       "      <td>4.177483</td>\n",
       "      <td>6318.9400</td>\n",
       "      <td>7.202151e-11</td>\n",
       "      <td>1.852803</td>\n",
       "      <td>1.646164</td>\n",
       "      <td>0.376358</td>\n",
       "      <td>1.471138</td>\n",
       "      <td>1.507830</td>\n",
       "      <td>0.720244</td>\n",
       "      <td>1.562938</td>\n",
       "      <td>87.70652</td>\n",
       "      <td>13.650518</td>\n",
       "      <td>0.000000</td>\n",
       "      <td>NaN</td>\n",
       "    </tr>\n",
       "    <tr>\n",
       "      <th>3</th>\n",
       "      <td>4.692600</td>\n",
       "      <td>2420.5752</td>\n",
       "      <td>1.259796e-10</td>\n",
       "      <td>2.271696</td>\n",
       "      <td>2.254081</td>\n",
       "      <td>0.012156</td>\n",
       "      <td>0.083893</td>\n",
       "      <td>2.219642</td>\n",
       "      <td>0.029462</td>\n",
       "      <td>0.337723</td>\n",
       "      <td>293.14978</td>\n",
       "      <td>25.313953</td>\n",
       "      <td>0.675882</td>\n",
       "      <td>bcu</td>\n",
       "    </tr>\n",
       "    <tr>\n",
       "      <th>4</th>\n",
       "      <td>23.782486</td>\n",
       "      <td>1721.6039</td>\n",
       "      <td>7.471219e-10</td>\n",
       "      <td>2.116692</td>\n",
       "      <td>2.078927</td>\n",
       "      <td>0.051182</td>\n",
       "      <td>1.697737</td>\n",
       "      <td>2.046604</td>\n",
       "      <td>0.063212</td>\n",
       "      <td>1.892928</td>\n",
       "      <td>1192.35190</td>\n",
       "      <td>46.780693</td>\n",
       "      <td>0.406565</td>\n",
       "      <td>bll</td>\n",
       "    </tr>\n",
       "  </tbody>\n",
       "</table>\n",
       "</div>"
      ],
      "text/plain": [
       "   Signif_Avg  Pivot_Energy      Flux1000  PL_Index  LP_Index   LP_beta  \\\n",
       "0    7.459561     2329.5903  1.392216e-10  2.179690  2.063685  0.091939   \n",
       "1    5.271726     1304.1947  1.951913e-10  2.349694  2.069591  0.454411   \n",
       "2    4.177483     6318.9400  7.202151e-11  1.852803  1.646164  0.376358   \n",
       "3    4.692600     2420.5752  1.259796e-10  2.271696  2.254081  0.012156   \n",
       "4   23.782486     1721.6039  7.471219e-10  2.116692  2.078927  0.051182   \n",
       "\n",
       "   LP_SigCurv  PLEC_IndexS  PLEC_ExpfactorS  PLEC_SigCurv       Npred  \\\n",
       "0    0.749253     1.993013         0.150609      1.292339   305.21463   \n",
       "1    2.549887     1.998095         0.586220      2.532814   197.24410   \n",
       "2    1.471138     1.507830         0.720244      1.562938    87.70652   \n",
       "3    0.083893     2.219642         0.029462      0.337723   293.14978   \n",
       "4    1.697737     2.046604         0.063212      1.892928  1192.35190   \n",
       "\n",
       "   Variability_Index  Frac_Variability CLASS1  \n",
       "0          14.602470          0.215777    NaN  \n",
       "1          25.399525          0.687574    NaN  \n",
       "2          13.650518          0.000000    NaN  \n",
       "3          25.313953          0.675882  bcu    \n",
       "4          46.780693          0.406565  bll    "
      ]
     },
     "execution_count": 47,
     "metadata": {},
     "output_type": "execute_result"
    }
   ],
   "source": [
    "data=pd.concat([X_final,y_final],axis=1)\n",
    "data.head()"
   ]
  },
  {
   "cell_type": "code",
   "execution_count": 48,
   "id": "a89098b6",
   "metadata": {
    "execution": {
     "iopub.execute_input": "2023-02-28T11:42:23.960737Z",
     "iopub.status.busy": "2023-02-28T11:42:23.960303Z",
     "iopub.status.idle": "2023-02-28T11:42:23.966934Z",
     "shell.execute_reply": "2023-02-28T11:42:23.966170Z"
    },
    "papermill": {
     "duration": 0.029234,
     "end_time": "2023-02-28T11:42:23.968992",
     "exception": false,
     "start_time": "2023-02-28T11:42:23.939758",
     "status": "completed"
    },
    "tags": []
   },
   "outputs": [
    {
     "data": {
      "text/plain": [
       "39"
      ]
     },
     "execution_count": 48,
     "metadata": {},
     "output_type": "execute_result"
    }
   ],
   "source": [
    "y_final.nunique()"
   ]
  },
  {
   "cell_type": "code",
   "execution_count": 49,
   "id": "beeb2a46",
   "metadata": {
    "execution": {
     "iopub.execute_input": "2023-02-28T11:42:24.010181Z",
     "iopub.status.busy": "2023-02-28T11:42:24.009442Z",
     "iopub.status.idle": "2023-02-28T11:42:24.019025Z",
     "shell.execute_reply": "2023-02-28T11:42:24.017930Z"
    },
    "papermill": {
     "duration": 0.03281,
     "end_time": "2023-02-28T11:42:24.021374",
     "exception": false,
     "start_time": "2023-02-28T11:42:23.988564",
     "status": "completed"
    },
    "tags": []
   },
   "outputs": [
    {
     "data": {
      "text/plain": [
       "Signif_Avg              0\n",
       "Pivot_Energy            0\n",
       "Flux1000                0\n",
       "PL_Index                0\n",
       "LP_Index                0\n",
       "LP_beta                 0\n",
       "LP_SigCurv              0\n",
       "PLEC_IndexS             0\n",
       "PLEC_ExpfactorS         0\n",
       "PLEC_SigCurv            0\n",
       "Npred                   0\n",
       "Variability_Index       0\n",
       "Frac_Variability        0\n",
       "CLASS1               2157\n",
       "dtype: int64"
      ]
     },
     "execution_count": 49,
     "metadata": {},
     "output_type": "execute_result"
    }
   ],
   "source": [
    "data.isnull().sum()"
   ]
  },
  {
   "cell_type": "code",
   "execution_count": 50,
   "id": "42d7a7b2",
   "metadata": {
    "execution": {
     "iopub.execute_input": "2023-02-28T11:42:24.062132Z",
     "iopub.status.busy": "2023-02-28T11:42:24.061708Z",
     "iopub.status.idle": "2023-02-28T11:42:24.082384Z",
     "shell.execute_reply": "2023-02-28T11:42:24.081143Z"
    },
    "papermill": {
     "duration": 0.044177,
     "end_time": "2023-02-28T11:42:24.085073",
     "exception": false,
     "start_time": "2023-02-28T11:42:24.040896",
     "status": "completed"
    },
    "tags": []
   },
   "outputs": [
    {
     "data": {
      "text/html": [
       "<div>\n",
       "<style scoped>\n",
       "    .dataframe tbody tr th:only-of-type {\n",
       "        vertical-align: middle;\n",
       "    }\n",
       "\n",
       "    .dataframe tbody tr th {\n",
       "        vertical-align: top;\n",
       "    }\n",
       "\n",
       "    .dataframe thead th {\n",
       "        text-align: right;\n",
       "    }\n",
       "</style>\n",
       "<table border=\"1\" class=\"dataframe\">\n",
       "  <thead>\n",
       "    <tr style=\"text-align: right;\">\n",
       "      <th></th>\n",
       "      <th>Signif_Avg</th>\n",
       "      <th>Pivot_Energy</th>\n",
       "      <th>Flux1000</th>\n",
       "      <th>PL_Index</th>\n",
       "      <th>LP_Index</th>\n",
       "      <th>LP_beta</th>\n",
       "      <th>LP_SigCurv</th>\n",
       "      <th>PLEC_IndexS</th>\n",
       "      <th>PLEC_ExpfactorS</th>\n",
       "      <th>PLEC_SigCurv</th>\n",
       "      <th>Npred</th>\n",
       "      <th>Variability_Index</th>\n",
       "      <th>Frac_Variability</th>\n",
       "      <th>CLASS1</th>\n",
       "    </tr>\n",
       "  </thead>\n",
       "  <tbody>\n",
       "    <tr>\n",
       "      <th>0</th>\n",
       "      <td>7.459561</td>\n",
       "      <td>2329.5903</td>\n",
       "      <td>1.392216e-10</td>\n",
       "      <td>2.179690</td>\n",
       "      <td>2.063685</td>\n",
       "      <td>0.091939</td>\n",
       "      <td>0.749253</td>\n",
       "      <td>1.993013</td>\n",
       "      <td>0.150609</td>\n",
       "      <td>1.292339</td>\n",
       "      <td>305.21463</td>\n",
       "      <td>14.602470</td>\n",
       "      <td>0.215777</td>\n",
       "      <td>NaN</td>\n",
       "    </tr>\n",
       "    <tr>\n",
       "      <th>1</th>\n",
       "      <td>5.271726</td>\n",
       "      <td>1304.1947</td>\n",
       "      <td>1.951913e-10</td>\n",
       "      <td>2.349694</td>\n",
       "      <td>2.069591</td>\n",
       "      <td>0.454411</td>\n",
       "      <td>2.549887</td>\n",
       "      <td>1.998095</td>\n",
       "      <td>0.586220</td>\n",
       "      <td>2.532814</td>\n",
       "      <td>197.24410</td>\n",
       "      <td>25.399525</td>\n",
       "      <td>0.687574</td>\n",
       "      <td>NaN</td>\n",
       "    </tr>\n",
       "    <tr>\n",
       "      <th>2</th>\n",
       "      <td>4.177483</td>\n",
       "      <td>6318.9400</td>\n",
       "      <td>7.202151e-11</td>\n",
       "      <td>1.852803</td>\n",
       "      <td>1.646164</td>\n",
       "      <td>0.376358</td>\n",
       "      <td>1.471138</td>\n",
       "      <td>1.507830</td>\n",
       "      <td>0.720244</td>\n",
       "      <td>1.562938</td>\n",
       "      <td>87.70652</td>\n",
       "      <td>13.650518</td>\n",
       "      <td>0.000000</td>\n",
       "      <td>NaN</td>\n",
       "    </tr>\n",
       "    <tr>\n",
       "      <th>3</th>\n",
       "      <td>4.692600</td>\n",
       "      <td>2420.5752</td>\n",
       "      <td>1.259796e-10</td>\n",
       "      <td>2.271696</td>\n",
       "      <td>2.254081</td>\n",
       "      <td>0.012156</td>\n",
       "      <td>0.083893</td>\n",
       "      <td>2.219642</td>\n",
       "      <td>0.029462</td>\n",
       "      <td>0.337723</td>\n",
       "      <td>293.14978</td>\n",
       "      <td>25.313953</td>\n",
       "      <td>0.675882</td>\n",
       "      <td>bcu</td>\n",
       "    </tr>\n",
       "    <tr>\n",
       "      <th>4</th>\n",
       "      <td>23.782486</td>\n",
       "      <td>1721.6039</td>\n",
       "      <td>7.471219e-10</td>\n",
       "      <td>2.116692</td>\n",
       "      <td>2.078927</td>\n",
       "      <td>0.051182</td>\n",
       "      <td>1.697737</td>\n",
       "      <td>2.046604</td>\n",
       "      <td>0.063212</td>\n",
       "      <td>1.892928</td>\n",
       "      <td>1192.35190</td>\n",
       "      <td>46.780693</td>\n",
       "      <td>0.406565</td>\n",
       "      <td>bll</td>\n",
       "    </tr>\n",
       "  </tbody>\n",
       "</table>\n",
       "</div>"
      ],
      "text/plain": [
       "   Signif_Avg  Pivot_Energy      Flux1000  PL_Index  LP_Index   LP_beta  \\\n",
       "0    7.459561     2329.5903  1.392216e-10  2.179690  2.063685  0.091939   \n",
       "1    5.271726     1304.1947  1.951913e-10  2.349694  2.069591  0.454411   \n",
       "2    4.177483     6318.9400  7.202151e-11  1.852803  1.646164  0.376358   \n",
       "3    4.692600     2420.5752  1.259796e-10  2.271696  2.254081  0.012156   \n",
       "4   23.782486     1721.6039  7.471219e-10  2.116692  2.078927  0.051182   \n",
       "\n",
       "   LP_SigCurv  PLEC_IndexS  PLEC_ExpfactorS  PLEC_SigCurv       Npred  \\\n",
       "0    0.749253     1.993013         0.150609      1.292339   305.21463   \n",
       "1    2.549887     1.998095         0.586220      2.532814   197.24410   \n",
       "2    1.471138     1.507830         0.720244      1.562938    87.70652   \n",
       "3    0.083893     2.219642         0.029462      0.337723   293.14978   \n",
       "4    1.697737     2.046604         0.063212      1.892928  1192.35190   \n",
       "\n",
       "   Variability_Index  Frac_Variability CLASS1  \n",
       "0          14.602470          0.215777    NaN  \n",
       "1          25.399525          0.687574    NaN  \n",
       "2          13.650518          0.000000    NaN  \n",
       "3          25.313953          0.675882  bcu    \n",
       "4          46.780693          0.406565  bll    "
      ]
     },
     "execution_count": 50,
     "metadata": {},
     "output_type": "execute_result"
    }
   ],
   "source": [
    "data.head()"
   ]
  },
  {
   "cell_type": "code",
   "execution_count": 51,
   "id": "0888c22b",
   "metadata": {
    "execution": {
     "iopub.execute_input": "2023-02-28T11:42:24.127002Z",
     "iopub.status.busy": "2023-02-28T11:42:24.126615Z",
     "iopub.status.idle": "2023-02-28T11:42:39.071892Z",
     "shell.execute_reply": "2023-02-28T11:42:39.070295Z"
    },
    "papermill": {
     "duration": 14.969236,
     "end_time": "2023-02-28T11:42:39.074505",
     "exception": false,
     "start_time": "2023-02-28T11:42:24.105269",
     "status": "completed"
    },
    "tags": []
   },
   "outputs": [
    {
     "name": "stdout",
     "output_type": "stream",
     "text": [
      "Collecting pgmpy\r\n",
      "  Downloading pgmpy-0.1.21-py3-none-any.whl (1.9 MB)\r\n",
      "\u001b[2K     \u001b[90m━━━━━━━━━━━━━━━━━━━━━━━━━━━━━━━━━━━━━━━━\u001b[0m \u001b[32m1.9/1.9 MB\u001b[0m \u001b[31m2.0 MB/s\u001b[0m eta \u001b[36m0:00:00\u001b[0m\r\n",
      "\u001b[?25hRequirement already satisfied: scikit-learn in /opt/conda/lib/python3.7/site-packages (from pgmpy) (1.0.2)\r\n",
      "Requirement already satisfied: tqdm in /opt/conda/lib/python3.7/site-packages (from pgmpy) (4.64.1)\r\n",
      "Requirement already satisfied: numpy in /opt/conda/lib/python3.7/site-packages (from pgmpy) (1.21.6)\r\n",
      "Requirement already satisfied: pyparsing in /opt/conda/lib/python3.7/site-packages (from pgmpy) (3.0.9)\r\n",
      "Requirement already satisfied: statsmodels in /opt/conda/lib/python3.7/site-packages (from pgmpy) (0.13.5)\r\n",
      "Requirement already satisfied: scipy in /opt/conda/lib/python3.7/site-packages (from pgmpy) (1.7.3)\r\n",
      "Requirement already satisfied: torch in /opt/conda/lib/python3.7/site-packages (from pgmpy) (1.13.0+cpu)\r\n",
      "Requirement already satisfied: joblib in /opt/conda/lib/python3.7/site-packages (from pgmpy) (1.2.0)\r\n",
      "Requirement already satisfied: networkx in /opt/conda/lib/python3.7/site-packages (from pgmpy) (2.6.3)\r\n",
      "Requirement already satisfied: pandas in /opt/conda/lib/python3.7/site-packages (from pgmpy) (1.3.5)\r\n",
      "Requirement already satisfied: opt-einsum in /opt/conda/lib/python3.7/site-packages (from pgmpy) (3.3.0)\r\n",
      "Requirement already satisfied: pytz>=2017.3 in /opt/conda/lib/python3.7/site-packages (from pandas->pgmpy) (2022.7.1)\r\n",
      "Requirement already satisfied: python-dateutil>=2.7.3 in /opt/conda/lib/python3.7/site-packages (from pandas->pgmpy) (2.8.2)\r\n",
      "Requirement already satisfied: threadpoolctl>=2.0.0 in /opt/conda/lib/python3.7/site-packages (from scikit-learn->pgmpy) (3.1.0)\r\n",
      "Requirement already satisfied: patsy>=0.5.2 in /opt/conda/lib/python3.7/site-packages (from statsmodels->pgmpy) (0.5.3)\r\n",
      "Requirement already satisfied: packaging>=21.3 in /opt/conda/lib/python3.7/site-packages (from statsmodels->pgmpy) (23.0)\r\n",
      "Requirement already satisfied: typing-extensions in /opt/conda/lib/python3.7/site-packages (from torch->pgmpy) (4.4.0)\r\n",
      "Requirement already satisfied: six in /opt/conda/lib/python3.7/site-packages (from patsy>=0.5.2->statsmodels->pgmpy) (1.16.0)\r\n",
      "Installing collected packages: pgmpy\r\n",
      "Successfully installed pgmpy-0.1.21\r\n",
      "\u001b[33mWARNING: Running pip as the 'root' user can result in broken permissions and conflicting behaviour with the system package manager. It is recommended to use a virtual environment instead: https://pip.pypa.io/warnings/venv\u001b[0m\u001b[33m\r\n",
      "\u001b[0mNote: you may need to restart the kernel to use updated packages.\n"
     ]
    }
   ],
   "source": [
    "pip install pgmpy"
   ]
  },
  {
   "cell_type": "code",
   "execution_count": 52,
   "id": "b0fad2ea",
   "metadata": {
    "execution": {
     "iopub.execute_input": "2023-02-28T11:42:39.121534Z",
     "iopub.status.busy": "2023-02-28T11:42:39.120626Z",
     "iopub.status.idle": "2023-02-28T11:42:39.721650Z",
     "shell.execute_reply": "2023-02-28T11:42:39.720327Z"
    },
    "papermill": {
     "duration": 0.627978,
     "end_time": "2023-02-28T11:42:39.724761",
     "exception": false,
     "start_time": "2023-02-28T11:42:39.096783",
     "status": "completed"
    },
    "tags": []
   },
   "outputs": [],
   "source": [
    "import numpy as np\n",
    "import pandas as pd\n",
    "\n",
    "\n",
    "# Calculate the frequency distribution of the non-null values in 'CLASS1'\n",
    "class1_freq_dist = data['CLASS1'].value_counts(normalize=True)\n",
    "\n",
    "# Impute missing values in 'CLASS1' using conditional random sampling\n",
    "imputations = []\n",
    "for i, row in data.iterrows():\n",
    "    if pd.isnull(row['CLASS1']):\n",
    "        imputed_value = np.random.choice(class1_freq_dist.index.values, p=class1_freq_dist.values)\n",
    "        imputations.append(imputed_value)\n",
    "    else:\n",
    "        imputations.append(row['CLASS1'])\n",
    "\n",
    "# Replace the missing values in 'CLASS1' with the imputed values\n",
    "data['CLASS1'] = imputations\n",
    "\n",
    "# Verify that the imputed_data contains no new unique values in 'CLASS1'\n",
    "assert set(data['CLASS1'].unique()) == set(data.dropna()['CLASS1'].unique())\n",
    "\n",
    "# Save the imputed data to a new file\n",
    "data.to_csv('your_imputed_data_file.csv', index=False)\n"
   ]
  },
  {
   "cell_type": "code",
   "execution_count": 53,
   "id": "12e3733a",
   "metadata": {
    "execution": {
     "iopub.execute_input": "2023-02-28T11:42:39.771134Z",
     "iopub.status.busy": "2023-02-28T11:42:39.770371Z",
     "iopub.status.idle": "2023-02-28T11:42:39.780264Z",
     "shell.execute_reply": "2023-02-28T11:42:39.779147Z"
    },
    "papermill": {
     "duration": 0.035891,
     "end_time": "2023-02-28T11:42:39.782788",
     "exception": false,
     "start_time": "2023-02-28T11:42:39.746897",
     "status": "completed"
    },
    "tags": []
   },
   "outputs": [
    {
     "data": {
      "text/plain": [
       "Signif_Avg           0\n",
       "Pivot_Energy         0\n",
       "Flux1000             0\n",
       "PL_Index             0\n",
       "LP_Index             0\n",
       "LP_beta              0\n",
       "LP_SigCurv           0\n",
       "PLEC_IndexS          0\n",
       "PLEC_ExpfactorS      0\n",
       "PLEC_SigCurv         0\n",
       "Npred                0\n",
       "Variability_Index    0\n",
       "Frac_Variability     0\n",
       "CLASS1               0\n",
       "dtype: int64"
      ]
     },
     "execution_count": 53,
     "metadata": {},
     "output_type": "execute_result"
    }
   ],
   "source": [
    "data.isnull().sum()"
   ]
  },
  {
   "cell_type": "code",
   "execution_count": 54,
   "id": "c4251c3d",
   "metadata": {
    "execution": {
     "iopub.execute_input": "2023-02-28T11:42:39.828709Z",
     "iopub.status.busy": "2023-02-28T11:42:39.828250Z",
     "iopub.status.idle": "2023-02-28T11:42:39.838401Z",
     "shell.execute_reply": "2023-02-28T11:42:39.837082Z"
    },
    "papermill": {
     "duration": 0.035941,
     "end_time": "2023-02-28T11:42:39.840827",
     "exception": false,
     "start_time": "2023-02-28T11:42:39.804886",
     "status": "completed"
    },
    "tags": []
   },
   "outputs": [
    {
     "data": {
      "text/plain": [
       "bcu      2231\n",
       "bll      2127\n",
       "fsrq     1094\n",
       "PSR       203\n",
       "unk       187\n",
       "MSP       180\n",
       "spp       160\n",
       "FSRQ       69\n",
       "glc        54\n",
       "rdg        54\n",
       "msp        52\n",
       "SNR        35\n",
       "BLL        31\n",
       "snr        30\n",
       "PWN        19\n",
       "pwn        13\n",
       "agn        12\n",
       "lmb        11\n",
       "sbg        11\n",
       "HMB        11\n",
       "bin         9\n",
       "RDG         9\n",
       "css         7\n",
       "NLSY1       6\n",
       "nlsy1       6\n",
       "gal         5\n",
       "sey         4\n",
       "hmb         4\n",
       "NOV         4\n",
       "LMB         3\n",
       "sfr         3\n",
       "psr         3\n",
       "SFR         3\n",
       "ssrq        2\n",
       "GAL         2\n",
       "AGN         1\n",
       "BCU         1\n",
       "BIN         1\n",
       "GC          1\n",
       "Name: CLASS1, dtype: int64"
      ]
     },
     "execution_count": 54,
     "metadata": {},
     "output_type": "execute_result"
    }
   ],
   "source": [
    "data['CLASS1'].value_counts()"
   ]
  },
  {
   "cell_type": "markdown",
   "id": "8649794e",
   "metadata": {
    "papermill": {
     "duration": 0.021915,
     "end_time": "2023-02-28T11:42:39.885001",
     "exception": false,
     "start_time": "2023-02-28T11:42:39.863086",
     "status": "completed"
    },
    "tags": []
   },
   "source": [
    "smote"
   ]
  },
  {
   "cell_type": "code",
   "execution_count": 55,
   "id": "89b18e84",
   "metadata": {
    "execution": {
     "iopub.execute_input": "2023-02-28T11:42:39.931042Z",
     "iopub.status.busy": "2023-02-28T11:42:39.930472Z",
     "iopub.status.idle": "2023-02-28T11:42:39.938454Z",
     "shell.execute_reply": "2023-02-28T11:42:39.937117Z"
    },
    "papermill": {
     "duration": 0.034109,
     "end_time": "2023-02-28T11:42:39.941042",
     "exception": false,
     "start_time": "2023-02-28T11:42:39.906933",
     "status": "completed"
    },
    "tags": []
   },
   "outputs": [
    {
     "data": {
      "text/plain": [
       "(6658, 14)"
      ]
     },
     "execution_count": 55,
     "metadata": {},
     "output_type": "execute_result"
    }
   ],
   "source": [
    "data.shape"
   ]
  },
  {
   "cell_type": "code",
   "execution_count": null,
   "id": "2a4cb71b",
   "metadata": {
    "papermill": {
     "duration": 0.021769,
     "end_time": "2023-02-28T11:42:39.985607",
     "exception": false,
     "start_time": "2023-02-28T11:42:39.963838",
     "status": "completed"
    },
    "tags": []
   },
   "outputs": [],
   "source": []
  }
 ],
 "metadata": {
  "kernelspec": {
   "display_name": "Python 3",
   "language": "python",
   "name": "python3"
  },
  "language_info": {
   "codemirror_mode": {
    "name": "ipython",
    "version": 3
   },
   "file_extension": ".py",
   "mimetype": "text/x-python",
   "name": "python",
   "nbconvert_exporter": "python",
   "pygments_lexer": "ipython3",
   "version": "3.7.12"
  },
  "papermill": {
   "default_parameters": {},
   "duration": 32.263824,
   "end_time": "2023-02-28T11:42:40.830240",
   "environment_variables": {},
   "exception": null,
   "input_path": "__notebook__.ipynb",
   "output_path": "__notebook__.ipynb",
   "parameters": {},
   "start_time": "2023-02-28T11:42:08.566416",
   "version": "2.4.0"
  }
 },
 "nbformat": 4,
 "nbformat_minor": 5
}
